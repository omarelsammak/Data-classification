{
  "cells": [
    {
      "cell_type": "code",
      "execution_count": 1,
      "id": "4e52179f",
      "metadata": {
        "id": "4e52179f"
      },
      "outputs": [],
      "source": [
        "import numpy as np\n",
        "import pandas as pd\n",
        "import matplotlib.pyplot as plt\n",
        "import seaborn as sns\n",
        "import random\n",
        "from sklearn.preprocessing import LabelEncoder , StandardScaler\n",
        "from sklearn.model_selection import train_test_split , RepeatedStratifiedKFold , GridSearchCV\n",
        "from sklearn.naive_bayes import GaussianNB\n",
        "from sklearn.neighbors import KNeighborsClassifier\n",
        "from sklearn.ensemble import RandomForestClassifier\n",
        "from sklearn.ensemble import AdaBoostClassifier\n",
        "from sklearn.tree import DecisionTreeClassifier\n",
        "from sklearn.metrics import confusion_matrix, accuracy_score, classification_report , ConfusionMatrixDisplay\n",
        "from sklearn.model_selection import cross_val_score, StratifiedKFold\n",
        "from sklearn.metrics import f1_score\n",
        "import torch\n",
        "from torch import nn\n",
        "from torch.utils.data import TensorDataset , DataLoader\n",
        "from statistics import mean"
      ]
    },
    {
      "cell_type": "markdown",
      "id": "efbd98b2",
      "metadata": {
        "id": "efbd98b2"
      },
      "source": [
        "## Balancing data and saving it in another file"
      ]
    },
    {
      "cell_type": "code",
      "execution_count": null,
      "id": "09ff002e",
      "metadata": {
        "id": "09ff002e"
      },
      "outputs": [],
      "source": [
        "columns = ['fLength', 'fWidth', 'fSize', 'fConc', 'fConc1', 'fAsym',  'fM3Long', 'fM3Trans', 'fAlpha', 'fDist', 'class']\n",
        "features = ['fLength', 'fWidth', 'fSize', 'fConc', 'fConc1', 'fAsym',  'fM3Long', 'fM3Trans', 'fAlpha', 'fDist']\n",
        "data=pd.read_csv('magic04.data',names=columns)"
      ]
    },
    {
      "cell_type": "code",
      "execution_count": null,
      "id": "406f804f",
      "metadata": {
        "id": "406f804f"
      },
      "outputs": [],
      "source": [
        "i=5644\n",
        "while i>0:\n",
        "    j=random.randint(0,12331)\n",
        "    if data.iloc[j,10]=='g':\n",
        "        data=data.drop(data.index[j])\n",
        "        i-=1\n",
        "data=data.reset_index(drop=True)"
      ]
    },
    {
      "cell_type": "code",
      "execution_count": null,
      "id": "f2f73989",
      "metadata": {
        "id": "f2f73989"
      },
      "outputs": [],
      "source": [
        "data.to_csv('modified_magic.csv',index=False)"
      ]
    },
    {
      "cell_type": "markdown",
      "id": "73cb83a0",
      "metadata": {
        "id": "73cb83a0"
      },
      "source": [
        "## Begin"
      ]
    },
    {
      "cell_type": "code",
      "execution_count": 2,
      "id": "845a35ec",
      "metadata": {
        "id": "845a35ec"
      },
      "outputs": [],
      "source": [
        "data=pd.read_csv('/content/sample_data/modified_magic.csv')"
      ]
    },
    {
      "cell_type": "code",
      "execution_count": 3,
      "id": "0cfd77b9",
      "metadata": {
        "id": "0cfd77b9",
        "outputId": "11ceda12-50e9-46dc-985f-b82d42374032",
        "colab": {
          "base_uri": "https://localhost:8080/",
          "height": 424
        }
      },
      "outputs": [
        {
          "output_type": "execute_result",
          "data": {
            "text/plain": [
              "        fLength    fWidth   fSize   fConc  fConc1     fAsym   fM3Long  \\\n",
              "0       31.6036   11.7235  2.5185  0.5303  0.3773   26.2722   23.8238   \n",
              "1      162.0520  136.0310  4.0612  0.0374  0.0187  116.7410  -64.8580   \n",
              "2       23.8172    9.5728  2.3385  0.6147  0.3922   27.2107   -6.4633   \n",
              "3       75.1362   30.9205  3.1611  0.3168  0.1832   -5.5277   28.5525   \n",
              "4       51.6240   21.1502  2.9085  0.2420  0.1340   50.8761   43.1887   \n",
              "...         ...       ...     ...     ...     ...       ...       ...   \n",
              "13371   21.3846   10.9170  2.6161  0.5857  0.3934   15.2618   11.5245   \n",
              "13372   28.9452    6.7020  2.2672  0.5351  0.2784   37.0816   13.1853   \n",
              "13373   75.4455   47.5305  3.4483  0.1417  0.0549   -9.3561   41.0562   \n",
              "13374  120.5135   76.9018  3.9939  0.0944  0.0683    5.8043  -93.5224   \n",
              "13375  187.1814   53.0014  3.2093  0.2876  0.1539 -167.3125 -168.4558   \n",
              "\n",
              "       fM3Trans   fAlpha     fDist class  \n",
              "0       -9.9574   6.3609  205.2610     g  \n",
              "1      -45.2160  76.9600  256.7880     g  \n",
              "2       -7.1513  10.4490  116.7370     g  \n",
              "3       21.8393   4.6480  356.4620     g  \n",
              "4        9.8145   3.6130  238.0980     g  \n",
              "...         ...      ...       ...   ...  \n",
              "13371    2.8766   2.4229  106.8258     h  \n",
              "13372   -2.9632  86.7975  247.4560     h  \n",
              "13373   -9.4662  30.2987  256.5166     h  \n",
              "13374  -63.8389  84.6874  408.3166     h  \n",
              "13375   31.4755  52.7310  272.3174     h  \n",
              "\n",
              "[13376 rows x 11 columns]"
            ],
            "text/html": [
              "\n",
              "  <div id=\"df-e8cd6907-5daf-4453-ae86-f3c0344d6b92\">\n",
              "    <div class=\"colab-df-container\">\n",
              "      <div>\n",
              "<style scoped>\n",
              "    .dataframe tbody tr th:only-of-type {\n",
              "        vertical-align: middle;\n",
              "    }\n",
              "\n",
              "    .dataframe tbody tr th {\n",
              "        vertical-align: top;\n",
              "    }\n",
              "\n",
              "    .dataframe thead th {\n",
              "        text-align: right;\n",
              "    }\n",
              "</style>\n",
              "<table border=\"1\" class=\"dataframe\">\n",
              "  <thead>\n",
              "    <tr style=\"text-align: right;\">\n",
              "      <th></th>\n",
              "      <th>fLength</th>\n",
              "      <th>fWidth</th>\n",
              "      <th>fSize</th>\n",
              "      <th>fConc</th>\n",
              "      <th>fConc1</th>\n",
              "      <th>fAsym</th>\n",
              "      <th>fM3Long</th>\n",
              "      <th>fM3Trans</th>\n",
              "      <th>fAlpha</th>\n",
              "      <th>fDist</th>\n",
              "      <th>class</th>\n",
              "    </tr>\n",
              "  </thead>\n",
              "  <tbody>\n",
              "    <tr>\n",
              "      <th>0</th>\n",
              "      <td>31.6036</td>\n",
              "      <td>11.7235</td>\n",
              "      <td>2.5185</td>\n",
              "      <td>0.5303</td>\n",
              "      <td>0.3773</td>\n",
              "      <td>26.2722</td>\n",
              "      <td>23.8238</td>\n",
              "      <td>-9.9574</td>\n",
              "      <td>6.3609</td>\n",
              "      <td>205.2610</td>\n",
              "      <td>g</td>\n",
              "    </tr>\n",
              "    <tr>\n",
              "      <th>1</th>\n",
              "      <td>162.0520</td>\n",
              "      <td>136.0310</td>\n",
              "      <td>4.0612</td>\n",
              "      <td>0.0374</td>\n",
              "      <td>0.0187</td>\n",
              "      <td>116.7410</td>\n",
              "      <td>-64.8580</td>\n",
              "      <td>-45.2160</td>\n",
              "      <td>76.9600</td>\n",
              "      <td>256.7880</td>\n",
              "      <td>g</td>\n",
              "    </tr>\n",
              "    <tr>\n",
              "      <th>2</th>\n",
              "      <td>23.8172</td>\n",
              "      <td>9.5728</td>\n",
              "      <td>2.3385</td>\n",
              "      <td>0.6147</td>\n",
              "      <td>0.3922</td>\n",
              "      <td>27.2107</td>\n",
              "      <td>-6.4633</td>\n",
              "      <td>-7.1513</td>\n",
              "      <td>10.4490</td>\n",
              "      <td>116.7370</td>\n",
              "      <td>g</td>\n",
              "    </tr>\n",
              "    <tr>\n",
              "      <th>3</th>\n",
              "      <td>75.1362</td>\n",
              "      <td>30.9205</td>\n",
              "      <td>3.1611</td>\n",
              "      <td>0.3168</td>\n",
              "      <td>0.1832</td>\n",
              "      <td>-5.5277</td>\n",
              "      <td>28.5525</td>\n",
              "      <td>21.8393</td>\n",
              "      <td>4.6480</td>\n",
              "      <td>356.4620</td>\n",
              "      <td>g</td>\n",
              "    </tr>\n",
              "    <tr>\n",
              "      <th>4</th>\n",
              "      <td>51.6240</td>\n",
              "      <td>21.1502</td>\n",
              "      <td>2.9085</td>\n",
              "      <td>0.2420</td>\n",
              "      <td>0.1340</td>\n",
              "      <td>50.8761</td>\n",
              "      <td>43.1887</td>\n",
              "      <td>9.8145</td>\n",
              "      <td>3.6130</td>\n",
              "      <td>238.0980</td>\n",
              "      <td>g</td>\n",
              "    </tr>\n",
              "    <tr>\n",
              "      <th>...</th>\n",
              "      <td>...</td>\n",
              "      <td>...</td>\n",
              "      <td>...</td>\n",
              "      <td>...</td>\n",
              "      <td>...</td>\n",
              "      <td>...</td>\n",
              "      <td>...</td>\n",
              "      <td>...</td>\n",
              "      <td>...</td>\n",
              "      <td>...</td>\n",
              "      <td>...</td>\n",
              "    </tr>\n",
              "    <tr>\n",
              "      <th>13371</th>\n",
              "      <td>21.3846</td>\n",
              "      <td>10.9170</td>\n",
              "      <td>2.6161</td>\n",
              "      <td>0.5857</td>\n",
              "      <td>0.3934</td>\n",
              "      <td>15.2618</td>\n",
              "      <td>11.5245</td>\n",
              "      <td>2.8766</td>\n",
              "      <td>2.4229</td>\n",
              "      <td>106.8258</td>\n",
              "      <td>h</td>\n",
              "    </tr>\n",
              "    <tr>\n",
              "      <th>13372</th>\n",
              "      <td>28.9452</td>\n",
              "      <td>6.7020</td>\n",
              "      <td>2.2672</td>\n",
              "      <td>0.5351</td>\n",
              "      <td>0.2784</td>\n",
              "      <td>37.0816</td>\n",
              "      <td>13.1853</td>\n",
              "      <td>-2.9632</td>\n",
              "      <td>86.7975</td>\n",
              "      <td>247.4560</td>\n",
              "      <td>h</td>\n",
              "    </tr>\n",
              "    <tr>\n",
              "      <th>13373</th>\n",
              "      <td>75.4455</td>\n",
              "      <td>47.5305</td>\n",
              "      <td>3.4483</td>\n",
              "      <td>0.1417</td>\n",
              "      <td>0.0549</td>\n",
              "      <td>-9.3561</td>\n",
              "      <td>41.0562</td>\n",
              "      <td>-9.4662</td>\n",
              "      <td>30.2987</td>\n",
              "      <td>256.5166</td>\n",
              "      <td>h</td>\n",
              "    </tr>\n",
              "    <tr>\n",
              "      <th>13374</th>\n",
              "      <td>120.5135</td>\n",
              "      <td>76.9018</td>\n",
              "      <td>3.9939</td>\n",
              "      <td>0.0944</td>\n",
              "      <td>0.0683</td>\n",
              "      <td>5.8043</td>\n",
              "      <td>-93.5224</td>\n",
              "      <td>-63.8389</td>\n",
              "      <td>84.6874</td>\n",
              "      <td>408.3166</td>\n",
              "      <td>h</td>\n",
              "    </tr>\n",
              "    <tr>\n",
              "      <th>13375</th>\n",
              "      <td>187.1814</td>\n",
              "      <td>53.0014</td>\n",
              "      <td>3.2093</td>\n",
              "      <td>0.2876</td>\n",
              "      <td>0.1539</td>\n",
              "      <td>-167.3125</td>\n",
              "      <td>-168.4558</td>\n",
              "      <td>31.4755</td>\n",
              "      <td>52.7310</td>\n",
              "      <td>272.3174</td>\n",
              "      <td>h</td>\n",
              "    </tr>\n",
              "  </tbody>\n",
              "</table>\n",
              "<p>13376 rows × 11 columns</p>\n",
              "</div>\n",
              "      <button class=\"colab-df-convert\" onclick=\"convertToInteractive('df-e8cd6907-5daf-4453-ae86-f3c0344d6b92')\"\n",
              "              title=\"Convert this dataframe to an interactive table.\"\n",
              "              style=\"display:none;\">\n",
              "        \n",
              "  <svg xmlns=\"http://www.w3.org/2000/svg\" height=\"24px\"viewBox=\"0 0 24 24\"\n",
              "       width=\"24px\">\n",
              "    <path d=\"M0 0h24v24H0V0z\" fill=\"none\"/>\n",
              "    <path d=\"M18.56 5.44l.94 2.06.94-2.06 2.06-.94-2.06-.94-.94-2.06-.94 2.06-2.06.94zm-11 1L8.5 8.5l.94-2.06 2.06-.94-2.06-.94L8.5 2.5l-.94 2.06-2.06.94zm10 10l.94 2.06.94-2.06 2.06-.94-2.06-.94-.94-2.06-.94 2.06-2.06.94z\"/><path d=\"M17.41 7.96l-1.37-1.37c-.4-.4-.92-.59-1.43-.59-.52 0-1.04.2-1.43.59L10.3 9.45l-7.72 7.72c-.78.78-.78 2.05 0 2.83L4 21.41c.39.39.9.59 1.41.59.51 0 1.02-.2 1.41-.59l7.78-7.78 2.81-2.81c.8-.78.8-2.07 0-2.86zM5.41 20L4 18.59l7.72-7.72 1.47 1.35L5.41 20z\"/>\n",
              "  </svg>\n",
              "      </button>\n",
              "      \n",
              "  <style>\n",
              "    .colab-df-container {\n",
              "      display:flex;\n",
              "      flex-wrap:wrap;\n",
              "      gap: 12px;\n",
              "    }\n",
              "\n",
              "    .colab-df-convert {\n",
              "      background-color: #E8F0FE;\n",
              "      border: none;\n",
              "      border-radius: 50%;\n",
              "      cursor: pointer;\n",
              "      display: none;\n",
              "      fill: #1967D2;\n",
              "      height: 32px;\n",
              "      padding: 0 0 0 0;\n",
              "      width: 32px;\n",
              "    }\n",
              "\n",
              "    .colab-df-convert:hover {\n",
              "      background-color: #E2EBFA;\n",
              "      box-shadow: 0px 1px 2px rgba(60, 64, 67, 0.3), 0px 1px 3px 1px rgba(60, 64, 67, 0.15);\n",
              "      fill: #174EA6;\n",
              "    }\n",
              "\n",
              "    [theme=dark] .colab-df-convert {\n",
              "      background-color: #3B4455;\n",
              "      fill: #D2E3FC;\n",
              "    }\n",
              "\n",
              "    [theme=dark] .colab-df-convert:hover {\n",
              "      background-color: #434B5C;\n",
              "      box-shadow: 0px 1px 3px 1px rgba(0, 0, 0, 0.15);\n",
              "      filter: drop-shadow(0px 1px 2px rgba(0, 0, 0, 0.3));\n",
              "      fill: #FFFFFF;\n",
              "    }\n",
              "  </style>\n",
              "\n",
              "      <script>\n",
              "        const buttonEl =\n",
              "          document.querySelector('#df-e8cd6907-5daf-4453-ae86-f3c0344d6b92 button.colab-df-convert');\n",
              "        buttonEl.style.display =\n",
              "          google.colab.kernel.accessAllowed ? 'block' : 'none';\n",
              "\n",
              "        async function convertToInteractive(key) {\n",
              "          const element = document.querySelector('#df-e8cd6907-5daf-4453-ae86-f3c0344d6b92');\n",
              "          const dataTable =\n",
              "            await google.colab.kernel.invokeFunction('convertToInteractive',\n",
              "                                                     [key], {});\n",
              "          if (!dataTable) return;\n",
              "\n",
              "          const docLinkHtml = 'Like what you see? Visit the ' +\n",
              "            '<a target=\"_blank\" href=https://colab.research.google.com/notebooks/data_table.ipynb>data table notebook</a>'\n",
              "            + ' to learn more about interactive tables.';\n",
              "          element.innerHTML = '';\n",
              "          dataTable['output_type'] = 'display_data';\n",
              "          await google.colab.output.renderOutput(dataTable, element);\n",
              "          const docLink = document.createElement('div');\n",
              "          docLink.innerHTML = docLinkHtml;\n",
              "          element.appendChild(docLink);\n",
              "        }\n",
              "      </script>\n",
              "    </div>\n",
              "  </div>\n",
              "  "
            ]
          },
          "metadata": {},
          "execution_count": 3
        }
      ],
      "source": [
        "data"
      ]
    },
    {
      "cell_type": "code",
      "execution_count": 4,
      "id": "e1950c6b",
      "metadata": {
        "id": "e1950c6b",
        "outputId": "68f4d7b3-ec0c-449f-89f7-a58235f9d2d0",
        "colab": {
          "base_uri": "https://localhost:8080/"
        }
      },
      "outputs": [
        {
          "output_type": "execute_result",
          "data": {
            "text/plain": [
              "g    6688\n",
              "h    6688\n",
              "Name: class, dtype: int64"
            ]
          },
          "metadata": {},
          "execution_count": 4
        }
      ],
      "source": [
        "data['class'].value_counts()"
      ]
    },
    {
      "cell_type": "code",
      "execution_count": 5,
      "id": "510bdfc6",
      "metadata": {
        "id": "510bdfc6"
      },
      "outputs": [],
      "source": [
        "X = data.drop(columns = ['class']).copy()\n",
        "y = data['class']"
      ]
    },
    {
      "cell_type": "code",
      "execution_count": 6,
      "id": "c26ed364",
      "metadata": {
        "id": "c26ed364"
      },
      "outputs": [],
      "source": [
        "X_train, X_test, y_train, y_test = train_test_split(X, y, test_size = 0.3, random_state = 42,stratify=y)"
      ]
    },
    {
      "cell_type": "code",
      "execution_count": 7,
      "id": "e8da20b5",
      "metadata": {
        "id": "e8da20b5"
      },
      "outputs": [],
      "source": [
        "train_data=pd.concat([X_train,pd.DataFrame(y_train)],axis=1)\n",
        "test_data=pd.concat([X_test,pd.DataFrame(y_test)],axis=1)"
      ]
    },
    {
      "cell_type": "code",
      "source": [
        "train_data"
      ],
      "metadata": {
        "colab": {
          "base_uri": "https://localhost:8080/",
          "height": 424
        },
        "id": "lgplZmz7QR5d",
        "outputId": "f99599e9-f415-442e-ddb8-4d3635f05078"
      },
      "id": "lgplZmz7QR5d",
      "execution_count": 8,
      "outputs": [
        {
          "output_type": "execute_result",
          "data": {
            "text/plain": [
              "        fLength    fWidth   fSize   fConc  fConc1     fAsym   fM3Long  \\\n",
              "11979   21.4374    9.7783  2.2304  0.6353  0.3324   22.3045   18.1132   \n",
              "12753  140.6142  104.4255  3.8789  0.0583  0.0390  -22.6560   59.7584   \n",
              "10679  168.6169   95.4345  3.6384  0.1288  0.0565 -165.1025  -62.3979   \n",
              "5405   113.9130   23.3338  3.0699  0.1890  0.1052  101.6200  110.1700   \n",
              "10628   22.1815    7.3637  2.4922  0.7970  0.4865    4.3987   -9.5286   \n",
              "...         ...       ...     ...     ...     ...       ...       ...   \n",
              "1268    20.1638   12.7267  2.4448  0.4452  0.2316  -19.1572   -6.4733   \n",
              "5582    48.3689   21.4332  3.1074  0.2351  0.1339   54.2967  -23.6248   \n",
              "12173   57.2899   11.9934  2.9506  0.2476  0.1350  -37.6898   45.8293   \n",
              "11079   31.1667    9.0403  2.3646  0.5054  0.2959   32.7075   26.0651   \n",
              "8014   214.8060   43.6493  3.2238  0.2037  0.1275 -144.4830 -176.8730   \n",
              "\n",
              "       fM3Trans   fAlpha     fDist class  \n",
              "11979  -11.1708  35.3391  229.7000     h  \n",
              "12753  -55.2579  85.1154  295.2699     h  \n",
              "10679  -87.2004  31.7599  185.7593     h  \n",
              "5405    17.0380  10.8666  284.7470     g  \n",
              "10628   -7.9688  82.0983  240.7557     h  \n",
              "...         ...      ...       ...   ...  \n",
              "1268     6.7455  11.6550  188.7000     g  \n",
              "5582    14.5762   6.6160  184.4000     g  \n",
              "12173   -9.8456  37.1283  154.4390     h  \n",
              "11079  -10.6431  66.5470  242.7630     h  \n",
              "8014   -25.9975  52.9093  275.1510     h  \n",
              "\n",
              "[9363 rows x 11 columns]"
            ],
            "text/html": [
              "\n",
              "  <div id=\"df-018bc7ca-9bc3-441a-bf67-f8f777e07994\">\n",
              "    <div class=\"colab-df-container\">\n",
              "      <div>\n",
              "<style scoped>\n",
              "    .dataframe tbody tr th:only-of-type {\n",
              "        vertical-align: middle;\n",
              "    }\n",
              "\n",
              "    .dataframe tbody tr th {\n",
              "        vertical-align: top;\n",
              "    }\n",
              "\n",
              "    .dataframe thead th {\n",
              "        text-align: right;\n",
              "    }\n",
              "</style>\n",
              "<table border=\"1\" class=\"dataframe\">\n",
              "  <thead>\n",
              "    <tr style=\"text-align: right;\">\n",
              "      <th></th>\n",
              "      <th>fLength</th>\n",
              "      <th>fWidth</th>\n",
              "      <th>fSize</th>\n",
              "      <th>fConc</th>\n",
              "      <th>fConc1</th>\n",
              "      <th>fAsym</th>\n",
              "      <th>fM3Long</th>\n",
              "      <th>fM3Trans</th>\n",
              "      <th>fAlpha</th>\n",
              "      <th>fDist</th>\n",
              "      <th>class</th>\n",
              "    </tr>\n",
              "  </thead>\n",
              "  <tbody>\n",
              "    <tr>\n",
              "      <th>11979</th>\n",
              "      <td>21.4374</td>\n",
              "      <td>9.7783</td>\n",
              "      <td>2.2304</td>\n",
              "      <td>0.6353</td>\n",
              "      <td>0.3324</td>\n",
              "      <td>22.3045</td>\n",
              "      <td>18.1132</td>\n",
              "      <td>-11.1708</td>\n",
              "      <td>35.3391</td>\n",
              "      <td>229.7000</td>\n",
              "      <td>h</td>\n",
              "    </tr>\n",
              "    <tr>\n",
              "      <th>12753</th>\n",
              "      <td>140.6142</td>\n",
              "      <td>104.4255</td>\n",
              "      <td>3.8789</td>\n",
              "      <td>0.0583</td>\n",
              "      <td>0.0390</td>\n",
              "      <td>-22.6560</td>\n",
              "      <td>59.7584</td>\n",
              "      <td>-55.2579</td>\n",
              "      <td>85.1154</td>\n",
              "      <td>295.2699</td>\n",
              "      <td>h</td>\n",
              "    </tr>\n",
              "    <tr>\n",
              "      <th>10679</th>\n",
              "      <td>168.6169</td>\n",
              "      <td>95.4345</td>\n",
              "      <td>3.6384</td>\n",
              "      <td>0.1288</td>\n",
              "      <td>0.0565</td>\n",
              "      <td>-165.1025</td>\n",
              "      <td>-62.3979</td>\n",
              "      <td>-87.2004</td>\n",
              "      <td>31.7599</td>\n",
              "      <td>185.7593</td>\n",
              "      <td>h</td>\n",
              "    </tr>\n",
              "    <tr>\n",
              "      <th>5405</th>\n",
              "      <td>113.9130</td>\n",
              "      <td>23.3338</td>\n",
              "      <td>3.0699</td>\n",
              "      <td>0.1890</td>\n",
              "      <td>0.1052</td>\n",
              "      <td>101.6200</td>\n",
              "      <td>110.1700</td>\n",
              "      <td>17.0380</td>\n",
              "      <td>10.8666</td>\n",
              "      <td>284.7470</td>\n",
              "      <td>g</td>\n",
              "    </tr>\n",
              "    <tr>\n",
              "      <th>10628</th>\n",
              "      <td>22.1815</td>\n",
              "      <td>7.3637</td>\n",
              "      <td>2.4922</td>\n",
              "      <td>0.7970</td>\n",
              "      <td>0.4865</td>\n",
              "      <td>4.3987</td>\n",
              "      <td>-9.5286</td>\n",
              "      <td>-7.9688</td>\n",
              "      <td>82.0983</td>\n",
              "      <td>240.7557</td>\n",
              "      <td>h</td>\n",
              "    </tr>\n",
              "    <tr>\n",
              "      <th>...</th>\n",
              "      <td>...</td>\n",
              "      <td>...</td>\n",
              "      <td>...</td>\n",
              "      <td>...</td>\n",
              "      <td>...</td>\n",
              "      <td>...</td>\n",
              "      <td>...</td>\n",
              "      <td>...</td>\n",
              "      <td>...</td>\n",
              "      <td>...</td>\n",
              "      <td>...</td>\n",
              "    </tr>\n",
              "    <tr>\n",
              "      <th>1268</th>\n",
              "      <td>20.1638</td>\n",
              "      <td>12.7267</td>\n",
              "      <td>2.4448</td>\n",
              "      <td>0.4452</td>\n",
              "      <td>0.2316</td>\n",
              "      <td>-19.1572</td>\n",
              "      <td>-6.4733</td>\n",
              "      <td>6.7455</td>\n",
              "      <td>11.6550</td>\n",
              "      <td>188.7000</td>\n",
              "      <td>g</td>\n",
              "    </tr>\n",
              "    <tr>\n",
              "      <th>5582</th>\n",
              "      <td>48.3689</td>\n",
              "      <td>21.4332</td>\n",
              "      <td>3.1074</td>\n",
              "      <td>0.2351</td>\n",
              "      <td>0.1339</td>\n",
              "      <td>54.2967</td>\n",
              "      <td>-23.6248</td>\n",
              "      <td>14.5762</td>\n",
              "      <td>6.6160</td>\n",
              "      <td>184.4000</td>\n",
              "      <td>g</td>\n",
              "    </tr>\n",
              "    <tr>\n",
              "      <th>12173</th>\n",
              "      <td>57.2899</td>\n",
              "      <td>11.9934</td>\n",
              "      <td>2.9506</td>\n",
              "      <td>0.2476</td>\n",
              "      <td>0.1350</td>\n",
              "      <td>-37.6898</td>\n",
              "      <td>45.8293</td>\n",
              "      <td>-9.8456</td>\n",
              "      <td>37.1283</td>\n",
              "      <td>154.4390</td>\n",
              "      <td>h</td>\n",
              "    </tr>\n",
              "    <tr>\n",
              "      <th>11079</th>\n",
              "      <td>31.1667</td>\n",
              "      <td>9.0403</td>\n",
              "      <td>2.3646</td>\n",
              "      <td>0.5054</td>\n",
              "      <td>0.2959</td>\n",
              "      <td>32.7075</td>\n",
              "      <td>26.0651</td>\n",
              "      <td>-10.6431</td>\n",
              "      <td>66.5470</td>\n",
              "      <td>242.7630</td>\n",
              "      <td>h</td>\n",
              "    </tr>\n",
              "    <tr>\n",
              "      <th>8014</th>\n",
              "      <td>214.8060</td>\n",
              "      <td>43.6493</td>\n",
              "      <td>3.2238</td>\n",
              "      <td>0.2037</td>\n",
              "      <td>0.1275</td>\n",
              "      <td>-144.4830</td>\n",
              "      <td>-176.8730</td>\n",
              "      <td>-25.9975</td>\n",
              "      <td>52.9093</td>\n",
              "      <td>275.1510</td>\n",
              "      <td>h</td>\n",
              "    </tr>\n",
              "  </tbody>\n",
              "</table>\n",
              "<p>9363 rows × 11 columns</p>\n",
              "</div>\n",
              "      <button class=\"colab-df-convert\" onclick=\"convertToInteractive('df-018bc7ca-9bc3-441a-bf67-f8f777e07994')\"\n",
              "              title=\"Convert this dataframe to an interactive table.\"\n",
              "              style=\"display:none;\">\n",
              "        \n",
              "  <svg xmlns=\"http://www.w3.org/2000/svg\" height=\"24px\"viewBox=\"0 0 24 24\"\n",
              "       width=\"24px\">\n",
              "    <path d=\"M0 0h24v24H0V0z\" fill=\"none\"/>\n",
              "    <path d=\"M18.56 5.44l.94 2.06.94-2.06 2.06-.94-2.06-.94-.94-2.06-.94 2.06-2.06.94zm-11 1L8.5 8.5l.94-2.06 2.06-.94-2.06-.94L8.5 2.5l-.94 2.06-2.06.94zm10 10l.94 2.06.94-2.06 2.06-.94-2.06-.94-.94-2.06-.94 2.06-2.06.94z\"/><path d=\"M17.41 7.96l-1.37-1.37c-.4-.4-.92-.59-1.43-.59-.52 0-1.04.2-1.43.59L10.3 9.45l-7.72 7.72c-.78.78-.78 2.05 0 2.83L4 21.41c.39.39.9.59 1.41.59.51 0 1.02-.2 1.41-.59l7.78-7.78 2.81-2.81c.8-.78.8-2.07 0-2.86zM5.41 20L4 18.59l7.72-7.72 1.47 1.35L5.41 20z\"/>\n",
              "  </svg>\n",
              "      </button>\n",
              "      \n",
              "  <style>\n",
              "    .colab-df-container {\n",
              "      display:flex;\n",
              "      flex-wrap:wrap;\n",
              "      gap: 12px;\n",
              "    }\n",
              "\n",
              "    .colab-df-convert {\n",
              "      background-color: #E8F0FE;\n",
              "      border: none;\n",
              "      border-radius: 50%;\n",
              "      cursor: pointer;\n",
              "      display: none;\n",
              "      fill: #1967D2;\n",
              "      height: 32px;\n",
              "      padding: 0 0 0 0;\n",
              "      width: 32px;\n",
              "    }\n",
              "\n",
              "    .colab-df-convert:hover {\n",
              "      background-color: #E2EBFA;\n",
              "      box-shadow: 0px 1px 2px rgba(60, 64, 67, 0.3), 0px 1px 3px 1px rgba(60, 64, 67, 0.15);\n",
              "      fill: #174EA6;\n",
              "    }\n",
              "\n",
              "    [theme=dark] .colab-df-convert {\n",
              "      background-color: #3B4455;\n",
              "      fill: #D2E3FC;\n",
              "    }\n",
              "\n",
              "    [theme=dark] .colab-df-convert:hover {\n",
              "      background-color: #434B5C;\n",
              "      box-shadow: 0px 1px 3px 1px rgba(0, 0, 0, 0.15);\n",
              "      filter: drop-shadow(0px 1px 2px rgba(0, 0, 0, 0.3));\n",
              "      fill: #FFFFFF;\n",
              "    }\n",
              "  </style>\n",
              "\n",
              "      <script>\n",
              "        const buttonEl =\n",
              "          document.querySelector('#df-018bc7ca-9bc3-441a-bf67-f8f777e07994 button.colab-df-convert');\n",
              "        buttonEl.style.display =\n",
              "          google.colab.kernel.accessAllowed ? 'block' : 'none';\n",
              "\n",
              "        async function convertToInteractive(key) {\n",
              "          const element = document.querySelector('#df-018bc7ca-9bc3-441a-bf67-f8f777e07994');\n",
              "          const dataTable =\n",
              "            await google.colab.kernel.invokeFunction('convertToInteractive',\n",
              "                                                     [key], {});\n",
              "          if (!dataTable) return;\n",
              "\n",
              "          const docLinkHtml = 'Like what you see? Visit the ' +\n",
              "            '<a target=\"_blank\" href=https://colab.research.google.com/notebooks/data_table.ipynb>data table notebook</a>'\n",
              "            + ' to learn more about interactive tables.';\n",
              "          element.innerHTML = '';\n",
              "          dataTable['output_type'] = 'display_data';\n",
              "          await google.colab.output.renderOutput(dataTable, element);\n",
              "          const docLink = document.createElement('div');\n",
              "          docLink.innerHTML = docLinkHtml;\n",
              "          element.appendChild(docLink);\n",
              "        }\n",
              "      </script>\n",
              "    </div>\n",
              "  </div>\n",
              "  "
            ]
          },
          "metadata": {},
          "execution_count": 8
        }
      ]
    },
    {
      "cell_type": "code",
      "source": [
        "test_data"
      ],
      "metadata": {
        "colab": {
          "base_uri": "https://localhost:8080/",
          "height": 424
        },
        "id": "S-SC2pLi1dN8",
        "outputId": "d260a051-82ef-4e4d-f2c2-b3078eba8b96"
      },
      "id": "S-SC2pLi1dN8",
      "execution_count": 9,
      "outputs": [
        {
          "output_type": "execute_result",
          "data": {
            "text/plain": [
              "        fLength   fWidth   fSize   fConc  fConc1     fAsym  fM3Long  fM3Trans  \\\n",
              "754     66.0687  20.3533  2.9643  0.2823  0.1493  -50.6715 -43.5782  -12.3356   \n",
              "6398    69.1158  20.1654  3.0461  0.2392  0.1245   24.6108  56.1297   13.4596   \n",
              "12358  106.9500  91.6046  3.6199  0.1982  0.1136 -181.1410  87.7473  -73.5722   \n",
              "10596   52.9512  18.4642  2.8982  0.2402  0.1321  -11.5361  36.6526   10.5417   \n",
              "8670    81.3168  29.5452  3.0731  0.2317  0.1304 -109.3272  57.2042   36.8897   \n",
              "...         ...      ...     ...     ...     ...       ...      ...       ...   \n",
              "6314    54.8714  21.7920  3.0191  0.2957  0.1641    6.9911  40.3780  -15.3335   \n",
              "7787    27.7999  17.5546  2.8014  0.3692  0.2107    6.9422   0.5586  -17.8538   \n",
              "7711    81.2405  18.0776  2.7189  0.3443  0.1663   20.1752  64.6191   -8.3390   \n",
              "13053   35.8431  31.3650  2.7312  0.3608  0.1811  -30.9958 -27.5521  -18.0018   \n",
              "390     27.1388  21.2758  2.8156  0.3379  0.1766  -10.7681  23.5939   21.1059   \n",
              "\n",
              "        fAlpha     fDist class  \n",
              "754     5.3690  280.9980     g  \n",
              "6398    0.2060  264.5620     g  \n",
              "12358  75.5990  428.4090     h  \n",
              "10596  15.7762  243.8490     h  \n",
              "8670   15.8253  315.2557     h  \n",
              "...        ...       ...   ...  \n",
              "6314    0.6510  245.1110     g  \n",
              "7787   30.5830  200.5103     h  \n",
              "7711   85.4906   40.1528     h  \n",
              "13053  12.2384  101.1014     h  \n",
              "390    30.8250  117.5400     g  \n",
              "\n",
              "[4013 rows x 11 columns]"
            ],
            "text/html": [
              "\n",
              "  <div id=\"df-a173b856-6308-4409-813f-3459fc382acc\">\n",
              "    <div class=\"colab-df-container\">\n",
              "      <div>\n",
              "<style scoped>\n",
              "    .dataframe tbody tr th:only-of-type {\n",
              "        vertical-align: middle;\n",
              "    }\n",
              "\n",
              "    .dataframe tbody tr th {\n",
              "        vertical-align: top;\n",
              "    }\n",
              "\n",
              "    .dataframe thead th {\n",
              "        text-align: right;\n",
              "    }\n",
              "</style>\n",
              "<table border=\"1\" class=\"dataframe\">\n",
              "  <thead>\n",
              "    <tr style=\"text-align: right;\">\n",
              "      <th></th>\n",
              "      <th>fLength</th>\n",
              "      <th>fWidth</th>\n",
              "      <th>fSize</th>\n",
              "      <th>fConc</th>\n",
              "      <th>fConc1</th>\n",
              "      <th>fAsym</th>\n",
              "      <th>fM3Long</th>\n",
              "      <th>fM3Trans</th>\n",
              "      <th>fAlpha</th>\n",
              "      <th>fDist</th>\n",
              "      <th>class</th>\n",
              "    </tr>\n",
              "  </thead>\n",
              "  <tbody>\n",
              "    <tr>\n",
              "      <th>754</th>\n",
              "      <td>66.0687</td>\n",
              "      <td>20.3533</td>\n",
              "      <td>2.9643</td>\n",
              "      <td>0.2823</td>\n",
              "      <td>0.1493</td>\n",
              "      <td>-50.6715</td>\n",
              "      <td>-43.5782</td>\n",
              "      <td>-12.3356</td>\n",
              "      <td>5.3690</td>\n",
              "      <td>280.9980</td>\n",
              "      <td>g</td>\n",
              "    </tr>\n",
              "    <tr>\n",
              "      <th>6398</th>\n",
              "      <td>69.1158</td>\n",
              "      <td>20.1654</td>\n",
              "      <td>3.0461</td>\n",
              "      <td>0.2392</td>\n",
              "      <td>0.1245</td>\n",
              "      <td>24.6108</td>\n",
              "      <td>56.1297</td>\n",
              "      <td>13.4596</td>\n",
              "      <td>0.2060</td>\n",
              "      <td>264.5620</td>\n",
              "      <td>g</td>\n",
              "    </tr>\n",
              "    <tr>\n",
              "      <th>12358</th>\n",
              "      <td>106.9500</td>\n",
              "      <td>91.6046</td>\n",
              "      <td>3.6199</td>\n",
              "      <td>0.1982</td>\n",
              "      <td>0.1136</td>\n",
              "      <td>-181.1410</td>\n",
              "      <td>87.7473</td>\n",
              "      <td>-73.5722</td>\n",
              "      <td>75.5990</td>\n",
              "      <td>428.4090</td>\n",
              "      <td>h</td>\n",
              "    </tr>\n",
              "    <tr>\n",
              "      <th>10596</th>\n",
              "      <td>52.9512</td>\n",
              "      <td>18.4642</td>\n",
              "      <td>2.8982</td>\n",
              "      <td>0.2402</td>\n",
              "      <td>0.1321</td>\n",
              "      <td>-11.5361</td>\n",
              "      <td>36.6526</td>\n",
              "      <td>10.5417</td>\n",
              "      <td>15.7762</td>\n",
              "      <td>243.8490</td>\n",
              "      <td>h</td>\n",
              "    </tr>\n",
              "    <tr>\n",
              "      <th>8670</th>\n",
              "      <td>81.3168</td>\n",
              "      <td>29.5452</td>\n",
              "      <td>3.0731</td>\n",
              "      <td>0.2317</td>\n",
              "      <td>0.1304</td>\n",
              "      <td>-109.3272</td>\n",
              "      <td>57.2042</td>\n",
              "      <td>36.8897</td>\n",
              "      <td>15.8253</td>\n",
              "      <td>315.2557</td>\n",
              "      <td>h</td>\n",
              "    </tr>\n",
              "    <tr>\n",
              "      <th>...</th>\n",
              "      <td>...</td>\n",
              "      <td>...</td>\n",
              "      <td>...</td>\n",
              "      <td>...</td>\n",
              "      <td>...</td>\n",
              "      <td>...</td>\n",
              "      <td>...</td>\n",
              "      <td>...</td>\n",
              "      <td>...</td>\n",
              "      <td>...</td>\n",
              "      <td>...</td>\n",
              "    </tr>\n",
              "    <tr>\n",
              "      <th>6314</th>\n",
              "      <td>54.8714</td>\n",
              "      <td>21.7920</td>\n",
              "      <td>3.0191</td>\n",
              "      <td>0.2957</td>\n",
              "      <td>0.1641</td>\n",
              "      <td>6.9911</td>\n",
              "      <td>40.3780</td>\n",
              "      <td>-15.3335</td>\n",
              "      <td>0.6510</td>\n",
              "      <td>245.1110</td>\n",
              "      <td>g</td>\n",
              "    </tr>\n",
              "    <tr>\n",
              "      <th>7787</th>\n",
              "      <td>27.7999</td>\n",
              "      <td>17.5546</td>\n",
              "      <td>2.8014</td>\n",
              "      <td>0.3692</td>\n",
              "      <td>0.2107</td>\n",
              "      <td>6.9422</td>\n",
              "      <td>0.5586</td>\n",
              "      <td>-17.8538</td>\n",
              "      <td>30.5830</td>\n",
              "      <td>200.5103</td>\n",
              "      <td>h</td>\n",
              "    </tr>\n",
              "    <tr>\n",
              "      <th>7711</th>\n",
              "      <td>81.2405</td>\n",
              "      <td>18.0776</td>\n",
              "      <td>2.7189</td>\n",
              "      <td>0.3443</td>\n",
              "      <td>0.1663</td>\n",
              "      <td>20.1752</td>\n",
              "      <td>64.6191</td>\n",
              "      <td>-8.3390</td>\n",
              "      <td>85.4906</td>\n",
              "      <td>40.1528</td>\n",
              "      <td>h</td>\n",
              "    </tr>\n",
              "    <tr>\n",
              "      <th>13053</th>\n",
              "      <td>35.8431</td>\n",
              "      <td>31.3650</td>\n",
              "      <td>2.7312</td>\n",
              "      <td>0.3608</td>\n",
              "      <td>0.1811</td>\n",
              "      <td>-30.9958</td>\n",
              "      <td>-27.5521</td>\n",
              "      <td>-18.0018</td>\n",
              "      <td>12.2384</td>\n",
              "      <td>101.1014</td>\n",
              "      <td>h</td>\n",
              "    </tr>\n",
              "    <tr>\n",
              "      <th>390</th>\n",
              "      <td>27.1388</td>\n",
              "      <td>21.2758</td>\n",
              "      <td>2.8156</td>\n",
              "      <td>0.3379</td>\n",
              "      <td>0.1766</td>\n",
              "      <td>-10.7681</td>\n",
              "      <td>23.5939</td>\n",
              "      <td>21.1059</td>\n",
              "      <td>30.8250</td>\n",
              "      <td>117.5400</td>\n",
              "      <td>g</td>\n",
              "    </tr>\n",
              "  </tbody>\n",
              "</table>\n",
              "<p>4013 rows × 11 columns</p>\n",
              "</div>\n",
              "      <button class=\"colab-df-convert\" onclick=\"convertToInteractive('df-a173b856-6308-4409-813f-3459fc382acc')\"\n",
              "              title=\"Convert this dataframe to an interactive table.\"\n",
              "              style=\"display:none;\">\n",
              "        \n",
              "  <svg xmlns=\"http://www.w3.org/2000/svg\" height=\"24px\"viewBox=\"0 0 24 24\"\n",
              "       width=\"24px\">\n",
              "    <path d=\"M0 0h24v24H0V0z\" fill=\"none\"/>\n",
              "    <path d=\"M18.56 5.44l.94 2.06.94-2.06 2.06-.94-2.06-.94-.94-2.06-.94 2.06-2.06.94zm-11 1L8.5 8.5l.94-2.06 2.06-.94-2.06-.94L8.5 2.5l-.94 2.06-2.06.94zm10 10l.94 2.06.94-2.06 2.06-.94-2.06-.94-.94-2.06-.94 2.06-2.06.94z\"/><path d=\"M17.41 7.96l-1.37-1.37c-.4-.4-.92-.59-1.43-.59-.52 0-1.04.2-1.43.59L10.3 9.45l-7.72 7.72c-.78.78-.78 2.05 0 2.83L4 21.41c.39.39.9.59 1.41.59.51 0 1.02-.2 1.41-.59l7.78-7.78 2.81-2.81c.8-.78.8-2.07 0-2.86zM5.41 20L4 18.59l7.72-7.72 1.47 1.35L5.41 20z\"/>\n",
              "  </svg>\n",
              "      </button>\n",
              "      \n",
              "  <style>\n",
              "    .colab-df-container {\n",
              "      display:flex;\n",
              "      flex-wrap:wrap;\n",
              "      gap: 12px;\n",
              "    }\n",
              "\n",
              "    .colab-df-convert {\n",
              "      background-color: #E8F0FE;\n",
              "      border: none;\n",
              "      border-radius: 50%;\n",
              "      cursor: pointer;\n",
              "      display: none;\n",
              "      fill: #1967D2;\n",
              "      height: 32px;\n",
              "      padding: 0 0 0 0;\n",
              "      width: 32px;\n",
              "    }\n",
              "\n",
              "    .colab-df-convert:hover {\n",
              "      background-color: #E2EBFA;\n",
              "      box-shadow: 0px 1px 2px rgba(60, 64, 67, 0.3), 0px 1px 3px 1px rgba(60, 64, 67, 0.15);\n",
              "      fill: #174EA6;\n",
              "    }\n",
              "\n",
              "    [theme=dark] .colab-df-convert {\n",
              "      background-color: #3B4455;\n",
              "      fill: #D2E3FC;\n",
              "    }\n",
              "\n",
              "    [theme=dark] .colab-df-convert:hover {\n",
              "      background-color: #434B5C;\n",
              "      box-shadow: 0px 1px 3px 1px rgba(0, 0, 0, 0.15);\n",
              "      filter: drop-shadow(0px 1px 2px rgba(0, 0, 0, 0.3));\n",
              "      fill: #FFFFFF;\n",
              "    }\n",
              "  </style>\n",
              "\n",
              "      <script>\n",
              "        const buttonEl =\n",
              "          document.querySelector('#df-a173b856-6308-4409-813f-3459fc382acc button.colab-df-convert');\n",
              "        buttonEl.style.display =\n",
              "          google.colab.kernel.accessAllowed ? 'block' : 'none';\n",
              "\n",
              "        async function convertToInteractive(key) {\n",
              "          const element = document.querySelector('#df-a173b856-6308-4409-813f-3459fc382acc');\n",
              "          const dataTable =\n",
              "            await google.colab.kernel.invokeFunction('convertToInteractive',\n",
              "                                                     [key], {});\n",
              "          if (!dataTable) return;\n",
              "\n",
              "          const docLinkHtml = 'Like what you see? Visit the ' +\n",
              "            '<a target=\"_blank\" href=https://colab.research.google.com/notebooks/data_table.ipynb>data table notebook</a>'\n",
              "            + ' to learn more about interactive tables.';\n",
              "          element.innerHTML = '';\n",
              "          dataTable['output_type'] = 'display_data';\n",
              "          await google.colab.output.renderOutput(dataTable, element);\n",
              "          const docLink = document.createElement('div');\n",
              "          docLink.innerHTML = docLinkHtml;\n",
              "          element.appendChild(docLink);\n",
              "        }\n",
              "      </script>\n",
              "    </div>\n",
              "  </div>\n",
              "  "
            ]
          },
          "metadata": {},
          "execution_count": 9
        }
      ]
    },
    {
      "cell_type": "code",
      "execution_count": 10,
      "id": "3595b544",
      "metadata": {
        "id": "3595b544",
        "outputId": "c8b5c257-3313-47b4-ef41-1bc90cdf1bea",
        "colab": {
          "base_uri": "https://localhost:8080/"
        }
      },
      "outputs": [
        {
          "output_type": "execute_result",
          "data": {
            "text/plain": [
              "h    4682\n",
              "g    4681\n",
              "Name: class, dtype: int64"
            ]
          },
          "metadata": {},
          "execution_count": 10
        }
      ],
      "source": [
        "train_data['class'].value_counts()"
      ]
    },
    {
      "cell_type": "code",
      "execution_count": 11,
      "id": "05b13dad",
      "metadata": {
        "id": "05b13dad",
        "outputId": "c918281c-d41b-419a-c5cd-0c5a98f5fbf7",
        "colab": {
          "base_uri": "https://localhost:8080/"
        }
      },
      "outputs": [
        {
          "output_type": "execute_result",
          "data": {
            "text/plain": [
              "g    2007\n",
              "h    2006\n",
              "Name: class, dtype: int64"
            ]
          },
          "metadata": {},
          "execution_count": 11
        }
      ],
      "source": [
        "test_data['class'].value_counts()"
      ]
    },
    {
      "cell_type": "code",
      "source": [
        "temp = train_data[train_data['class'] == 'h']\n",
        "rows = np.random.choice(temp.index.values, 1)\n",
        "sampled_df = train_data.loc[rows]\n",
        "sampled_df"
      ],
      "metadata": {
        "colab": {
          "base_uri": "https://localhost:8080/",
          "height": 81
        },
        "id": "oJqncg2cSOsv",
        "outputId": "01d2f2be-2698-456b-f0a6-63e450d200ed"
      },
      "id": "oJqncg2cSOsv",
      "execution_count": 12,
      "outputs": [
        {
          "output_type": "execute_result",
          "data": {
            "text/plain": [
              "       fLength   fWidth   fSize   fConc  fConc1    fAsym  fM3Long  fM3Trans  \\\n",
              "10473  71.7611  20.1438  2.8363  0.5026  0.3197 -87.9786 -47.0656  -14.9389   \n",
              "\n",
              "        fAlpha     fDist class  \n",
              "10473  48.4428  288.6459     h  "
            ],
            "text/html": [
              "\n",
              "  <div id=\"df-255a4ac8-40c0-4578-b4ad-6b9663c5d242\">\n",
              "    <div class=\"colab-df-container\">\n",
              "      <div>\n",
              "<style scoped>\n",
              "    .dataframe tbody tr th:only-of-type {\n",
              "        vertical-align: middle;\n",
              "    }\n",
              "\n",
              "    .dataframe tbody tr th {\n",
              "        vertical-align: top;\n",
              "    }\n",
              "\n",
              "    .dataframe thead th {\n",
              "        text-align: right;\n",
              "    }\n",
              "</style>\n",
              "<table border=\"1\" class=\"dataframe\">\n",
              "  <thead>\n",
              "    <tr style=\"text-align: right;\">\n",
              "      <th></th>\n",
              "      <th>fLength</th>\n",
              "      <th>fWidth</th>\n",
              "      <th>fSize</th>\n",
              "      <th>fConc</th>\n",
              "      <th>fConc1</th>\n",
              "      <th>fAsym</th>\n",
              "      <th>fM3Long</th>\n",
              "      <th>fM3Trans</th>\n",
              "      <th>fAlpha</th>\n",
              "      <th>fDist</th>\n",
              "      <th>class</th>\n",
              "    </tr>\n",
              "  </thead>\n",
              "  <tbody>\n",
              "    <tr>\n",
              "      <th>10473</th>\n",
              "      <td>71.7611</td>\n",
              "      <td>20.1438</td>\n",
              "      <td>2.8363</td>\n",
              "      <td>0.5026</td>\n",
              "      <td>0.3197</td>\n",
              "      <td>-87.9786</td>\n",
              "      <td>-47.0656</td>\n",
              "      <td>-14.9389</td>\n",
              "      <td>48.4428</td>\n",
              "      <td>288.6459</td>\n",
              "      <td>h</td>\n",
              "    </tr>\n",
              "  </tbody>\n",
              "</table>\n",
              "</div>\n",
              "      <button class=\"colab-df-convert\" onclick=\"convertToInteractive('df-255a4ac8-40c0-4578-b4ad-6b9663c5d242')\"\n",
              "              title=\"Convert this dataframe to an interactive table.\"\n",
              "              style=\"display:none;\">\n",
              "        \n",
              "  <svg xmlns=\"http://www.w3.org/2000/svg\" height=\"24px\"viewBox=\"0 0 24 24\"\n",
              "       width=\"24px\">\n",
              "    <path d=\"M0 0h24v24H0V0z\" fill=\"none\"/>\n",
              "    <path d=\"M18.56 5.44l.94 2.06.94-2.06 2.06-.94-2.06-.94-.94-2.06-.94 2.06-2.06.94zm-11 1L8.5 8.5l.94-2.06 2.06-.94-2.06-.94L8.5 2.5l-.94 2.06-2.06.94zm10 10l.94 2.06.94-2.06 2.06-.94-2.06-.94-.94-2.06-.94 2.06-2.06.94z\"/><path d=\"M17.41 7.96l-1.37-1.37c-.4-.4-.92-.59-1.43-.59-.52 0-1.04.2-1.43.59L10.3 9.45l-7.72 7.72c-.78.78-.78 2.05 0 2.83L4 21.41c.39.39.9.59 1.41.59.51 0 1.02-.2 1.41-.59l7.78-7.78 2.81-2.81c.8-.78.8-2.07 0-2.86zM5.41 20L4 18.59l7.72-7.72 1.47 1.35L5.41 20z\"/>\n",
              "  </svg>\n",
              "      </button>\n",
              "      \n",
              "  <style>\n",
              "    .colab-df-container {\n",
              "      display:flex;\n",
              "      flex-wrap:wrap;\n",
              "      gap: 12px;\n",
              "    }\n",
              "\n",
              "    .colab-df-convert {\n",
              "      background-color: #E8F0FE;\n",
              "      border: none;\n",
              "      border-radius: 50%;\n",
              "      cursor: pointer;\n",
              "      display: none;\n",
              "      fill: #1967D2;\n",
              "      height: 32px;\n",
              "      padding: 0 0 0 0;\n",
              "      width: 32px;\n",
              "    }\n",
              "\n",
              "    .colab-df-convert:hover {\n",
              "      background-color: #E2EBFA;\n",
              "      box-shadow: 0px 1px 2px rgba(60, 64, 67, 0.3), 0px 1px 3px 1px rgba(60, 64, 67, 0.15);\n",
              "      fill: #174EA6;\n",
              "    }\n",
              "\n",
              "    [theme=dark] .colab-df-convert {\n",
              "      background-color: #3B4455;\n",
              "      fill: #D2E3FC;\n",
              "    }\n",
              "\n",
              "    [theme=dark] .colab-df-convert:hover {\n",
              "      background-color: #434B5C;\n",
              "      box-shadow: 0px 1px 3px 1px rgba(0, 0, 0, 0.15);\n",
              "      filter: drop-shadow(0px 1px 2px rgba(0, 0, 0, 0.3));\n",
              "      fill: #FFFFFF;\n",
              "    }\n",
              "  </style>\n",
              "\n",
              "      <script>\n",
              "        const buttonEl =\n",
              "          document.querySelector('#df-255a4ac8-40c0-4578-b4ad-6b9663c5d242 button.colab-df-convert');\n",
              "        buttonEl.style.display =\n",
              "          google.colab.kernel.accessAllowed ? 'block' : 'none';\n",
              "\n",
              "        async function convertToInteractive(key) {\n",
              "          const element = document.querySelector('#df-255a4ac8-40c0-4578-b4ad-6b9663c5d242');\n",
              "          const dataTable =\n",
              "            await google.colab.kernel.invokeFunction('convertToInteractive',\n",
              "                                                     [key], {});\n",
              "          if (!dataTable) return;\n",
              "\n",
              "          const docLinkHtml = 'Like what you see? Visit the ' +\n",
              "            '<a target=\"_blank\" href=https://colab.research.google.com/notebooks/data_table.ipynb>data table notebook</a>'\n",
              "            + ' to learn more about interactive tables.';\n",
              "          element.innerHTML = '';\n",
              "          dataTable['output_type'] = 'display_data';\n",
              "          await google.colab.output.renderOutput(dataTable, element);\n",
              "          const docLink = document.createElement('div');\n",
              "          docLink.innerHTML = docLinkHtml;\n",
              "          element.appendChild(docLink);\n",
              "        }\n",
              "      </script>\n",
              "    </div>\n",
              "  </div>\n",
              "  "
            ]
          },
          "metadata": {},
          "execution_count": 12
        }
      ]
    },
    {
      "cell_type": "code",
      "source": [
        "x=sampled_df.index.values[0]\n",
        "x"
      ],
      "metadata": {
        "colab": {
          "base_uri": "https://localhost:8080/"
        },
        "id": "5wOIFDxD1leM",
        "outputId": "4751376a-a1b0-4d79-9721-3fbb546ecf12"
      },
      "id": "5wOIFDxD1leM",
      "execution_count": 13,
      "outputs": [
        {
          "output_type": "execute_result",
          "data": {
            "text/plain": [
              "10473"
            ]
          },
          "metadata": {},
          "execution_count": 13
        }
      ]
    },
    {
      "cell_type": "code",
      "source": [
        "train_data=train_data.drop(x)"
      ],
      "metadata": {
        "id": "bP7wMU-TS5hF"
      },
      "id": "bP7wMU-TS5hF",
      "execution_count": 14,
      "outputs": []
    },
    {
      "cell_type": "code",
      "source": [
        "train_data['class'].value_counts()"
      ],
      "metadata": {
        "colab": {
          "base_uri": "https://localhost:8080/"
        },
        "id": "qo-QdkIMTeDn",
        "outputId": "c7b52dbf-3848-4f78-e867-2db0839027f4"
      },
      "id": "qo-QdkIMTeDn",
      "execution_count": 15,
      "outputs": [
        {
          "output_type": "execute_result",
          "data": {
            "text/plain": [
              "h    4681\n",
              "g    4681\n",
              "Name: class, dtype: int64"
            ]
          },
          "metadata": {},
          "execution_count": 15
        }
      ]
    },
    {
      "cell_type": "code",
      "source": [
        "test_data=pd.concat([test_data,sampled_df],axis=0)"
      ],
      "metadata": {
        "id": "iu4yFlawT_vc"
      },
      "id": "iu4yFlawT_vc",
      "execution_count": 16,
      "outputs": []
    },
    {
      "cell_type": "code",
      "source": [
        "test_data['class'].value_counts()"
      ],
      "metadata": {
        "colab": {
          "base_uri": "https://localhost:8080/"
        },
        "id": "SLpVW6uXUQpN",
        "outputId": "bc4fc7d4-8cb6-4be8-a5df-15610548c9e8"
      },
      "id": "SLpVW6uXUQpN",
      "execution_count": 17,
      "outputs": [
        {
          "output_type": "execute_result",
          "data": {
            "text/plain": [
              "g    2007\n",
              "h    2007\n",
              "Name: class, dtype: int64"
            ]
          },
          "metadata": {},
          "execution_count": 17
        }
      ]
    },
    {
      "cell_type": "code",
      "source": [
        "train_data"
      ],
      "metadata": {
        "colab": {
          "base_uri": "https://localhost:8080/",
          "height": 424
        },
        "id": "ySaiOooAUVeT",
        "outputId": "63c7af99-6db3-4270-8e92-0e6b58bd64af"
      },
      "id": "ySaiOooAUVeT",
      "execution_count": 18,
      "outputs": [
        {
          "output_type": "execute_result",
          "data": {
            "text/plain": [
              "        fLength    fWidth   fSize   fConc  fConc1     fAsym   fM3Long  \\\n",
              "11979   21.4374    9.7783  2.2304  0.6353  0.3324   22.3045   18.1132   \n",
              "12753  140.6142  104.4255  3.8789  0.0583  0.0390  -22.6560   59.7584   \n",
              "10679  168.6169   95.4345  3.6384  0.1288  0.0565 -165.1025  -62.3979   \n",
              "5405   113.9130   23.3338  3.0699  0.1890  0.1052  101.6200  110.1700   \n",
              "10628   22.1815    7.3637  2.4922  0.7970  0.4865    4.3987   -9.5286   \n",
              "...         ...       ...     ...     ...     ...       ...       ...   \n",
              "1268    20.1638   12.7267  2.4448  0.4452  0.2316  -19.1572   -6.4733   \n",
              "5582    48.3689   21.4332  3.1074  0.2351  0.1339   54.2967  -23.6248   \n",
              "12173   57.2899   11.9934  2.9506  0.2476  0.1350  -37.6898   45.8293   \n",
              "11079   31.1667    9.0403  2.3646  0.5054  0.2959   32.7075   26.0651   \n",
              "8014   214.8060   43.6493  3.2238  0.2037  0.1275 -144.4830 -176.8730   \n",
              "\n",
              "       fM3Trans   fAlpha     fDist class  \n",
              "11979  -11.1708  35.3391  229.7000     h  \n",
              "12753  -55.2579  85.1154  295.2699     h  \n",
              "10679  -87.2004  31.7599  185.7593     h  \n",
              "5405    17.0380  10.8666  284.7470     g  \n",
              "10628   -7.9688  82.0983  240.7557     h  \n",
              "...         ...      ...       ...   ...  \n",
              "1268     6.7455  11.6550  188.7000     g  \n",
              "5582    14.5762   6.6160  184.4000     g  \n",
              "12173   -9.8456  37.1283  154.4390     h  \n",
              "11079  -10.6431  66.5470  242.7630     h  \n",
              "8014   -25.9975  52.9093  275.1510     h  \n",
              "\n",
              "[9362 rows x 11 columns]"
            ],
            "text/html": [
              "\n",
              "  <div id=\"df-bb330ca8-a72b-41b9-9d64-12525d5fb71c\">\n",
              "    <div class=\"colab-df-container\">\n",
              "      <div>\n",
              "<style scoped>\n",
              "    .dataframe tbody tr th:only-of-type {\n",
              "        vertical-align: middle;\n",
              "    }\n",
              "\n",
              "    .dataframe tbody tr th {\n",
              "        vertical-align: top;\n",
              "    }\n",
              "\n",
              "    .dataframe thead th {\n",
              "        text-align: right;\n",
              "    }\n",
              "</style>\n",
              "<table border=\"1\" class=\"dataframe\">\n",
              "  <thead>\n",
              "    <tr style=\"text-align: right;\">\n",
              "      <th></th>\n",
              "      <th>fLength</th>\n",
              "      <th>fWidth</th>\n",
              "      <th>fSize</th>\n",
              "      <th>fConc</th>\n",
              "      <th>fConc1</th>\n",
              "      <th>fAsym</th>\n",
              "      <th>fM3Long</th>\n",
              "      <th>fM3Trans</th>\n",
              "      <th>fAlpha</th>\n",
              "      <th>fDist</th>\n",
              "      <th>class</th>\n",
              "    </tr>\n",
              "  </thead>\n",
              "  <tbody>\n",
              "    <tr>\n",
              "      <th>11979</th>\n",
              "      <td>21.4374</td>\n",
              "      <td>9.7783</td>\n",
              "      <td>2.2304</td>\n",
              "      <td>0.6353</td>\n",
              "      <td>0.3324</td>\n",
              "      <td>22.3045</td>\n",
              "      <td>18.1132</td>\n",
              "      <td>-11.1708</td>\n",
              "      <td>35.3391</td>\n",
              "      <td>229.7000</td>\n",
              "      <td>h</td>\n",
              "    </tr>\n",
              "    <tr>\n",
              "      <th>12753</th>\n",
              "      <td>140.6142</td>\n",
              "      <td>104.4255</td>\n",
              "      <td>3.8789</td>\n",
              "      <td>0.0583</td>\n",
              "      <td>0.0390</td>\n",
              "      <td>-22.6560</td>\n",
              "      <td>59.7584</td>\n",
              "      <td>-55.2579</td>\n",
              "      <td>85.1154</td>\n",
              "      <td>295.2699</td>\n",
              "      <td>h</td>\n",
              "    </tr>\n",
              "    <tr>\n",
              "      <th>10679</th>\n",
              "      <td>168.6169</td>\n",
              "      <td>95.4345</td>\n",
              "      <td>3.6384</td>\n",
              "      <td>0.1288</td>\n",
              "      <td>0.0565</td>\n",
              "      <td>-165.1025</td>\n",
              "      <td>-62.3979</td>\n",
              "      <td>-87.2004</td>\n",
              "      <td>31.7599</td>\n",
              "      <td>185.7593</td>\n",
              "      <td>h</td>\n",
              "    </tr>\n",
              "    <tr>\n",
              "      <th>5405</th>\n",
              "      <td>113.9130</td>\n",
              "      <td>23.3338</td>\n",
              "      <td>3.0699</td>\n",
              "      <td>0.1890</td>\n",
              "      <td>0.1052</td>\n",
              "      <td>101.6200</td>\n",
              "      <td>110.1700</td>\n",
              "      <td>17.0380</td>\n",
              "      <td>10.8666</td>\n",
              "      <td>284.7470</td>\n",
              "      <td>g</td>\n",
              "    </tr>\n",
              "    <tr>\n",
              "      <th>10628</th>\n",
              "      <td>22.1815</td>\n",
              "      <td>7.3637</td>\n",
              "      <td>2.4922</td>\n",
              "      <td>0.7970</td>\n",
              "      <td>0.4865</td>\n",
              "      <td>4.3987</td>\n",
              "      <td>-9.5286</td>\n",
              "      <td>-7.9688</td>\n",
              "      <td>82.0983</td>\n",
              "      <td>240.7557</td>\n",
              "      <td>h</td>\n",
              "    </tr>\n",
              "    <tr>\n",
              "      <th>...</th>\n",
              "      <td>...</td>\n",
              "      <td>...</td>\n",
              "      <td>...</td>\n",
              "      <td>...</td>\n",
              "      <td>...</td>\n",
              "      <td>...</td>\n",
              "      <td>...</td>\n",
              "      <td>...</td>\n",
              "      <td>...</td>\n",
              "      <td>...</td>\n",
              "      <td>...</td>\n",
              "    </tr>\n",
              "    <tr>\n",
              "      <th>1268</th>\n",
              "      <td>20.1638</td>\n",
              "      <td>12.7267</td>\n",
              "      <td>2.4448</td>\n",
              "      <td>0.4452</td>\n",
              "      <td>0.2316</td>\n",
              "      <td>-19.1572</td>\n",
              "      <td>-6.4733</td>\n",
              "      <td>6.7455</td>\n",
              "      <td>11.6550</td>\n",
              "      <td>188.7000</td>\n",
              "      <td>g</td>\n",
              "    </tr>\n",
              "    <tr>\n",
              "      <th>5582</th>\n",
              "      <td>48.3689</td>\n",
              "      <td>21.4332</td>\n",
              "      <td>3.1074</td>\n",
              "      <td>0.2351</td>\n",
              "      <td>0.1339</td>\n",
              "      <td>54.2967</td>\n",
              "      <td>-23.6248</td>\n",
              "      <td>14.5762</td>\n",
              "      <td>6.6160</td>\n",
              "      <td>184.4000</td>\n",
              "      <td>g</td>\n",
              "    </tr>\n",
              "    <tr>\n",
              "      <th>12173</th>\n",
              "      <td>57.2899</td>\n",
              "      <td>11.9934</td>\n",
              "      <td>2.9506</td>\n",
              "      <td>0.2476</td>\n",
              "      <td>0.1350</td>\n",
              "      <td>-37.6898</td>\n",
              "      <td>45.8293</td>\n",
              "      <td>-9.8456</td>\n",
              "      <td>37.1283</td>\n",
              "      <td>154.4390</td>\n",
              "      <td>h</td>\n",
              "    </tr>\n",
              "    <tr>\n",
              "      <th>11079</th>\n",
              "      <td>31.1667</td>\n",
              "      <td>9.0403</td>\n",
              "      <td>2.3646</td>\n",
              "      <td>0.5054</td>\n",
              "      <td>0.2959</td>\n",
              "      <td>32.7075</td>\n",
              "      <td>26.0651</td>\n",
              "      <td>-10.6431</td>\n",
              "      <td>66.5470</td>\n",
              "      <td>242.7630</td>\n",
              "      <td>h</td>\n",
              "    </tr>\n",
              "    <tr>\n",
              "      <th>8014</th>\n",
              "      <td>214.8060</td>\n",
              "      <td>43.6493</td>\n",
              "      <td>3.2238</td>\n",
              "      <td>0.2037</td>\n",
              "      <td>0.1275</td>\n",
              "      <td>-144.4830</td>\n",
              "      <td>-176.8730</td>\n",
              "      <td>-25.9975</td>\n",
              "      <td>52.9093</td>\n",
              "      <td>275.1510</td>\n",
              "      <td>h</td>\n",
              "    </tr>\n",
              "  </tbody>\n",
              "</table>\n",
              "<p>9362 rows × 11 columns</p>\n",
              "</div>\n",
              "      <button class=\"colab-df-convert\" onclick=\"convertToInteractive('df-bb330ca8-a72b-41b9-9d64-12525d5fb71c')\"\n",
              "              title=\"Convert this dataframe to an interactive table.\"\n",
              "              style=\"display:none;\">\n",
              "        \n",
              "  <svg xmlns=\"http://www.w3.org/2000/svg\" height=\"24px\"viewBox=\"0 0 24 24\"\n",
              "       width=\"24px\">\n",
              "    <path d=\"M0 0h24v24H0V0z\" fill=\"none\"/>\n",
              "    <path d=\"M18.56 5.44l.94 2.06.94-2.06 2.06-.94-2.06-.94-.94-2.06-.94 2.06-2.06.94zm-11 1L8.5 8.5l.94-2.06 2.06-.94-2.06-.94L8.5 2.5l-.94 2.06-2.06.94zm10 10l.94 2.06.94-2.06 2.06-.94-2.06-.94-.94-2.06-.94 2.06-2.06.94z\"/><path d=\"M17.41 7.96l-1.37-1.37c-.4-.4-.92-.59-1.43-.59-.52 0-1.04.2-1.43.59L10.3 9.45l-7.72 7.72c-.78.78-.78 2.05 0 2.83L4 21.41c.39.39.9.59 1.41.59.51 0 1.02-.2 1.41-.59l7.78-7.78 2.81-2.81c.8-.78.8-2.07 0-2.86zM5.41 20L4 18.59l7.72-7.72 1.47 1.35L5.41 20z\"/>\n",
              "  </svg>\n",
              "      </button>\n",
              "      \n",
              "  <style>\n",
              "    .colab-df-container {\n",
              "      display:flex;\n",
              "      flex-wrap:wrap;\n",
              "      gap: 12px;\n",
              "    }\n",
              "\n",
              "    .colab-df-convert {\n",
              "      background-color: #E8F0FE;\n",
              "      border: none;\n",
              "      border-radius: 50%;\n",
              "      cursor: pointer;\n",
              "      display: none;\n",
              "      fill: #1967D2;\n",
              "      height: 32px;\n",
              "      padding: 0 0 0 0;\n",
              "      width: 32px;\n",
              "    }\n",
              "\n",
              "    .colab-df-convert:hover {\n",
              "      background-color: #E2EBFA;\n",
              "      box-shadow: 0px 1px 2px rgba(60, 64, 67, 0.3), 0px 1px 3px 1px rgba(60, 64, 67, 0.15);\n",
              "      fill: #174EA6;\n",
              "    }\n",
              "\n",
              "    [theme=dark] .colab-df-convert {\n",
              "      background-color: #3B4455;\n",
              "      fill: #D2E3FC;\n",
              "    }\n",
              "\n",
              "    [theme=dark] .colab-df-convert:hover {\n",
              "      background-color: #434B5C;\n",
              "      box-shadow: 0px 1px 3px 1px rgba(0, 0, 0, 0.15);\n",
              "      filter: drop-shadow(0px 1px 2px rgba(0, 0, 0, 0.3));\n",
              "      fill: #FFFFFF;\n",
              "    }\n",
              "  </style>\n",
              "\n",
              "      <script>\n",
              "        const buttonEl =\n",
              "          document.querySelector('#df-bb330ca8-a72b-41b9-9d64-12525d5fb71c button.colab-df-convert');\n",
              "        buttonEl.style.display =\n",
              "          google.colab.kernel.accessAllowed ? 'block' : 'none';\n",
              "\n",
              "        async function convertToInteractive(key) {\n",
              "          const element = document.querySelector('#df-bb330ca8-a72b-41b9-9d64-12525d5fb71c');\n",
              "          const dataTable =\n",
              "            await google.colab.kernel.invokeFunction('convertToInteractive',\n",
              "                                                     [key], {});\n",
              "          if (!dataTable) return;\n",
              "\n",
              "          const docLinkHtml = 'Like what you see? Visit the ' +\n",
              "            '<a target=\"_blank\" href=https://colab.research.google.com/notebooks/data_table.ipynb>data table notebook</a>'\n",
              "            + ' to learn more about interactive tables.';\n",
              "          element.innerHTML = '';\n",
              "          dataTable['output_type'] = 'display_data';\n",
              "          await google.colab.output.renderOutput(dataTable, element);\n",
              "          const docLink = document.createElement('div');\n",
              "          docLink.innerHTML = docLinkHtml;\n",
              "          element.appendChild(docLink);\n",
              "        }\n",
              "      </script>\n",
              "    </div>\n",
              "  </div>\n",
              "  "
            ]
          },
          "metadata": {},
          "execution_count": 18
        }
      ]
    },
    {
      "cell_type": "code",
      "source": [
        "test_data"
      ],
      "metadata": {
        "colab": {
          "base_uri": "https://localhost:8080/",
          "height": 424
        },
        "id": "5KgPW0Z5UZAT",
        "outputId": "270f0de2-7169-4dd4-b8bd-e134b68b9004"
      },
      "id": "5KgPW0Z5UZAT",
      "execution_count": 19,
      "outputs": [
        {
          "output_type": "execute_result",
          "data": {
            "text/plain": [
              "        fLength   fWidth   fSize   fConc  fConc1     fAsym  fM3Long  fM3Trans  \\\n",
              "754     66.0687  20.3533  2.9643  0.2823  0.1493  -50.6715 -43.5782  -12.3356   \n",
              "6398    69.1158  20.1654  3.0461  0.2392  0.1245   24.6108  56.1297   13.4596   \n",
              "12358  106.9500  91.6046  3.6199  0.1982  0.1136 -181.1410  87.7473  -73.5722   \n",
              "10596   52.9512  18.4642  2.8982  0.2402  0.1321  -11.5361  36.6526   10.5417   \n",
              "8670    81.3168  29.5452  3.0731  0.2317  0.1304 -109.3272  57.2042   36.8897   \n",
              "...         ...      ...     ...     ...     ...       ...      ...       ...   \n",
              "7787    27.7999  17.5546  2.8014  0.3692  0.2107    6.9422   0.5586  -17.8538   \n",
              "7711    81.2405  18.0776  2.7189  0.3443  0.1663   20.1752  64.6191   -8.3390   \n",
              "13053   35.8431  31.3650  2.7312  0.3608  0.1811  -30.9958 -27.5521  -18.0018   \n",
              "390     27.1388  21.2758  2.8156  0.3379  0.1766  -10.7681  23.5939   21.1059   \n",
              "10473   71.7611  20.1438  2.8363  0.5026  0.3197  -87.9786 -47.0656  -14.9389   \n",
              "\n",
              "        fAlpha     fDist class  \n",
              "754     5.3690  280.9980     g  \n",
              "6398    0.2060  264.5620     g  \n",
              "12358  75.5990  428.4090     h  \n",
              "10596  15.7762  243.8490     h  \n",
              "8670   15.8253  315.2557     h  \n",
              "...        ...       ...   ...  \n",
              "7787   30.5830  200.5103     h  \n",
              "7711   85.4906   40.1528     h  \n",
              "13053  12.2384  101.1014     h  \n",
              "390    30.8250  117.5400     g  \n",
              "10473  48.4428  288.6459     h  \n",
              "\n",
              "[4014 rows x 11 columns]"
            ],
            "text/html": [
              "\n",
              "  <div id=\"df-4ef1d6eb-b328-4383-929d-6963fe3e01c5\">\n",
              "    <div class=\"colab-df-container\">\n",
              "      <div>\n",
              "<style scoped>\n",
              "    .dataframe tbody tr th:only-of-type {\n",
              "        vertical-align: middle;\n",
              "    }\n",
              "\n",
              "    .dataframe tbody tr th {\n",
              "        vertical-align: top;\n",
              "    }\n",
              "\n",
              "    .dataframe thead th {\n",
              "        text-align: right;\n",
              "    }\n",
              "</style>\n",
              "<table border=\"1\" class=\"dataframe\">\n",
              "  <thead>\n",
              "    <tr style=\"text-align: right;\">\n",
              "      <th></th>\n",
              "      <th>fLength</th>\n",
              "      <th>fWidth</th>\n",
              "      <th>fSize</th>\n",
              "      <th>fConc</th>\n",
              "      <th>fConc1</th>\n",
              "      <th>fAsym</th>\n",
              "      <th>fM3Long</th>\n",
              "      <th>fM3Trans</th>\n",
              "      <th>fAlpha</th>\n",
              "      <th>fDist</th>\n",
              "      <th>class</th>\n",
              "    </tr>\n",
              "  </thead>\n",
              "  <tbody>\n",
              "    <tr>\n",
              "      <th>754</th>\n",
              "      <td>66.0687</td>\n",
              "      <td>20.3533</td>\n",
              "      <td>2.9643</td>\n",
              "      <td>0.2823</td>\n",
              "      <td>0.1493</td>\n",
              "      <td>-50.6715</td>\n",
              "      <td>-43.5782</td>\n",
              "      <td>-12.3356</td>\n",
              "      <td>5.3690</td>\n",
              "      <td>280.9980</td>\n",
              "      <td>g</td>\n",
              "    </tr>\n",
              "    <tr>\n",
              "      <th>6398</th>\n",
              "      <td>69.1158</td>\n",
              "      <td>20.1654</td>\n",
              "      <td>3.0461</td>\n",
              "      <td>0.2392</td>\n",
              "      <td>0.1245</td>\n",
              "      <td>24.6108</td>\n",
              "      <td>56.1297</td>\n",
              "      <td>13.4596</td>\n",
              "      <td>0.2060</td>\n",
              "      <td>264.5620</td>\n",
              "      <td>g</td>\n",
              "    </tr>\n",
              "    <tr>\n",
              "      <th>12358</th>\n",
              "      <td>106.9500</td>\n",
              "      <td>91.6046</td>\n",
              "      <td>3.6199</td>\n",
              "      <td>0.1982</td>\n",
              "      <td>0.1136</td>\n",
              "      <td>-181.1410</td>\n",
              "      <td>87.7473</td>\n",
              "      <td>-73.5722</td>\n",
              "      <td>75.5990</td>\n",
              "      <td>428.4090</td>\n",
              "      <td>h</td>\n",
              "    </tr>\n",
              "    <tr>\n",
              "      <th>10596</th>\n",
              "      <td>52.9512</td>\n",
              "      <td>18.4642</td>\n",
              "      <td>2.8982</td>\n",
              "      <td>0.2402</td>\n",
              "      <td>0.1321</td>\n",
              "      <td>-11.5361</td>\n",
              "      <td>36.6526</td>\n",
              "      <td>10.5417</td>\n",
              "      <td>15.7762</td>\n",
              "      <td>243.8490</td>\n",
              "      <td>h</td>\n",
              "    </tr>\n",
              "    <tr>\n",
              "      <th>8670</th>\n",
              "      <td>81.3168</td>\n",
              "      <td>29.5452</td>\n",
              "      <td>3.0731</td>\n",
              "      <td>0.2317</td>\n",
              "      <td>0.1304</td>\n",
              "      <td>-109.3272</td>\n",
              "      <td>57.2042</td>\n",
              "      <td>36.8897</td>\n",
              "      <td>15.8253</td>\n",
              "      <td>315.2557</td>\n",
              "      <td>h</td>\n",
              "    </tr>\n",
              "    <tr>\n",
              "      <th>...</th>\n",
              "      <td>...</td>\n",
              "      <td>...</td>\n",
              "      <td>...</td>\n",
              "      <td>...</td>\n",
              "      <td>...</td>\n",
              "      <td>...</td>\n",
              "      <td>...</td>\n",
              "      <td>...</td>\n",
              "      <td>...</td>\n",
              "      <td>...</td>\n",
              "      <td>...</td>\n",
              "    </tr>\n",
              "    <tr>\n",
              "      <th>7787</th>\n",
              "      <td>27.7999</td>\n",
              "      <td>17.5546</td>\n",
              "      <td>2.8014</td>\n",
              "      <td>0.3692</td>\n",
              "      <td>0.2107</td>\n",
              "      <td>6.9422</td>\n",
              "      <td>0.5586</td>\n",
              "      <td>-17.8538</td>\n",
              "      <td>30.5830</td>\n",
              "      <td>200.5103</td>\n",
              "      <td>h</td>\n",
              "    </tr>\n",
              "    <tr>\n",
              "      <th>7711</th>\n",
              "      <td>81.2405</td>\n",
              "      <td>18.0776</td>\n",
              "      <td>2.7189</td>\n",
              "      <td>0.3443</td>\n",
              "      <td>0.1663</td>\n",
              "      <td>20.1752</td>\n",
              "      <td>64.6191</td>\n",
              "      <td>-8.3390</td>\n",
              "      <td>85.4906</td>\n",
              "      <td>40.1528</td>\n",
              "      <td>h</td>\n",
              "    </tr>\n",
              "    <tr>\n",
              "      <th>13053</th>\n",
              "      <td>35.8431</td>\n",
              "      <td>31.3650</td>\n",
              "      <td>2.7312</td>\n",
              "      <td>0.3608</td>\n",
              "      <td>0.1811</td>\n",
              "      <td>-30.9958</td>\n",
              "      <td>-27.5521</td>\n",
              "      <td>-18.0018</td>\n",
              "      <td>12.2384</td>\n",
              "      <td>101.1014</td>\n",
              "      <td>h</td>\n",
              "    </tr>\n",
              "    <tr>\n",
              "      <th>390</th>\n",
              "      <td>27.1388</td>\n",
              "      <td>21.2758</td>\n",
              "      <td>2.8156</td>\n",
              "      <td>0.3379</td>\n",
              "      <td>0.1766</td>\n",
              "      <td>-10.7681</td>\n",
              "      <td>23.5939</td>\n",
              "      <td>21.1059</td>\n",
              "      <td>30.8250</td>\n",
              "      <td>117.5400</td>\n",
              "      <td>g</td>\n",
              "    </tr>\n",
              "    <tr>\n",
              "      <th>10473</th>\n",
              "      <td>71.7611</td>\n",
              "      <td>20.1438</td>\n",
              "      <td>2.8363</td>\n",
              "      <td>0.5026</td>\n",
              "      <td>0.3197</td>\n",
              "      <td>-87.9786</td>\n",
              "      <td>-47.0656</td>\n",
              "      <td>-14.9389</td>\n",
              "      <td>48.4428</td>\n",
              "      <td>288.6459</td>\n",
              "      <td>h</td>\n",
              "    </tr>\n",
              "  </tbody>\n",
              "</table>\n",
              "<p>4014 rows × 11 columns</p>\n",
              "</div>\n",
              "      <button class=\"colab-df-convert\" onclick=\"convertToInteractive('df-4ef1d6eb-b328-4383-929d-6963fe3e01c5')\"\n",
              "              title=\"Convert this dataframe to an interactive table.\"\n",
              "              style=\"display:none;\">\n",
              "        \n",
              "  <svg xmlns=\"http://www.w3.org/2000/svg\" height=\"24px\"viewBox=\"0 0 24 24\"\n",
              "       width=\"24px\">\n",
              "    <path d=\"M0 0h24v24H0V0z\" fill=\"none\"/>\n",
              "    <path d=\"M18.56 5.44l.94 2.06.94-2.06 2.06-.94-2.06-.94-.94-2.06-.94 2.06-2.06.94zm-11 1L8.5 8.5l.94-2.06 2.06-.94-2.06-.94L8.5 2.5l-.94 2.06-2.06.94zm10 10l.94 2.06.94-2.06 2.06-.94-2.06-.94-.94-2.06-.94 2.06-2.06.94z\"/><path d=\"M17.41 7.96l-1.37-1.37c-.4-.4-.92-.59-1.43-.59-.52 0-1.04.2-1.43.59L10.3 9.45l-7.72 7.72c-.78.78-.78 2.05 0 2.83L4 21.41c.39.39.9.59 1.41.59.51 0 1.02-.2 1.41-.59l7.78-7.78 2.81-2.81c.8-.78.8-2.07 0-2.86zM5.41 20L4 18.59l7.72-7.72 1.47 1.35L5.41 20z\"/>\n",
              "  </svg>\n",
              "      </button>\n",
              "      \n",
              "  <style>\n",
              "    .colab-df-container {\n",
              "      display:flex;\n",
              "      flex-wrap:wrap;\n",
              "      gap: 12px;\n",
              "    }\n",
              "\n",
              "    .colab-df-convert {\n",
              "      background-color: #E8F0FE;\n",
              "      border: none;\n",
              "      border-radius: 50%;\n",
              "      cursor: pointer;\n",
              "      display: none;\n",
              "      fill: #1967D2;\n",
              "      height: 32px;\n",
              "      padding: 0 0 0 0;\n",
              "      width: 32px;\n",
              "    }\n",
              "\n",
              "    .colab-df-convert:hover {\n",
              "      background-color: #E2EBFA;\n",
              "      box-shadow: 0px 1px 2px rgba(60, 64, 67, 0.3), 0px 1px 3px 1px rgba(60, 64, 67, 0.15);\n",
              "      fill: #174EA6;\n",
              "    }\n",
              "\n",
              "    [theme=dark] .colab-df-convert {\n",
              "      background-color: #3B4455;\n",
              "      fill: #D2E3FC;\n",
              "    }\n",
              "\n",
              "    [theme=dark] .colab-df-convert:hover {\n",
              "      background-color: #434B5C;\n",
              "      box-shadow: 0px 1px 3px 1px rgba(0, 0, 0, 0.15);\n",
              "      filter: drop-shadow(0px 1px 2px rgba(0, 0, 0, 0.3));\n",
              "      fill: #FFFFFF;\n",
              "    }\n",
              "  </style>\n",
              "\n",
              "      <script>\n",
              "        const buttonEl =\n",
              "          document.querySelector('#df-4ef1d6eb-b328-4383-929d-6963fe3e01c5 button.colab-df-convert');\n",
              "        buttonEl.style.display =\n",
              "          google.colab.kernel.accessAllowed ? 'block' : 'none';\n",
              "\n",
              "        async function convertToInteractive(key) {\n",
              "          const element = document.querySelector('#df-4ef1d6eb-b328-4383-929d-6963fe3e01c5');\n",
              "          const dataTable =\n",
              "            await google.colab.kernel.invokeFunction('convertToInteractive',\n",
              "                                                     [key], {});\n",
              "          if (!dataTable) return;\n",
              "\n",
              "          const docLinkHtml = 'Like what you see? Visit the ' +\n",
              "            '<a target=\"_blank\" href=https://colab.research.google.com/notebooks/data_table.ipynb>data table notebook</a>'\n",
              "            + ' to learn more about interactive tables.';\n",
              "          element.innerHTML = '';\n",
              "          dataTable['output_type'] = 'display_data';\n",
              "          await google.colab.output.renderOutput(dataTable, element);\n",
              "          const docLink = document.createElement('div');\n",
              "          docLink.innerHTML = docLinkHtml;\n",
              "          element.appendChild(docLink);\n",
              "        }\n",
              "      </script>\n",
              "    </div>\n",
              "  </div>\n",
              "  "
            ]
          },
          "metadata": {},
          "execution_count": 19
        }
      ]
    },
    {
      "cell_type": "code",
      "source": [
        "X_train = train_data.drop(columns = ['class']).copy()\n",
        "y_train = train_data['class']\n",
        "X_test = test_data.drop(columns = ['class']).copy()\n",
        "y_test = test_data['class']"
      ],
      "metadata": {
        "id": "0IBKD6L2UjCS"
      },
      "id": "0IBKD6L2UjCS",
      "execution_count": 20,
      "outputs": []
    },
    {
      "cell_type": "markdown",
      "id": "5ab01b97",
      "metadata": {
        "id": "5ab01b97"
      },
      "source": [
        "## We are sure that data is balanced in train test split"
      ]
    },
    {
      "cell_type": "markdown",
      "id": "9a31ffe2",
      "metadata": {
        "id": "9a31ffe2"
      },
      "source": [
        "## KNN"
      ]
    },
    {
      "cell_type": "markdown",
      "id": "fdffad6c",
      "metadata": {
        "id": "fdffad6c"
      },
      "source": [
        "#### Cross validation is done for tuning the hyperparameter n_neigbours. First we will find the accuracy of our model using cross validation score on Ks from 1 to 100 with step 10 , this is to choose a suitable range to make grid search on this range"
      ]
    },
    {
      "cell_type": "code",
      "execution_count": 21,
      "id": "eb647151",
      "metadata": {
        "id": "eb647151",
        "outputId": "d5f9e2db-b7c8-437f-a54f-6d925646e3ac",
        "colab": {
          "base_uri": "https://localhost:8080/"
        }
      },
      "outputs": [
        {
          "output_type": "stream",
          "name": "stdout",
          "text": [
            "At k= 1 mean score for 10 folds is 0.7419332475895976\n",
            "At k= 11 mean score for 10 folds is 0.7734444125185854\n",
            "At k= 21 mean score for 10 folds is 0.7741942141221758\n",
            "At k= 31 mean score for 10 folds is 0.7703485163597223\n",
            "At k= 41 mean score for 10 folds is 0.7725919920823869\n",
            "At k= 51 mean score for 10 folds is 0.7709894279798228\n",
            "At k= 61 mean score for 10 folds is 0.7666097702250319\n",
            "At k= 71 mean score for 10 folds is 0.7645801977578927\n",
            "At k= 81 mean score for 10 folds is 0.7629778616971786\n",
            "At k= 91 mean score for 10 folds is 0.761162420527415\n",
            "At k= 101 mean score for 10 folds is 0.7591335321858266\n",
            "At k= 111 mean score for 10 folds is 0.7577443012341625\n",
            "At k= 121 mean score for 10 folds is 0.7566754690820858\n",
            "At k= 131 mean score for 10 folds is 0.7557148427879483\n",
            "At k= 141 mean score for 10 folds is 0.7556075490974103\n"
          ]
        }
      ],
      "source": [
        "k_range=range(1,150,10)\n",
        "k_scores=[]\n",
        "skf = StratifiedKFold(n_splits=10)\n",
        "for k in k_range:\n",
        "    knn=KNeighborsClassifier(n_neighbors=k)\n",
        "    scores=cross_val_score(knn,X_train,y_train,cv=skf,scoring='accuracy')\n",
        "    k_scores.append(scores.mean())\n",
        "    print(\"At k= \"+str(k)+\" mean score for 10 folds is \"+str(scores.mean()))"
      ]
    },
    {
      "cell_type": "code",
      "execution_count": 22,
      "id": "246dac8f",
      "metadata": {
        "id": "246dac8f",
        "outputId": "821eb441-4efd-4fe8-9a9f-1d4df63e9079",
        "colab": {
          "base_uri": "https://localhost:8080/",
          "height": 606
        }
      },
      "outputs": [
        {
          "output_type": "display_data",
          "data": {
            "text/plain": [
              "<Figure size 720x720 with 1 Axes>"
            ],
            "image/png": "[encoded data removed]"
          },
          "metadata": {
            "needs_background": "light"
          }
        }
      ],
      "source": [
        "plt.figure(figsize=(10,10))\n",
        "sns.lineplot(x=k_range,y=k_scores)\n",
        "plt.xlabel('K')\n",
        "plt.ylabel('Accuracy')\n",
        "plt.xticks(ticks=range(0,150,5))\n",
        "plt.grid()"
      ]
    },
    {
      "cell_type": "markdown",
      "id": "4b90df10",
      "metadata": {
        "id": "4b90df10"
      },
      "source": [
        "#### It is noticed that the heigest range for accuracy is between k=10 and k=45 , so we will make grid search on this range"
      ]
    },
    {
      "cell_type": "code",
      "execution_count": 23,
      "id": "63fcdc94",
      "metadata": {
        "id": "63fcdc94"
      },
      "outputs": [],
      "source": [
        "knn_params={\n",
        "    \"n_neighbors\":range(10,45)\n",
        "}\n",
        "knn=KNeighborsClassifier()\n",
        "grid_search=GridSearchCV(estimator=knn,param_grid=knn_params,cv=10,scoring='accuracy')\n",
        "grid_result=grid_search.fit(X_train,y_train)"
      ]
    },
    {
      "cell_type": "markdown",
      "id": "1865d844",
      "metadata": {
        "id": "1865d844"
      },
      "source": [
        "#### From sklearn concerning cv parameter : For integer/None inputs, if the estimator is a classifier and y is either binary or multiclass, StratifiedKFold is used"
      ]
    },
    {
      "cell_type": "code",
      "execution_count": 24,
      "id": "da82f6d8",
      "metadata": {
        "id": "da82f6d8",
        "outputId": "b91ccd15-ac84-43ac-9f85-daa5331fb928",
        "colab": {
          "base_uri": "https://localhost:8080/"
        }
      },
      "outputs": [
        {
          "output_type": "stream",
          "name": "stdout",
          "text": [
            "{'n_neighbors': 13}\n"
          ]
        }
      ],
      "source": [
        "print(grid_result.best_params_)"
      ]
    },
    {
      "cell_type": "code",
      "source": [
        "grid_result.best_params_['n_neighbors']"
      ],
      "metadata": {
        "colab": {
          "base_uri": "https://localhost:8080/"
        },
        "id": "LjzhG2YB2p_f",
        "outputId": "5c07d9ac-0c9e-43c4-fe4e-b6acd4b48f96"
      },
      "id": "LjzhG2YB2p_f",
      "execution_count": 25,
      "outputs": [
        {
          "output_type": "execute_result",
          "data": {
            "text/plain": [
              "13"
            ]
          },
          "metadata": {},
          "execution_count": 25
        }
      ]
    },
    {
      "cell_type": "code",
      "execution_count": 26,
      "id": "b7961c6b",
      "metadata": {
        "id": "b7961c6b",
        "outputId": "108f61c0-593e-4a80-c451-59e1abd9fdd0",
        "colab": {
          "base_uri": "https://localhost:8080/"
        }
      },
      "outputs": [
        {
          "output_type": "stream",
          "name": "stdout",
          "text": [
            "Mean accuracy for k=13 equals 0.7745140428171379\n"
          ]
        }
      ],
      "source": [
        "knn_best=KNeighborsClassifier(n_neighbors=grid_result.best_params_['n_neighbors'])\n",
        "scores_best=cross_val_score(knn_best,X_train,y_train,cv=10,scoring='accuracy')\n",
        "print(\"Mean accuracy for k=\"+str(grid_result.best_params_[\"n_neighbors\"])+\" equals \"+str(scores_best.mean()))"
      ]
    },
    {
      "cell_type": "code",
      "execution_count": 27,
      "id": "83a6a65f",
      "metadata": {
        "id": "83a6a65f",
        "outputId": "60344639-381e-4cfe-82f4-a631e5fef3a6",
        "colab": {
          "base_uri": "https://localhost:8080/"
        }
      },
      "outputs": [
        {
          "output_type": "stream",
          "name": "stdout",
          "text": [
            "Classification report for KNN\n",
            "======================================\n",
            "              precision    recall  f1-score   support\n",
            "\n",
            "           g       0.73      0.86      0.79      2007\n",
            "           h       0.83      0.68      0.75      2007\n",
            "\n",
            "    accuracy                           0.77      4014\n",
            "   macro avg       0.78      0.77      0.77      4014\n",
            "weighted avg       0.78      0.77      0.77      4014\n",
            "\n",
            "{'n_neighbors': 13}\n"
          ]
        }
      ],
      "source": [
        "final_knn=KNeighborsClassifier(n_neighbors=grid_result.best_params_['n_neighbors'])\n",
        "final_knn.fit(X_train,y_train)\n",
        "y_pred=final_knn.predict(X_test)\n",
        "print(\"Classification report for KNN\\n======================================\")\n",
        "print(classification_report(y_test,y_pred))\n",
        "cm_knn=confusion_matrix(y_test,y_pred)\n",
        "print(grid_result.best_params_)"
      ]
    },
    {
      "cell_type": "code",
      "source": [
        "disp = ConfusionMatrixDisplay(confusion_matrix=cm_knn,display_labels=final_knn.classes_)\n",
        "disp.plot()"
      ],
      "metadata": {
        "colab": {
          "base_uri": "https://localhost:8080/",
          "height": 296
        },
        "id": "K2oSulXWBaCb",
        "outputId": "a1a8ea79-8d2a-4151-f2f9-dae0172891c7"
      },
      "id": "K2oSulXWBaCb",
      "execution_count": 28,
      "outputs": [
        {
          "output_type": "execute_result",
          "data": {
            "text/plain": [
              "<sklearn.metrics._plot.confusion_matrix.ConfusionMatrixDisplay at 0x7fc0f896efd0>"
            ]
          },
          "metadata": {},
          "execution_count": 28
        },
        {
          "output_type": "display_data",
          "data": {
            "text/plain": [
              "<Figure size 432x288 with 2 Axes>"
            ],
            "image/png": "[encoded data removed]"
          },
          "metadata": {
            "needs_background": "light"
          }
        }
      ]
    },
    {
      "cell_type": "code",
      "source": [
        "cm_knn=cm_knn.tolist()"
      ],
      "metadata": {
        "id": "FwKt835h3IL8"
      },
      "id": "FwKt835h3IL8",
      "execution_count": 29,
      "outputs": []
    },
    {
      "cell_type": "code",
      "source": [
        "cm_knn"
      ],
      "metadata": {
        "colab": {
          "base_uri": "https://localhost:8080/"
        },
        "id": "iRI07fOF3Ncj",
        "outputId": "30b825da-93e6-429b-e269-ae4761612ef8"
      },
      "id": "iRI07fOF3Ncj",
      "execution_count": 30,
      "outputs": [
        {
          "output_type": "execute_result",
          "data": {
            "text/plain": [
              "[[1735, 272], [652, 1355]]"
            ]
          },
          "metadata": {},
          "execution_count": 30
        }
      ]
    },
    {
      "cell_type": "code",
      "source": [
        "def sens_and_spec(TG,TH,FH,FG):\n",
        "  sens=(TG)/(TG+FH)\n",
        "  spec=(TH)/(TH+FG)\n",
        "  return sens , spec"
      ],
      "metadata": {
        "id": "2N8_yxgzVabh"
      },
      "id": "2N8_yxgzVabh",
      "execution_count": 31,
      "outputs": []
    },
    {
      "cell_type": "code",
      "source": [
        "knn_sens , knn_spec = sens_and_spec(cm_knn[0][0],cm_knn[1][1],cm_knn[0][1],cm_knn[1][0])\n",
        "print(\"KNN sensitivity is \"+str(knn_sens))\n",
        "print(\"KNN speceficity is \"+str(knn_spec))"
      ],
      "metadata": {
        "colab": {
          "base_uri": "https://localhost:8080/"
        },
        "id": "dfq40VxkWU5g",
        "outputId": "56a9ff77-8710-477d-a1d3-b1eea52e0339"
      },
      "id": "dfq40VxkWU5g",
      "execution_count": 32,
      "outputs": [
        {
          "output_type": "stream",
          "name": "stdout",
          "text": [
            "KNN sensitivity is 0.8644743398106627\n",
            "KNN speceficity is 0.6751370204285002\n"
          ]
        }
      ]
    },
    {
      "cell_type": "markdown",
      "id": "6b2218ac",
      "metadata": {
        "id": "6b2218ac"
      },
      "source": [
        "## Random Forest"
      ]
    },
    {
      "cell_type": "code",
      "execution_count": 33,
      "id": "20c0faef",
      "metadata": {
        "id": "20c0faef",
        "outputId": "4314fb28-2e39-46b1-f451-dc82942e3c2a",
        "colab": {
          "base_uri": "https://localhost:8080/"
        }
      },
      "outputs": [
        {
          "output_type": "stream",
          "name": "stdout",
          "text": [
            "At n= 10 mean score for 10 folds is 0.8446908436636292\n",
            "At n= 30 mean score for 10 folds is 0.8586823513851263\n",
            "At n= 50 mean score for 10 folds is 0.8574015543332513\n",
            "At n= 70 mean score for 10 folds is 0.8631712411861827\n",
            "At n= 90 mean score for 10 folds is 0.8618879356739549\n",
            "At n= 110 mean score for 10 folds is 0.8610343750285052\n",
            "At n= 130 mean score for 10 folds is 0.8597517536418284\n",
            "At n= 150 mean score for 10 folds is 0.8599659989601293\n",
            "At n= 170 mean score for 10 folds is 0.8618883917576554\n",
            "At n= 190 mean score for 10 folds is 0.8626359129427431\n",
            "At n= 210 mean score for 10 folds is 0.8635977934670571\n",
            "At n= 230 mean score for 10 folds is 0.8609277654635179\n",
            "At n= 250 mean score for 10 folds is 0.8618882777367303\n",
            "At n= 270 mean score for 10 folds is 0.8628490180517929\n",
            "At n= 290 mean score for 10 folds is 0.8643448585684446\n",
            "At n= 310 mean score for 10 folds is 0.8640248018316321\n",
            "At n= 330 mean score for 10 folds is 0.8627433206542066\n",
            "At n= 350 mean score for 10 folds is 0.8626367110892191\n",
            "At n= 370 mean score for 10 folds is 0.8621017249085551\n",
            "At n= 390 mean score for 10 folds is 0.8625294173986809\n",
            "At n= 410 mean score for 10 folds is 0.8606077087267057\n",
            "At n= 430 mean score for 10 folds is 0.8626367110892191\n",
            "At n= 450 mean score for 10 folds is 0.8622092466409436\n",
            "At n= 470 mean score for 10 folds is 0.8624224657709183\n",
            "At n= 490 mean score for 10 folds is 0.8614614974140056\n"
          ]
        }
      ],
      "source": [
        "n_range=range(10,500,20)\n",
        "n_scores=[]\n",
        "skf = StratifiedKFold(n_splits=10)\n",
        "for n in n_range:\n",
        "    rfc=RandomForestClassifier(n_estimators=n)\n",
        "    nscores=cross_val_score(rfc,X_train,y_train,cv=skf,scoring='accuracy')\n",
        "    n_scores.append(nscores.mean())\n",
        "    print(\"At n= \"+str(n)+\" mean score for 10 folds is \"+str(nscores.mean()))"
      ]
    },
    {
      "cell_type": "code",
      "execution_count": 34,
      "id": "40a900c8",
      "metadata": {
        "scrolled": false,
        "id": "40a900c8",
        "outputId": "52315ec4-6b1e-46e8-d6f7-a69965fe64f8",
        "colab": {
          "base_uri": "https://localhost:8080/",
          "height": 570
        }
      },
      "outputs": [
        {
          "output_type": "display_data",
          "data": {
            "text/plain": [
              "<Figure size 1440x720 with 1 Axes>"
            ],
            "image/png": "[encoded data removed]"
          },
          "metadata": {
            "needs_background": "light"
          }
        }
      ],
      "source": [
        "plt.figure(figsize=(20,10))\n",
        "sns.lineplot(x=n_range,y=n_scores)\n",
        "plt.xlabel('n_estimators')\n",
        "plt.ylabel('Accuracy')\n",
        "plt.xticks(ticks=range(10,500,10))\n",
        "plt.grid()"
      ]
    },
    {
      "cell_type": "markdown",
      "id": "3f84b3e7",
      "metadata": {
        "id": "3f84b3e7"
      },
      "source": [
        "#### it is noticed that it oscilates between 70 and 210 , so do a search again on this range before grid search"
      ]
    },
    {
      "cell_type": "code",
      "source": [
        "n_range_repeated=range(70,210,30)\n",
        "n_scores_repeated=[]\n",
        "skf = StratifiedKFold(n_splits=10)\n",
        "for n in n_range_repeated:\n",
        "    rfc=RandomForestClassifier(n_estimators=n)\n",
        "    nscores_repeated=cross_val_score(rfc,X_train,y_train,cv=skf,scoring='accuracy')\n",
        "    n_scores_repeated.append(nscores_repeated.mean())\n",
        "    print(\"At n= \"+str(n)+\" mean score for 10 folds is \"+str(nscores_repeated.mean()))"
      ],
      "metadata": {
        "colab": {
          "base_uri": "https://localhost:8080/"
        },
        "id": "70LtvgHajEu0",
        "outputId": "12520896-0a55-4370-fce6-231ea9cc9149"
      },
      "id": "70LtvgHajEu0",
      "execution_count": 35,
      "outputs": [
        {
          "output_type": "stream",
          "name": "stdout",
          "text": [
            "At n= 70 mean score for 10 folds is 0.8616749445858304\n",
            "At n= 100 mean score for 10 folds is 0.8592176796285657\n",
            "At n= 130 mean score for 10 folds is 0.8602858276550911\n",
            "At n= 160 mean score for 10 folds is 0.8624226938127686\n",
            "At n= 190 mean score for 10 folds is 0.8637047450948199\n"
          ]
        }
      ]
    },
    {
      "cell_type": "code",
      "source": [
        "plt.figure(figsize=(20,10))\n",
        "sns.lineplot(x=n_range_repeated,y=n_scores_repeated)\n",
        "plt.xlabel('n_estimators')\n",
        "plt.ylabel('Accuracy')\n",
        "plt.xticks(ticks=range(70,210,10))\n",
        "plt.grid()"
      ],
      "metadata": {
        "colab": {
          "base_uri": "https://localhost:8080/",
          "height": 569
        },
        "id": "utin1cCKkPWG",
        "outputId": "14fa51d9-ed0c-476e-c05b-cb0a2b8faf5a"
      },
      "id": "utin1cCKkPWG",
      "execution_count": 36,
      "outputs": [
        {
          "output_type": "display_data",
          "data": {
            "text/plain": [
              "<Figure size 1440x720 with 1 Axes>"
            ],
            "image/png": "[encoded data removed]"
          },
          "metadata": {
            "needs_background": "light"
          }
        }
      ]
    },
    {
      "cell_type": "code",
      "execution_count": 37,
      "id": "0828120b",
      "metadata": {
        "id": "0828120b"
      },
      "outputs": [],
      "source": [
        "rfc_params={\n",
        "    \"n_estimators\":range(170,240,5)\n",
        "}\n",
        "rfc=RandomForestClassifier()\n",
        "grid_search_rfc=GridSearchCV(estimator=rfc,param_grid=rfc_params,cv=10,scoring='accuracy')\n",
        "grid_result_rfc=grid_search_rfc.fit(X_train,y_train)"
      ]
    },
    {
      "cell_type": "code",
      "execution_count": 38,
      "id": "013f8415",
      "metadata": {
        "id": "013f8415",
        "outputId": "90496142-b255-47a7-84e3-4373a576c420",
        "colab": {
          "base_uri": "https://localhost:8080/"
        }
      },
      "outputs": [
        {
          "output_type": "stream",
          "name": "stdout",
          "text": [
            "{'n_estimators': 175}\n"
          ]
        }
      ],
      "source": [
        "print(grid_result_rfc.best_params_)"
      ]
    },
    {
      "cell_type": "code",
      "execution_count": 39,
      "id": "06b2ba1f",
      "metadata": {
        "id": "06b2ba1f",
        "outputId": "9cff09e8-ec7a-4486-edce-e986a7a2a7e7",
        "colab": {
          "base_uri": "https://localhost:8080/"
        }
      },
      "outputs": [
        {
          "output_type": "stream",
          "name": "stdout",
          "text": [
            "Mean accuracy for n= 175 equals 0.8627432066332814\n"
          ]
        }
      ],
      "source": [
        "rfc_best=RandomForestClassifier(n_estimators=grid_result_rfc.best_params_[\"n_estimators\"])\n",
        "scores_best_rfc=cross_val_score(rfc_best,X_train,y_train,cv=10,scoring='accuracy')\n",
        "print(\"Mean accuracy for n= \"+str(grid_result_rfc.best_params_[\"n_estimators\"])+\" equals \"+str(scores_best_rfc.mean()))"
      ]
    },
    {
      "cell_type": "code",
      "execution_count": 40,
      "id": "7e3df85c",
      "metadata": {
        "id": "7e3df85c",
        "outputId": "745c8e58-1fe6-4650-c4af-a877b660af24",
        "colab": {
          "base_uri": "https://localhost:8080/"
        }
      },
      "outputs": [
        {
          "output_type": "stream",
          "name": "stdout",
          "text": [
            "Random Forest classification report\n",
            "====================================\n",
            "              precision    recall  f1-score   support\n",
            "\n",
            "           g       0.84      0.89      0.87      2007\n",
            "           h       0.89      0.83      0.86      2007\n",
            "\n",
            "    accuracy                           0.86      4014\n",
            "   macro avg       0.86      0.86      0.86      4014\n",
            "weighted avg       0.86      0.86      0.86      4014\n",
            "\n",
            "{'n_estimators': 175}\n"
          ]
        }
      ],
      "source": [
        "final_rfc=RandomForestClassifier(n_estimators=grid_result_rfc.best_params_[\"n_estimators\"])\n",
        "final_rfc.fit(X_train,y_train)\n",
        "y_pred_rfc=final_rfc.predict(X_test)\n",
        "print(\"Random Forest classification report\\n====================================\")\n",
        "print(classification_report(y_test,y_pred_rfc))\n",
        "cm_rfc=confusion_matrix(y_test,y_pred_rfc)\n",
        "print(grid_result_rfc.best_params_)"
      ]
    },
    {
      "cell_type": "code",
      "source": [
        "disp = ConfusionMatrixDisplay(confusion_matrix=cm_rfc,display_labels=final_rfc.classes_)\n",
        "disp.plot()"
      ],
      "metadata": {
        "colab": {
          "base_uri": "https://localhost:8080/",
          "height": 296
        },
        "id": "0uhnwguxnt6r",
        "outputId": "b3e37ce4-7ecf-4a9a-925a-1fd5d0b22312"
      },
      "id": "0uhnwguxnt6r",
      "execution_count": 41,
      "outputs": [
        {
          "output_type": "execute_result",
          "data": {
            "text/plain": [
              "<sklearn.metrics._plot.confusion_matrix.ConfusionMatrixDisplay at 0x7fc0f78299d0>"
            ]
          },
          "metadata": {},
          "execution_count": 41
        },
        {
          "output_type": "display_data",
          "data": {
            "text/plain": [
              "<Figure size 432x288 with 2 Axes>"
            ],
            "image/png": "[encoded data removed]"
          },
          "metadata": {
            "needs_background": "light"
          }
        }
      ]
    },
    {
      "cell_type": "code",
      "source": [
        "cm_rfc=confusion_matrix(y_test,y_pred_rfc)\n",
        "cm_rfc=cm_rfc.tolist()\n",
        "cm_rfc"
      ],
      "metadata": {
        "id": "6NlwRCSkA_Xr",
        "colab": {
          "base_uri": "https://localhost:8080/"
        },
        "outputId": "21c0b2c5-3eb8-401b-e480-1a194e8ae14d"
      },
      "id": "6NlwRCSkA_Xr",
      "execution_count": 42,
      "outputs": [
        {
          "output_type": "execute_result",
          "data": {
            "text/plain": [
              "[[1796, 211], [346, 1661]]"
            ]
          },
          "metadata": {},
          "execution_count": 42
        }
      ]
    },
    {
      "cell_type": "code",
      "source": [
        "rfc_sens , rfc_spec = sens_and_spec(cm_rfc[0][0],cm_rfc[1][1],cm_rfc[0][1],cm_rfc[1][0])\n",
        "print(\"RFC sensitivity is \"+str(rfc_sens))\n",
        "print(\"RFC speceficity is \"+str(rfc_spec))"
      ],
      "metadata": {
        "colab": {
          "base_uri": "https://localhost:8080/"
        },
        "id": "v7m05IytA1nL",
        "outputId": "11f05a37-7714-40a3-e91a-b9c53d824418"
      },
      "id": "v7m05IytA1nL",
      "execution_count": 43,
      "outputs": [
        {
          "output_type": "stream",
          "name": "stdout",
          "text": [
            "RFC sensitivity is 0.8948679621325362\n",
            "RFC speceficity is 0.8276033881415047\n"
          ]
        }
      ]
    },
    {
      "cell_type": "markdown",
      "id": "702180ad",
      "metadata": {
        "id": "702180ad"
      },
      "source": [
        "## AdaBoost"
      ]
    },
    {
      "cell_type": "code",
      "execution_count": 44,
      "id": "9c42e1da",
      "metadata": {
        "id": "9c42e1da",
        "outputId": "50e42c32-936f-464e-99f0-0eacb4a34065",
        "colab": {
          "base_uri": "https://localhost:8080/"
        }
      },
      "outputs": [
        {
          "output_type": "stream",
          "name": "stdout",
          "text": [
            "At n= 1 mean score for 10 folds is 0.7278370686588402\n",
            "At n= 21 mean score for 10 folds is 0.7953449817110437\n",
            "At n= 41 mean score for 10 folds is 0.8132898229483073\n",
            "At n= 61 mean score for 10 folds is 0.8176691386403233\n",
            "At n= 81 mean score for 10 folds is 0.8192709045964115\n",
            "At n= 101 mean score for 10 folds is 0.8193784263287999\n",
            "At n= 121 mean score for 10 folds is 0.8211939815194883\n",
            "At n= 141 mean score for 10 folds is 0.8210871439126508\n",
            "At n= 161 mean score for 10 folds is 0.8223689671528518\n",
            "At n= 181 mean score for 10 folds is 0.82375717191619\n",
            "At n= 201 mean score for 10 folds is 0.823329365405139\n",
            "At n= 221 mean score for 10 folds is 0.8247176841894024\n",
            "At n= 241 mean score for 10 folds is 0.824076886590227\n",
            "At n= 261 mean score for 10 folds is 0.823435518886426\n",
            "At n= 281 mean score for 10 folds is 0.8231153481286885\n",
            "At n= 301 mean score for 10 folds is 0.8226877696594878\n",
            "At n= 321 mean score for 10 folds is 0.8233286812795884\n",
            "At n= 341 mean score for 10 folds is 0.8230079404172252\n",
            "At n= 361 mean score for 10 folds is 0.8242895356155762\n",
            "At n= 381 mean score for 10 folds is 0.8243960311596383\n",
            "At n= 401 mean score for 10 folds is 0.8250375128843646\n",
            "At n= 421 mean score for 10 folds is 0.8246101624570141\n",
            "At n= 441 mean score for 10 folds is 0.8229015588940882\n",
            "At n= 461 mean score for 10 folds is 0.8235422424723385\n",
            "At n= 481 mean score for 10 folds is 0.8229015588940882\n"
          ]
        }
      ],
      "source": [
        "n_range_ada=range(1,500,20)\n",
        "n_scores_ada=[]\n",
        "skf = StratifiedKFold(n_splits=10)\n",
        "for n in n_range_ada:\n",
        "    adac=AdaBoostClassifier(n_estimators=n)\n",
        "    nscores_ada=cross_val_score(adac,X_train,y_train,cv=skf,scoring='accuracy')\n",
        "    n_scores_ada.append(nscores_ada.mean())\n",
        "    print(\"At n= \"+str(n)+\" mean score for 10 folds is \"+str(nscores_ada.mean()))"
      ]
    },
    {
      "cell_type": "code",
      "execution_count": 45,
      "id": "ba041703",
      "metadata": {
        "id": "ba041703",
        "outputId": "bd0ec455-3297-4d99-9288-e72cc9086019",
        "colab": {
          "base_uri": "https://localhost:8080/",
          "height": 303
        }
      },
      "outputs": [
        {
          "output_type": "display_data",
          "data": {
            "text/plain": [
              "<Figure size 2880x720 with 1 Axes>"
            ],
            "image/png": "[encoded data removed]"
          },
          "metadata": {
            "needs_background": "light"
          }
        }
      ],
      "source": [
        "plt.figure(figsize=(40,10))\n",
        "sns.lineplot(x=n_range_ada,y=n_scores_ada)\n",
        "plt.xlabel('n_estimators')\n",
        "plt.ylabel('Accuracy')\n",
        "plt.xticks(ticks=range(10,500,10))\n",
        "plt.grid()"
      ]
    },
    {
      "cell_type": "markdown",
      "id": "2116fadb",
      "metadata": {
        "id": "2116fadb"
      },
      "source": [
        "### The peak is at n = 220 , so we will make grid search from 190 to 250"
      ]
    },
    {
      "cell_type": "code",
      "execution_count": 47,
      "id": "4424dafa",
      "metadata": {
        "id": "4424dafa"
      },
      "outputs": [],
      "source": [
        "ada_params={\n",
        "    \"n_estimators\":range(190,250,5)\n",
        "}\n",
        "adac=AdaBoostClassifier()\n",
        "grid_search_ada=GridSearchCV(estimator=adac,param_grid=ada_params,cv=10,scoring='accuracy')\n",
        "grid_result_ada=grid_search_ada.fit(X_train,y_train)"
      ]
    },
    {
      "cell_type": "code",
      "execution_count": 48,
      "id": "2e049d79",
      "metadata": {
        "id": "2e049d79",
        "outputId": "2faa35f0-d044-4ebd-b03a-31144ebf26b7",
        "colab": {
          "base_uri": "https://localhost:8080/"
        }
      },
      "outputs": [
        {
          "output_type": "stream",
          "name": "stdout",
          "text": [
            "{'n_estimators': 225}\n"
          ]
        }
      ],
      "source": [
        "print(grid_result_ada.best_params_)"
      ]
    },
    {
      "cell_type": "code",
      "execution_count": 49,
      "id": "31fad4f2",
      "metadata": {
        "id": "31fad4f2",
        "outputId": "0fd5d06d-a40d-4667-e137-042cd6253ac0",
        "colab": {
          "base_uri": "https://localhost:8080/"
        }
      },
      "outputs": [
        {
          "output_type": "stream",
          "name": "stdout",
          "text": [
            "Mean accuracy for n= 225 equals 0.8251450346167528\n"
          ]
        }
      ],
      "source": [
        "ada_best=AdaBoostClassifier(n_estimators=grid_result_ada.best_params_[\"n_estimators\"])\n",
        "scores_best_ada=cross_val_score(ada_best,X_train,y_train,cv=10,scoring='accuracy')\n",
        "print(\"Mean accuracy for n= \"+str(grid_result_ada.best_params_[\"n_estimators\"])+\" equals \"+str(scores_best_ada.mean()))"
      ]
    },
    {
      "cell_type": "code",
      "execution_count": 51,
      "id": "ab6a8a80",
      "metadata": {
        "id": "ab6a8a80",
        "outputId": "71cdd64c-cbc5-4c04-a8ee-9f9fc0ff3e67",
        "colab": {
          "base_uri": "https://localhost:8080/"
        }
      },
      "outputs": [
        {
          "output_type": "stream",
          "name": "stdout",
          "text": [
            "AdaBoost classification report\n",
            "=============================\n",
            "              precision    recall  f1-score   support\n",
            "\n",
            "           g       0.81      0.83      0.82      2007\n",
            "           h       0.83      0.81      0.82      2007\n",
            "\n",
            "    accuracy                           0.82      4014\n",
            "   macro avg       0.82      0.82      0.82      4014\n",
            "weighted avg       0.82      0.82      0.82      4014\n",
            "\n",
            "{'n_estimators': 225}\n"
          ]
        }
      ],
      "source": [
        "final_ada=AdaBoostClassifier(n_estimators=grid_result_ada.best_params_[\"n_estimators\"])\n",
        "final_ada.fit(X_train,y_train)\n",
        "y_pred_ada=final_ada.predict(X_test)\n",
        "print(\"AdaBoost classification report\\n=============================\")\n",
        "print(classification_report(y_test,y_pred_ada))\n",
        "cm_adac=confusion_matrix(y_test,y_pred_ada)\n",
        "print(grid_result_ada.best_params_)"
      ]
    },
    {
      "cell_type": "code",
      "source": [
        "disp = ConfusionMatrixDisplay(confusion_matrix=cm_adac,display_labels=final_ada.classes_)\n",
        "disp.plot()"
      ],
      "metadata": {
        "colab": {
          "base_uri": "https://localhost:8080/",
          "height": 296
        },
        "id": "HRXX1wravfND",
        "outputId": "74b67bbb-852c-4658-d830-07c4bea3a532"
      },
      "id": "HRXX1wravfND",
      "execution_count": 52,
      "outputs": [
        {
          "output_type": "execute_result",
          "data": {
            "text/plain": [
              "<sklearn.metrics._plot.confusion_matrix.ConfusionMatrixDisplay at 0x7fc0f740eee0>"
            ]
          },
          "metadata": {},
          "execution_count": 52
        },
        {
          "output_type": "display_data",
          "data": {
            "text/plain": [
              "<Figure size 432x288 with 2 Axes>"
            ],
            "image/png": "[encoded data removed]"
          },
          "metadata": {
            "needs_background": "light"
          }
        }
      ]
    },
    {
      "cell_type": "code",
      "source": [
        "cm_adac=confusion_matrix(y_test,y_pred_ada)\n",
        "cm_adac=cm_adac.tolist()"
      ],
      "metadata": {
        "id": "FmW7Ha7LHe6z"
      },
      "id": "FmW7Ha7LHe6z",
      "execution_count": 53,
      "outputs": []
    },
    {
      "cell_type": "code",
      "source": [
        "cm_adac"
      ],
      "metadata": {
        "colab": {
          "base_uri": "https://localhost:8080/"
        },
        "id": "2-wQsaNMvqkC",
        "outputId": "8ca78a8b-e2b7-48aa-f410-4ec4397f64eb"
      },
      "id": "2-wQsaNMvqkC",
      "execution_count": 54,
      "outputs": [
        {
          "output_type": "execute_result",
          "data": {
            "text/plain": [
              "[[1664, 343], [383, 1624]]"
            ]
          },
          "metadata": {},
          "execution_count": 54
        }
      ]
    },
    {
      "cell_type": "code",
      "source": [
        "ada_sens , ada_spec = sens_and_spec(cm_adac[0][0],cm_adac[1][1],cm_adac[0][1],cm_adac[1][0])\n",
        "print(\"AdaBoost sensitivity is \"+str(ada_sens))\n",
        "print(\"AdaBoost speceficity is \"+str(ada_spec))"
      ],
      "metadata": {
        "colab": {
          "base_uri": "https://localhost:8080/"
        },
        "id": "qqy4cb7ivpfz",
        "outputId": "445392b0-59ad-47e9-eb2e-41011bdc57d5"
      },
      "id": "qqy4cb7ivpfz",
      "execution_count": 55,
      "outputs": [
        {
          "output_type": "stream",
          "name": "stdout",
          "text": [
            "AdaBoost sensitivity is 0.8290981564524166\n",
            "AdaBoost speceficity is 0.8091679123069258\n"
          ]
        }
      ]
    },
    {
      "cell_type": "markdown",
      "id": "ff57b5de",
      "metadata": {
        "id": "ff57b5de"
      },
      "source": [
        "## Naive Bayes"
      ]
    },
    {
      "cell_type": "code",
      "execution_count": 56,
      "id": "25a38dbf",
      "metadata": {
        "id": "25a38dbf"
      },
      "outputs": [],
      "source": [
        "gnb=GaussianNB()\n",
        "gnb.fit(X_train, y_train)\n",
        "y_pred_nb=gnb.predict(X_test)"
      ]
    },
    {
      "cell_type": "code",
      "execution_count": 57,
      "id": "ded9b989",
      "metadata": {
        "id": "ded9b989",
        "outputId": "379e9c1e-3596-4489-f92b-3edfe2e6749e",
        "colab": {
          "base_uri": "https://localhost:8080/"
        }
      },
      "outputs": [
        {
          "output_type": "stream",
          "name": "stdout",
          "text": [
            "Naive Bayes classification report\n",
            "================================\n",
            "              precision    recall  f1-score   support\n",
            "\n",
            "           g       0.61      0.91      0.73      2007\n",
            "           h       0.82      0.42      0.56      2007\n",
            "\n",
            "    accuracy                           0.67      4014\n",
            "   macro avg       0.72      0.67      0.64      4014\n",
            "weighted avg       0.72      0.67      0.64      4014\n",
            "\n"
          ]
        }
      ],
      "source": [
        "print(\"Naive Bayes classification report\\n================================\")\n",
        "print(classification_report(y_test,y_pred_nb))\n",
        "cm_nb=confusion_matrix(y_test,y_pred_nb)"
      ]
    },
    {
      "cell_type": "code",
      "source": [
        "disp = ConfusionMatrixDisplay(confusion_matrix=cm_nb,display_labels=gnb.classes_)\n",
        "disp.plot()"
      ],
      "metadata": {
        "colab": {
          "base_uri": "https://localhost:8080/",
          "height": 298
        },
        "id": "9IqOFSPNv9Hr",
        "outputId": "5efcfe8c-814a-4414-cbb1-5703ee5856bd"
      },
      "id": "9IqOFSPNv9Hr",
      "execution_count": 58,
      "outputs": [
        {
          "output_type": "execute_result",
          "data": {
            "text/plain": [
              "<sklearn.metrics._plot.confusion_matrix.ConfusionMatrixDisplay at 0x7fc0f737c4c0>"
            ]
          },
          "metadata": {},
          "execution_count": 58
        },
        {
          "output_type": "display_data",
          "data": {
            "text/plain": [
              "<Figure size 432x288 with 2 Axes>"
            ],
            "image/png": "[encoded data removed]"
          },
          "metadata": {
            "needs_background": "light"
          }
        }
      ]
    },
    {
      "cell_type": "code",
      "source": [
        "cm_nb=confusion_matrix(y_test,y_pred_nb)\n",
        "cm_nb=cm_nb.tolist()"
      ],
      "metadata": {
        "id": "o1yAJCCnJTz7"
      },
      "id": "o1yAJCCnJTz7",
      "execution_count": 59,
      "outputs": []
    },
    {
      "cell_type": "code",
      "source": [
        "cm_nb"
      ],
      "metadata": {
        "colab": {
          "base_uri": "https://localhost:8080/"
        },
        "id": "CZ3eL_2Wv8DC",
        "outputId": "9a34cda2-808e-4292-d9a7-cbbb14779297"
      },
      "id": "CZ3eL_2Wv8DC",
      "execution_count": 60,
      "outputs": [
        {
          "output_type": "execute_result",
          "data": {
            "text/plain": [
              "[[1821, 186], [1157, 850]]"
            ]
          },
          "metadata": {},
          "execution_count": 60
        }
      ]
    },
    {
      "cell_type": "code",
      "source": [
        "nb_sens , nb_spec = sens_and_spec(cm_nb[0][0],cm_nb[1][1],cm_nb[0][1],cm_nb[1][0])\n",
        "print(\"Naive Bayes sensitivity is \"+str(nb_sens))\n",
        "print(\"Naive Bayes speceficity is \"+str(nb_spec))"
      ],
      "metadata": {
        "colab": {
          "base_uri": "https://localhost:8080/"
        },
        "id": "l24Xo9xZv7zy",
        "outputId": "0ab91119-950d-4201-a5df-17928416aac8"
      },
      "id": "l24Xo9xZv7zy",
      "execution_count": 61,
      "outputs": [
        {
          "output_type": "stream",
          "name": "stdout",
          "text": [
            "Naive Bayes sensitivity is 0.9073243647234679\n",
            "Naive Bayes speceficity is 0.4235176880916791\n"
          ]
        }
      ]
    },
    {
      "cell_type": "markdown",
      "id": "4a5d37ad",
      "metadata": {
        "id": "4a5d37ad"
      },
      "source": [
        "## Descision Tree"
      ]
    },
    {
      "cell_type": "markdown",
      "id": "7530edbb",
      "metadata": {
        "id": "7530edbb"
      },
      "source": [
        "### 1- Entropy"
      ]
    },
    {
      "cell_type": "code",
      "execution_count": 62,
      "id": "a6f1052c",
      "metadata": {
        "id": "a6f1052c"
      },
      "outputs": [],
      "source": [
        "dtc_entropy=DecisionTreeClassifier(criterion=\"entropy\",random_state=42)\n",
        "dtc_entropy.fit(X_train,y_train)\n",
        "y_pred_entropy=dtc_entropy.predict(X_test)"
      ]
    },
    {
      "cell_type": "code",
      "execution_count": 63,
      "id": "bad146fd",
      "metadata": {
        "id": "bad146fd",
        "outputId": "a4552de7-624b-4ac3-ac2b-8ae13a16ab5f",
        "colab": {
          "base_uri": "https://localhost:8080/"
        }
      },
      "outputs": [
        {
          "output_type": "stream",
          "name": "stdout",
          "text": [
            "Entropy classification report\n",
            "====================================\n",
            "              precision    recall  f1-score   support\n",
            "\n",
            "           g       0.80      0.80      0.80      2007\n",
            "           h       0.80      0.79      0.80      2007\n",
            "\n",
            "    accuracy                           0.80      4014\n",
            "   macro avg       0.80      0.80      0.80      4014\n",
            "weighted avg       0.80      0.80      0.80      4014\n",
            "\n"
          ]
        }
      ],
      "source": [
        "print(\"Entropy classification report\\n====================================\")\n",
        "print(classification_report(y_test,y_pred_entropy))\n",
        "cm_entr=confusion_matrix(y_test,y_pred_entropy)"
      ]
    },
    {
      "cell_type": "code",
      "source": [
        "disp = ConfusionMatrixDisplay(confusion_matrix=cm_entr,display_labels=dtc_entropy.classes_)\n",
        "disp.plot()"
      ],
      "metadata": {
        "colab": {
          "base_uri": "https://localhost:8080/",
          "height": 300
        },
        "id": "jpXIVru-wn47",
        "outputId": "31283030-7278-4a24-83d1-1292f4f0e300"
      },
      "id": "jpXIVru-wn47",
      "execution_count": 64,
      "outputs": [
        {
          "output_type": "execute_result",
          "data": {
            "text/plain": [
              "<sklearn.metrics._plot.confusion_matrix.ConfusionMatrixDisplay at 0x7fc0f7556df0>"
            ]
          },
          "metadata": {},
          "execution_count": 64
        },
        {
          "output_type": "display_data",
          "data": {
            "text/plain": [
              "<Figure size 432x288 with 2 Axes>"
            ],
            "image/png": "[encoded data removed]"
          },
          "metadata": {
            "needs_background": "light"
          }
        }
      ]
    },
    {
      "cell_type": "code",
      "source": [
        "cm_entr=confusion_matrix(y_test,y_pred_entropy)\n",
        "cm_entr=cm_entr.tolist()"
      ],
      "metadata": {
        "id": "-rsV9lxKJy0i"
      },
      "id": "-rsV9lxKJy0i",
      "execution_count": 65,
      "outputs": []
    },
    {
      "cell_type": "code",
      "source": [
        "cm_entr"
      ],
      "metadata": {
        "colab": {
          "base_uri": "https://localhost:8080/"
        },
        "id": "JjCerHQLwyZL",
        "outputId": "21707f1b-1da5-4ce9-a7f7-716b7d98492d"
      },
      "id": "JjCerHQLwyZL",
      "execution_count": 66,
      "outputs": [
        {
          "output_type": "execute_result",
          "data": {
            "text/plain": [
              "[[1603, 404], [413, 1594]]"
            ]
          },
          "metadata": {},
          "execution_count": 66
        }
      ]
    },
    {
      "cell_type": "code",
      "source": [
        "entr_sens , entr_spec = sens_and_spec(cm_entr[0][0],cm_entr[1][1],cm_entr[0][1],cm_entr[1][0])\n",
        "print(\"DT with entropy sensitivity is \"+str(entr_sens))\n",
        "print(\"DT with entropy speceficity is \"+str(entr_spec))"
      ],
      "metadata": {
        "colab": {
          "base_uri": "https://localhost:8080/"
        },
        "id": "xGNnBZYIwy9L",
        "outputId": "07d00f57-fd85-468f-9d0e-778f3b06ece6"
      },
      "id": "xGNnBZYIwy9L",
      "execution_count": 67,
      "outputs": [
        {
          "output_type": "stream",
          "name": "stdout",
          "text": [
            "DT with entropy sensitivity is 0.7987045341305431\n",
            "DT with entropy speceficity is 0.7942202291978077\n"
          ]
        }
      ]
    },
    {
      "cell_type": "markdown",
      "id": "b25d3611",
      "metadata": {
        "id": "b25d3611"
      },
      "source": [
        "### 2- Gini"
      ]
    },
    {
      "cell_type": "code",
      "execution_count": 68,
      "id": "3263f44d",
      "metadata": {
        "id": "3263f44d"
      },
      "outputs": [],
      "source": [
        "dtc_gini=DecisionTreeClassifier(criterion=\"gini\",random_state=42)\n",
        "dtc_gini.fit(X_train,y_train)\n",
        "y_pred_gini=dtc_gini.predict(X_test)"
      ]
    },
    {
      "cell_type": "code",
      "execution_count": 69,
      "id": "267f43d4",
      "metadata": {
        "id": "267f43d4",
        "outputId": "748aba55-6092-431a-ca19-2ca87fd663e0",
        "colab": {
          "base_uri": "https://localhost:8080/"
        }
      },
      "outputs": [
        {
          "output_type": "stream",
          "name": "stdout",
          "text": [
            "Gini classification report\n",
            "====================================\n",
            "              precision    recall  f1-score   support\n",
            "\n",
            "           g       0.79      0.81      0.80      2007\n",
            "           h       0.80      0.78      0.79      2007\n",
            "\n",
            "    accuracy                           0.80      4014\n",
            "   macro avg       0.80      0.80      0.80      4014\n",
            "weighted avg       0.80      0.80      0.80      4014\n",
            "\n"
          ]
        }
      ],
      "source": [
        "print(\"Gini classification report\\n====================================\")\n",
        "print(classification_report(y_test,y_pred_gini))\n",
        "cm_gini=confusion_matrix(y_test,y_pred_gini)"
      ]
    },
    {
      "cell_type": "code",
      "source": [
        "disp = ConfusionMatrixDisplay(confusion_matrix=cm_gini,display_labels=dtc_gini.classes_)\n",
        "disp.plot()"
      ],
      "metadata": {
        "colab": {
          "base_uri": "https://localhost:8080/",
          "height": 296
        },
        "id": "4KOAY2VnxB5L",
        "outputId": "978378c6-de6e-4c68-e9dd-c81c0989ec68"
      },
      "id": "4KOAY2VnxB5L",
      "execution_count": 70,
      "outputs": [
        {
          "output_type": "execute_result",
          "data": {
            "text/plain": [
              "<sklearn.metrics._plot.confusion_matrix.ConfusionMatrixDisplay at 0x7fc0f729cd30>"
            ]
          },
          "metadata": {},
          "execution_count": 70
        },
        {
          "output_type": "display_data",
          "data": {
            "text/plain": [
              "<Figure size 432x288 with 2 Axes>"
            ],
            "image/png": "[encoded data removed]"
          },
          "metadata": {
            "needs_background": "light"
          }
        }
      ]
    },
    {
      "cell_type": "code",
      "source": [
        "cm_gini=confusion_matrix(y_test,y_pred_gini)\n",
        "cm_gini=cm_gini.tolist()"
      ],
      "metadata": {
        "id": "yXZmtvkaKKXy"
      },
      "id": "yXZmtvkaKKXy",
      "execution_count": 71,
      "outputs": []
    },
    {
      "cell_type": "code",
      "source": [
        "cm_gini"
      ],
      "metadata": {
        "colab": {
          "base_uri": "https://localhost:8080/"
        },
        "id": "jHQYsJMkxNSt",
        "outputId": "bac55e3f-41d5-4582-ddb1-c102d00395a9"
      },
      "id": "jHQYsJMkxNSt",
      "execution_count": 73,
      "outputs": [
        {
          "output_type": "execute_result",
          "data": {
            "text/plain": [
              "[[1624, 383], [437, 1570]]"
            ]
          },
          "metadata": {},
          "execution_count": 73
        }
      ]
    },
    {
      "cell_type": "code",
      "source": [
        "gini_sens , gini_spec = sens_and_spec(cm_gini[0][0],cm_gini[1][1],cm_gini[0][1],cm_gini[1][0])\n",
        "print(\"DT with gini sensitivity is \"+str(gini_sens))\n",
        "print(\"DT with gini speceficity is \"+str(gini_spec))"
      ],
      "metadata": {
        "colab": {
          "base_uri": "https://localhost:8080/"
        },
        "id": "pMa33fq1xNHr",
        "outputId": "479356aa-0548-4866-af2e-7df681a482b3"
      },
      "id": "pMa33fq1xNHr",
      "execution_count": 74,
      "outputs": [
        {
          "output_type": "stream",
          "name": "stdout",
          "text": [
            "DT with gini sensitivity is 0.8091679123069258\n",
            "DT with gini speceficity is 0.7822620827105132\n"
          ]
        }
      ]
    },
    {
      "cell_type": "markdown",
      "source": [
        "## After finishing all algorithms and after reading the data describtion , the target in data is to minimize false positive events.\n",
        "## When we want to minimize FP , we should choose algorithms with higher specificity , so according to this metric using random forest will be the best classifier.\n",
        "## Also percision metric is more important when we want to minimize FP , so also random forest will be the best classifier"
      ],
      "metadata": {
        "id": "Eajyq2s1PiJG"
      },
      "id": "Eajyq2s1PiJG"
    },
    {
      "cell_type": "markdown",
      "id": "3e3bcb8c",
      "metadata": {
        "id": "3e3bcb8c"
      },
      "source": [
        "## Using Pytorch"
      ]
    },
    {
      "cell_type": "code",
      "execution_count": 75,
      "id": "d064d484",
      "metadata": {
        "id": "d064d484"
      },
      "outputs": [],
      "source": [
        "data_nn=data.copy()"
      ]
    },
    {
      "cell_type": "code",
      "source": [
        "data_nn['class'] = [1 if each == \"g\" else 0 for each in data_nn['class']]"
      ],
      "metadata": {
        "id": "kxjODdQDX9zT"
      },
      "id": "kxjODdQDX9zT",
      "execution_count": 76,
      "outputs": []
    },
    {
      "cell_type": "code",
      "execution_count": 77,
      "id": "db33da29",
      "metadata": {
        "id": "db33da29",
        "outputId": "1a2e634a-0bde-4aa8-b8d7-978bdf904133",
        "colab": {
          "base_uri": "https://localhost:8080/",
          "height": 424
        }
      },
      "outputs": [
        {
          "output_type": "execute_result",
          "data": {
            "text/plain": [
              "        fLength    fWidth   fSize   fConc  fConc1     fAsym   fM3Long  \\\n",
              "0       31.6036   11.7235  2.5185  0.5303  0.3773   26.2722   23.8238   \n",
              "1      162.0520  136.0310  4.0612  0.0374  0.0187  116.7410  -64.8580   \n",
              "2       23.8172    9.5728  2.3385  0.6147  0.3922   27.2107   -6.4633   \n",
              "3       75.1362   30.9205  3.1611  0.3168  0.1832   -5.5277   28.5525   \n",
              "4       51.6240   21.1502  2.9085  0.2420  0.1340   50.8761   43.1887   \n",
              "...         ...       ...     ...     ...     ...       ...       ...   \n",
              "13371   21.3846   10.9170  2.6161  0.5857  0.3934   15.2618   11.5245   \n",
              "13372   28.9452    6.7020  2.2672  0.5351  0.2784   37.0816   13.1853   \n",
              "13373   75.4455   47.5305  3.4483  0.1417  0.0549   -9.3561   41.0562   \n",
              "13374  120.5135   76.9018  3.9939  0.0944  0.0683    5.8043  -93.5224   \n",
              "13375  187.1814   53.0014  3.2093  0.2876  0.1539 -167.3125 -168.4558   \n",
              "\n",
              "       fM3Trans   fAlpha     fDist  class  \n",
              "0       -9.9574   6.3609  205.2610      1  \n",
              "1      -45.2160  76.9600  256.7880      1  \n",
              "2       -7.1513  10.4490  116.7370      1  \n",
              "3       21.8393   4.6480  356.4620      1  \n",
              "4        9.8145   3.6130  238.0980      1  \n",
              "...         ...      ...       ...    ...  \n",
              "13371    2.8766   2.4229  106.8258      0  \n",
              "13372   -2.9632  86.7975  247.4560      0  \n",
              "13373   -9.4662  30.2987  256.5166      0  \n",
              "13374  -63.8389  84.6874  408.3166      0  \n",
              "13375   31.4755  52.7310  272.3174      0  \n",
              "\n",
              "[13376 rows x 11 columns]"
            ],
            "text/html": [
              "\n",
              "  <div id=\"df-c6027eb9-ac2b-4057-82db-cddb83f22273\">\n",
              "    <div class=\"colab-df-container\">\n",
              "      <div>\n",
              "<style scoped>\n",
              "    .dataframe tbody tr th:only-of-type {\n",
              "        vertical-align: middle;\n",
              "    }\n",
              "\n",
              "    .dataframe tbody tr th {\n",
              "        vertical-align: top;\n",
              "    }\n",
              "\n",
              "    .dataframe thead th {\n",
              "        text-align: right;\n",
              "    }\n",
              "</style>\n",
              "<table border=\"1\" class=\"dataframe\">\n",
              "  <thead>\n",
              "    <tr style=\"text-align: right;\">\n",
              "      <th></th>\n",
              "      <th>fLength</th>\n",
              "      <th>fWidth</th>\n",
              "      <th>fSize</th>\n",
              "      <th>fConc</th>\n",
              "      <th>fConc1</th>\n",
              "      <th>fAsym</th>\n",
              "      <th>fM3Long</th>\n",
              "      <th>fM3Trans</th>\n",
              "      <th>fAlpha</th>\n",
              "      <th>fDist</th>\n",
              "      <th>class</th>\n",
              "    </tr>\n",
              "  </thead>\n",
              "  <tbody>\n",
              "    <tr>\n",
              "      <th>0</th>\n",
              "      <td>31.6036</td>\n",
              "      <td>11.7235</td>\n",
              "      <td>2.5185</td>\n",
              "      <td>0.5303</td>\n",
              "      <td>0.3773</td>\n",
              "      <td>26.2722</td>\n",
              "      <td>23.8238</td>\n",
              "      <td>-9.9574</td>\n",
              "      <td>6.3609</td>\n",
              "      <td>205.2610</td>\n",
              "      <td>1</td>\n",
              "    </tr>\n",
              "    <tr>\n",
              "      <th>1</th>\n",
              "      <td>162.0520</td>\n",
              "      <td>136.0310</td>\n",
              "      <td>4.0612</td>\n",
              "      <td>0.0374</td>\n",
              "      <td>0.0187</td>\n",
              "      <td>116.7410</td>\n",
              "      <td>-64.8580</td>\n",
              "      <td>-45.2160</td>\n",
              "      <td>76.9600</td>\n",
              "      <td>256.7880</td>\n",
              "      <td>1</td>\n",
              "    </tr>\n",
              "    <tr>\n",
              "      <th>2</th>\n",
              "      <td>23.8172</td>\n",
              "      <td>9.5728</td>\n",
              "      <td>2.3385</td>\n",
              "      <td>0.6147</td>\n",
              "      <td>0.3922</td>\n",
              "      <td>27.2107</td>\n",
              "      <td>-6.4633</td>\n",
              "      <td>-7.1513</td>\n",
              "      <td>10.4490</td>\n",
              "      <td>116.7370</td>\n",
              "      <td>1</td>\n",
              "    </tr>\n",
              "    <tr>\n",
              "      <th>3</th>\n",
              "      <td>75.1362</td>\n",
              "      <td>30.9205</td>\n",
              "      <td>3.1611</td>\n",
              "      <td>0.3168</td>\n",
              "      <td>0.1832</td>\n",
              "      <td>-5.5277</td>\n",
              "      <td>28.5525</td>\n",
              "      <td>21.8393</td>\n",
              "      <td>4.6480</td>\n",
              "      <td>356.4620</td>\n",
              "      <td>1</td>\n",
              "    </tr>\n",
              "    <tr>\n",
              "      <th>4</th>\n",
              "      <td>51.6240</td>\n",
              "      <td>21.1502</td>\n",
              "      <td>2.9085</td>\n",
              "      <td>0.2420</td>\n",
              "      <td>0.1340</td>\n",
              "      <td>50.8761</td>\n",
              "      <td>43.1887</td>\n",
              "      <td>9.8145</td>\n",
              "      <td>3.6130</td>\n",
              "      <td>238.0980</td>\n",
              "      <td>1</td>\n",
              "    </tr>\n",
              "    <tr>\n",
              "      <th>...</th>\n",
              "      <td>...</td>\n",
              "      <td>...</td>\n",
              "      <td>...</td>\n",
              "      <td>...</td>\n",
              "      <td>...</td>\n",
              "      <td>...</td>\n",
              "      <td>...</td>\n",
              "      <td>...</td>\n",
              "      <td>...</td>\n",
              "      <td>...</td>\n",
              "      <td>...</td>\n",
              "    </tr>\n",
              "    <tr>\n",
              "      <th>13371</th>\n",
              "      <td>21.3846</td>\n",
              "      <td>10.9170</td>\n",
              "      <td>2.6161</td>\n",
              "      <td>0.5857</td>\n",
              "      <td>0.3934</td>\n",
              "      <td>15.2618</td>\n",
              "      <td>11.5245</td>\n",
              "      <td>2.8766</td>\n",
              "      <td>2.4229</td>\n",
              "      <td>106.8258</td>\n",
              "      <td>0</td>\n",
              "    </tr>\n",
              "    <tr>\n",
              "      <th>13372</th>\n",
              "      <td>28.9452</td>\n",
              "      <td>6.7020</td>\n",
              "      <td>2.2672</td>\n",
              "      <td>0.5351</td>\n",
              "      <td>0.2784</td>\n",
              "      <td>37.0816</td>\n",
              "      <td>13.1853</td>\n",
              "      <td>-2.9632</td>\n",
              "      <td>86.7975</td>\n",
              "      <td>247.4560</td>\n",
              "      <td>0</td>\n",
              "    </tr>\n",
              "    <tr>\n",
              "      <th>13373</th>\n",
              "      <td>75.4455</td>\n",
              "      <td>47.5305</td>\n",
              "      <td>3.4483</td>\n",
              "      <td>0.1417</td>\n",
              "      <td>0.0549</td>\n",
              "      <td>-9.3561</td>\n",
              "      <td>41.0562</td>\n",
              "      <td>-9.4662</td>\n",
              "      <td>30.2987</td>\n",
              "      <td>256.5166</td>\n",
              "      <td>0</td>\n",
              "    </tr>\n",
              "    <tr>\n",
              "      <th>13374</th>\n",
              "      <td>120.5135</td>\n",
              "      <td>76.9018</td>\n",
              "      <td>3.9939</td>\n",
              "      <td>0.0944</td>\n",
              "      <td>0.0683</td>\n",
              "      <td>5.8043</td>\n",
              "      <td>-93.5224</td>\n",
              "      <td>-63.8389</td>\n",
              "      <td>84.6874</td>\n",
              "      <td>408.3166</td>\n",
              "      <td>0</td>\n",
              "    </tr>\n",
              "    <tr>\n",
              "      <th>13375</th>\n",
              "      <td>187.1814</td>\n",
              "      <td>53.0014</td>\n",
              "      <td>3.2093</td>\n",
              "      <td>0.2876</td>\n",
              "      <td>0.1539</td>\n",
              "      <td>-167.3125</td>\n",
              "      <td>-168.4558</td>\n",
              "      <td>31.4755</td>\n",
              "      <td>52.7310</td>\n",
              "      <td>272.3174</td>\n",
              "      <td>0</td>\n",
              "    </tr>\n",
              "  </tbody>\n",
              "</table>\n",
              "<p>13376 rows × 11 columns</p>\n",
              "</div>\n",
              "      <button class=\"colab-df-convert\" onclick=\"convertToInteractive('df-c6027eb9-ac2b-4057-82db-cddb83f22273')\"\n",
              "              title=\"Convert this dataframe to an interactive table.\"\n",
              "              style=\"display:none;\">\n",
              "        \n",
              "  <svg xmlns=\"http://www.w3.org/2000/svg\" height=\"24px\"viewBox=\"0 0 24 24\"\n",
              "       width=\"24px\">\n",
              "    <path d=\"M0 0h24v24H0V0z\" fill=\"none\"/>\n",
              "    <path d=\"M18.56 5.44l.94 2.06.94-2.06 2.06-.94-2.06-.94-.94-2.06-.94 2.06-2.06.94zm-11 1L8.5 8.5l.94-2.06 2.06-.94-2.06-.94L8.5 2.5l-.94 2.06-2.06.94zm10 10l.94 2.06.94-2.06 2.06-.94-2.06-.94-.94-2.06-.94 2.06-2.06.94z\"/><path d=\"M17.41 7.96l-1.37-1.37c-.4-.4-.92-.59-1.43-.59-.52 0-1.04.2-1.43.59L10.3 9.45l-7.72 7.72c-.78.78-.78 2.05 0 2.83L4 21.41c.39.39.9.59 1.41.59.51 0 1.02-.2 1.41-.59l7.78-7.78 2.81-2.81c.8-.78.8-2.07 0-2.86zM5.41 20L4 18.59l7.72-7.72 1.47 1.35L5.41 20z\"/>\n",
              "  </svg>\n",
              "      </button>\n",
              "      \n",
              "  <style>\n",
              "    .colab-df-container {\n",
              "      display:flex;\n",
              "      flex-wrap:wrap;\n",
              "      gap: 12px;\n",
              "    }\n",
              "\n",
              "    .colab-df-convert {\n",
              "      background-color: #E8F0FE;\n",
              "      border: none;\n",
              "      border-radius: 50%;\n",
              "      cursor: pointer;\n",
              "      display: none;\n",
              "      fill: #1967D2;\n",
              "      height: 32px;\n",
              "      padding: 0 0 0 0;\n",
              "      width: 32px;\n",
              "    }\n",
              "\n",
              "    .colab-df-convert:hover {\n",
              "      background-color: #E2EBFA;\n",
              "      box-shadow: 0px 1px 2px rgba(60, 64, 67, 0.3), 0px 1px 3px 1px rgba(60, 64, 67, 0.15);\n",
              "      fill: #174EA6;\n",
              "    }\n",
              "\n",
              "    [theme=dark] .colab-df-convert {\n",
              "      background-color: #3B4455;\n",
              "      fill: #D2E3FC;\n",
              "    }\n",
              "\n",
              "    [theme=dark] .colab-df-convert:hover {\n",
              "      background-color: #434B5C;\n",
              "      box-shadow: 0px 1px 3px 1px rgba(0, 0, 0, 0.15);\n",
              "      filter: drop-shadow(0px 1px 2px rgba(0, 0, 0, 0.3));\n",
              "      fill: #FFFFFF;\n",
              "    }\n",
              "  </style>\n",
              "\n",
              "      <script>\n",
              "        const buttonEl =\n",
              "          document.querySelector('#df-c6027eb9-ac2b-4057-82db-cddb83f22273 button.colab-df-convert');\n",
              "        buttonEl.style.display =\n",
              "          google.colab.kernel.accessAllowed ? 'block' : 'none';\n",
              "\n",
              "        async function convertToInteractive(key) {\n",
              "          const element = document.querySelector('#df-c6027eb9-ac2b-4057-82db-cddb83f22273');\n",
              "          const dataTable =\n",
              "            await google.colab.kernel.invokeFunction('convertToInteractive',\n",
              "                                                     [key], {});\n",
              "          if (!dataTable) return;\n",
              "\n",
              "          const docLinkHtml = 'Like what you see? Visit the ' +\n",
              "            '<a target=\"_blank\" href=https://colab.research.google.com/notebooks/data_table.ipynb>data table notebook</a>'\n",
              "            + ' to learn more about interactive tables.';\n",
              "          element.innerHTML = '';\n",
              "          dataTable['output_type'] = 'display_data';\n",
              "          await google.colab.output.renderOutput(dataTable, element);\n",
              "          const docLink = document.createElement('div');\n",
              "          docLink.innerHTML = docLinkHtml;\n",
              "          element.appendChild(docLink);\n",
              "        }\n",
              "      </script>\n",
              "    </div>\n",
              "  </div>\n",
              "  "
            ]
          },
          "metadata": {},
          "execution_count": 77
        }
      ],
      "source": [
        "data_nn"
      ]
    },
    {
      "cell_type": "code",
      "execution_count": 78,
      "id": "f19314e3",
      "metadata": {
        "id": "f19314e3"
      },
      "outputs": [],
      "source": [
        "X_nn = data_nn.drop(columns = ['class']).copy()\n",
        "y_nn = data_nn['class']"
      ]
    },
    {
      "cell_type": "code",
      "execution_count": 79,
      "id": "2954036d",
      "metadata": {
        "id": "2954036d"
      },
      "outputs": [],
      "source": [
        "X_train_nn, X_test_nn, y_train_nn, y_test_nn = train_test_split(X_nn, y_nn, test_size = 0.3, random_state = 42,stratify=y_nn)"
      ]
    },
    {
      "cell_type": "code",
      "execution_count": 80,
      "id": "be4f3d8f",
      "metadata": {
        "id": "be4f3d8f"
      },
      "outputs": [],
      "source": [
        "train_data=pd.concat([pd.DataFrame(X_train_nn),pd.DataFrame(y_train_nn)],axis=1)\n",
        "test_data=pd.concat([pd.DataFrame(X_test_nn),pd.DataFrame(y_test_nn)],axis=1)"
      ]
    },
    {
      "cell_type": "code",
      "source": [
        "train_data['class'].value_counts()"
      ],
      "metadata": {
        "colab": {
          "base_uri": "https://localhost:8080/"
        },
        "id": "9Hs4X4w8x23L",
        "outputId": "a193efa5-e154-49c8-dfb6-949b2363feb0"
      },
      "id": "9Hs4X4w8x23L",
      "execution_count": 81,
      "outputs": [
        {
          "output_type": "execute_result",
          "data": {
            "text/plain": [
              "1    4682\n",
              "0    4681\n",
              "Name: class, dtype: int64"
            ]
          },
          "metadata": {},
          "execution_count": 81
        }
      ]
    },
    {
      "cell_type": "code",
      "source": [
        "test_data['class'].value_counts()"
      ],
      "metadata": {
        "colab": {
          "base_uri": "https://localhost:8080/"
        },
        "id": "z1NMl2s8x7wL",
        "outputId": "af76c2f1-76bd-4178-eefc-e4bb37e750be"
      },
      "id": "z1NMl2s8x7wL",
      "execution_count": 82,
      "outputs": [
        {
          "output_type": "execute_result",
          "data": {
            "text/plain": [
              "0    2007\n",
              "1    2006\n",
              "Name: class, dtype: int64"
            ]
          },
          "metadata": {},
          "execution_count": 82
        }
      ]
    },
    {
      "cell_type": "code",
      "source": [
        "temp = train_data[train_data['class'] == 1]\n",
        "rows = np.random.choice(temp.index.values, 1)\n",
        "sampled_df = train_data.loc[rows]\n",
        "sampled_df"
      ],
      "metadata": {
        "colab": {
          "base_uri": "https://localhost:8080/",
          "height": 81
        },
        "id": "QRzrUWh0yLlL",
        "outputId": "b3d2e716-38c9-4fbe-c284-f7b198e9e845"
      },
      "id": "QRzrUWh0yLlL",
      "execution_count": 84,
      "outputs": [
        {
          "output_type": "execute_result",
          "data": {
            "text/plain": [
              "     fLength   fWidth   fSize   fConc  fConc1    fAsym  fM3Long  fM3Trans  \\\n",
              "461  57.1095  19.0139  2.6527  0.2469  0.1301 -25.0464  44.8621  -11.3247   \n",
              "\n",
              "     fAlpha    fDist  class  \n",
              "461  34.613  168.147      1  "
            ],
            "text/html": [
              "\n",
              "  <div id=\"df-1474e469-6cb3-4940-98f0-73d5cfa7e4e7\">\n",
              "    <div class=\"colab-df-container\">\n",
              "      <div>\n",
              "<style scoped>\n",
              "    .dataframe tbody tr th:only-of-type {\n",
              "        vertical-align: middle;\n",
              "    }\n",
              "\n",
              "    .dataframe tbody tr th {\n",
              "        vertical-align: top;\n",
              "    }\n",
              "\n",
              "    .dataframe thead th {\n",
              "        text-align: right;\n",
              "    }\n",
              "</style>\n",
              "<table border=\"1\" class=\"dataframe\">\n",
              "  <thead>\n",
              "    <tr style=\"text-align: right;\">\n",
              "      <th></th>\n",
              "      <th>fLength</th>\n",
              "      <th>fWidth</th>\n",
              "      <th>fSize</th>\n",
              "      <th>fConc</th>\n",
              "      <th>fConc1</th>\n",
              "      <th>fAsym</th>\n",
              "      <th>fM3Long</th>\n",
              "      <th>fM3Trans</th>\n",
              "      <th>fAlpha</th>\n",
              "      <th>fDist</th>\n",
              "      <th>class</th>\n",
              "    </tr>\n",
              "  </thead>\n",
              "  <tbody>\n",
              "    <tr>\n",
              "      <th>461</th>\n",
              "      <td>57.1095</td>\n",
              "      <td>19.0139</td>\n",
              "      <td>2.6527</td>\n",
              "      <td>0.2469</td>\n",
              "      <td>0.1301</td>\n",
              "      <td>-25.0464</td>\n",
              "      <td>44.8621</td>\n",
              "      <td>-11.3247</td>\n",
              "      <td>34.613</td>\n",
              "      <td>168.147</td>\n",
              "      <td>1</td>\n",
              "    </tr>\n",
              "  </tbody>\n",
              "</table>\n",
              "</div>\n",
              "      <button class=\"colab-df-convert\" onclick=\"convertToInteractive('df-1474e469-6cb3-4940-98f0-73d5cfa7e4e7')\"\n",
              "              title=\"Convert this dataframe to an interactive table.\"\n",
              "              style=\"display:none;\">\n",
              "        \n",
              "  <svg xmlns=\"http://www.w3.org/2000/svg\" height=\"24px\"viewBox=\"0 0 24 24\"\n",
              "       width=\"24px\">\n",
              "    <path d=\"M0 0h24v24H0V0z\" fill=\"none\"/>\n",
              "    <path d=\"M18.56 5.44l.94 2.06.94-2.06 2.06-.94-2.06-.94-.94-2.06-.94 2.06-2.06.94zm-11 1L8.5 8.5l.94-2.06 2.06-.94-2.06-.94L8.5 2.5l-.94 2.06-2.06.94zm10 10l.94 2.06.94-2.06 2.06-.94-2.06-.94-.94-2.06-.94 2.06-2.06.94z\"/><path d=\"M17.41 7.96l-1.37-1.37c-.4-.4-.92-.59-1.43-.59-.52 0-1.04.2-1.43.59L10.3 9.45l-7.72 7.72c-.78.78-.78 2.05 0 2.83L4 21.41c.39.39.9.59 1.41.59.51 0 1.02-.2 1.41-.59l7.78-7.78 2.81-2.81c.8-.78.8-2.07 0-2.86zM5.41 20L4 18.59l7.72-7.72 1.47 1.35L5.41 20z\"/>\n",
              "  </svg>\n",
              "      </button>\n",
              "      \n",
              "  <style>\n",
              "    .colab-df-container {\n",
              "      display:flex;\n",
              "      flex-wrap:wrap;\n",
              "      gap: 12px;\n",
              "    }\n",
              "\n",
              "    .colab-df-convert {\n",
              "      background-color: #E8F0FE;\n",
              "      border: none;\n",
              "      border-radius: 50%;\n",
              "      cursor: pointer;\n",
              "      display: none;\n",
              "      fill: #1967D2;\n",
              "      height: 32px;\n",
              "      padding: 0 0 0 0;\n",
              "      width: 32px;\n",
              "    }\n",
              "\n",
              "    .colab-df-convert:hover {\n",
              "      background-color: #E2EBFA;\n",
              "      box-shadow: 0px 1px 2px rgba(60, 64, 67, 0.3), 0px 1px 3px 1px rgba(60, 64, 67, 0.15);\n",
              "      fill: #174EA6;\n",
              "    }\n",
              "\n",
              "    [theme=dark] .colab-df-convert {\n",
              "      background-color: #3B4455;\n",
              "      fill: #D2E3FC;\n",
              "    }\n",
              "\n",
              "    [theme=dark] .colab-df-convert:hover {\n",
              "      background-color: #434B5C;\n",
              "      box-shadow: 0px 1px 3px 1px rgba(0, 0, 0, 0.15);\n",
              "      filter: drop-shadow(0px 1px 2px rgba(0, 0, 0, 0.3));\n",
              "      fill: #FFFFFF;\n",
              "    }\n",
              "  </style>\n",
              "\n",
              "      <script>\n",
              "        const buttonEl =\n",
              "          document.querySelector('#df-1474e469-6cb3-4940-98f0-73d5cfa7e4e7 button.colab-df-convert');\n",
              "        buttonEl.style.display =\n",
              "          google.colab.kernel.accessAllowed ? 'block' : 'none';\n",
              "\n",
              "        async function convertToInteractive(key) {\n",
              "          const element = document.querySelector('#df-1474e469-6cb3-4940-98f0-73d5cfa7e4e7');\n",
              "          const dataTable =\n",
              "            await google.colab.kernel.invokeFunction('convertToInteractive',\n",
              "                                                     [key], {});\n",
              "          if (!dataTable) return;\n",
              "\n",
              "          const docLinkHtml = 'Like what you see? Visit the ' +\n",
              "            '<a target=\"_blank\" href=https://colab.research.google.com/notebooks/data_table.ipynb>data table notebook</a>'\n",
              "            + ' to learn more about interactive tables.';\n",
              "          element.innerHTML = '';\n",
              "          dataTable['output_type'] = 'display_data';\n",
              "          await google.colab.output.renderOutput(dataTable, element);\n",
              "          const docLink = document.createElement('div');\n",
              "          docLink.innerHTML = docLinkHtml;\n",
              "          element.appendChild(docLink);\n",
              "        }\n",
              "      </script>\n",
              "    </div>\n",
              "  </div>\n",
              "  "
            ]
          },
          "metadata": {},
          "execution_count": 84
        }
      ]
    },
    {
      "cell_type": "code",
      "source": [
        "x=sampled_df.index.values[0]\n",
        "x"
      ],
      "metadata": {
        "colab": {
          "base_uri": "https://localhost:8080/"
        },
        "id": "BUnm6M2WyLVS",
        "outputId": "6c1ee805-8750-46aa-d42e-8ec6f355ea9d"
      },
      "id": "BUnm6M2WyLVS",
      "execution_count": 85,
      "outputs": [
        {
          "output_type": "execute_result",
          "data": {
            "text/plain": [
              "461"
            ]
          },
          "metadata": {},
          "execution_count": 85
        }
      ]
    },
    {
      "cell_type": "code",
      "source": [
        "train_data=train_data.drop(x)\n",
        "train_data['class'].value_counts()"
      ],
      "metadata": {
        "colab": {
          "base_uri": "https://localhost:8080/"
        },
        "id": "M7ZEQJQ_y3Y6",
        "outputId": "ca130ece-8b99-4977-81f7-e84f656f76fd"
      },
      "id": "M7ZEQJQ_y3Y6",
      "execution_count": 86,
      "outputs": [
        {
          "output_type": "execute_result",
          "data": {
            "text/plain": [
              "1    4681\n",
              "0    4681\n",
              "Name: class, dtype: int64"
            ]
          },
          "metadata": {},
          "execution_count": 86
        }
      ]
    },
    {
      "cell_type": "code",
      "source": [
        "test_data=pd.concat([test_data,sampled_df],axis=0)\n",
        "test_data['class'].value_counts()"
      ],
      "metadata": {
        "colab": {
          "base_uri": "https://localhost:8080/"
        },
        "id": "FBS0Ha0xy21n",
        "outputId": "728fcaa6-389f-421d-c960-a82d157b42c3"
      },
      "id": "FBS0Ha0xy21n",
      "execution_count": 87,
      "outputs": [
        {
          "output_type": "execute_result",
          "data": {
            "text/plain": [
              "0    2007\n",
              "1    2007\n",
              "Name: class, dtype: int64"
            ]
          },
          "metadata": {},
          "execution_count": 87
        }
      ]
    },
    {
      "cell_type": "code",
      "source": [
        "train_data"
      ],
      "metadata": {
        "colab": {
          "base_uri": "https://localhost:8080/",
          "height": 424
        },
        "id": "TSFHE1MOy2xK",
        "outputId": "1ab47bb2-7a02-4516-c0b3-7e629c178d0e"
      },
      "id": "TSFHE1MOy2xK",
      "execution_count": 88,
      "outputs": [
        {
          "output_type": "execute_result",
          "data": {
            "text/plain": [
              "       fLength   fWidth   fSize   fConc  fConc1    fAsym  fM3Long  fM3Trans  \\\n",
              "5291   32.0020  22.0948  2.6149  0.2718  0.1566 -19.6795 -25.2602  -10.9333   \n",
              "6065   12.6834  11.6968  2.1351  0.6960  0.3919  15.7979  -9.6666    0.5806   \n",
              "3991   75.5326  29.0068  3.2583  0.3608  0.2232  34.4086 -47.6490   21.1596   \n",
              "12093  18.0358   8.7369  2.4388  0.5838  0.2898 -23.9383  -8.4160   -5.6080   \n",
              "3940   19.4624  12.5574  2.3738  0.4989  0.2981   1.2733  -8.3848  -10.1565   \n",
              "...        ...      ...     ...     ...     ...      ...      ...       ...   \n",
              "7956   21.2450  12.6979  2.5443  0.5535  0.2768   0.1920  24.5095   -8.6167   \n",
              "12270  78.6741  48.7446  3.2160  0.1088  0.0569  18.5380  18.8247  -38.5338   \n",
              "5485   27.0280  10.1215  2.4433  0.5081  0.2649  38.4014 -16.4370    6.4502   \n",
              "4391   41.1210  20.2472  2.7889  0.2569  0.1439   9.0304 -22.6301  -11.6170   \n",
              "1326   18.7801  12.7489  2.4385  0.5683  0.3005  14.6127  13.6885   -6.3620   \n",
              "\n",
              "        fAlpha     fDist  class  \n",
              "5291   19.5760  157.8390      1  \n",
              "6065   53.0220  112.6560      1  \n",
              "3991    2.4050  365.0450      1  \n",
              "12093  83.4883  162.4455      0  \n",
              "3940   15.0010  140.9150      1  \n",
              "...        ...       ...    ...  \n",
              "7956   64.1640  215.0051      0  \n",
              "12270   1.7904  138.3050      0  \n",
              "5485   65.9551   56.2666      1  \n",
              "4391    6.0005  233.6900      1  \n",
              "1326   84.5089   40.3003      1  \n",
              "\n",
              "[9362 rows x 11 columns]"
            ],
            "text/html": [
              "\n",
              "  <div id=\"df-45adfbbc-1076-4614-b198-c7c909e9d1f5\">\n",
              "    <div class=\"colab-df-container\">\n",
              "      <div>\n",
              "<style scoped>\n",
              "    .dataframe tbody tr th:only-of-type {\n",
              "        vertical-align: middle;\n",
              "    }\n",
              "\n",
              "    .dataframe tbody tr th {\n",
              "        vertical-align: top;\n",
              "    }\n",
              "\n",
              "    .dataframe thead th {\n",
              "        text-align: right;\n",
              "    }\n",
              "</style>\n",
              "<table border=\"1\" class=\"dataframe\">\n",
              "  <thead>\n",
              "    <tr style=\"text-align: right;\">\n",
              "      <th></th>\n",
              "      <th>fLength</th>\n",
              "      <th>fWidth</th>\n",
              "      <th>fSize</th>\n",
              "      <th>fConc</th>\n",
              "      <th>fConc1</th>\n",
              "      <th>fAsym</th>\n",
              "      <th>fM3Long</th>\n",
              "      <th>fM3Trans</th>\n",
              "      <th>fAlpha</th>\n",
              "      <th>fDist</th>\n",
              "      <th>class</th>\n",
              "    </tr>\n",
              "  </thead>\n",
              "  <tbody>\n",
              "    <tr>\n",
              "      <th>5291</th>\n",
              "      <td>32.0020</td>\n",
              "      <td>22.0948</td>\n",
              "      <td>2.6149</td>\n",
              "      <td>0.2718</td>\n",
              "      <td>0.1566</td>\n",
              "      <td>-19.6795</td>\n",
              "      <td>-25.2602</td>\n",
              "      <td>-10.9333</td>\n",
              "      <td>19.5760</td>\n",
              "      <td>157.8390</td>\n",
              "      <td>1</td>\n",
              "    </tr>\n",
              "    <tr>\n",
              "      <th>6065</th>\n",
              "      <td>12.6834</td>\n",
              "      <td>11.6968</td>\n",
              "      <td>2.1351</td>\n",
              "      <td>0.6960</td>\n",
              "      <td>0.3919</td>\n",
              "      <td>15.7979</td>\n",
              "      <td>-9.6666</td>\n",
              "      <td>0.5806</td>\n",
              "      <td>53.0220</td>\n",
              "      <td>112.6560</td>\n",
              "      <td>1</td>\n",
              "    </tr>\n",
              "    <tr>\n",
              "      <th>3991</th>\n",
              "      <td>75.5326</td>\n",
              "      <td>29.0068</td>\n",
              "      <td>3.2583</td>\n",
              "      <td>0.3608</td>\n",
              "      <td>0.2232</td>\n",
              "      <td>34.4086</td>\n",
              "      <td>-47.6490</td>\n",
              "      <td>21.1596</td>\n",
              "      <td>2.4050</td>\n",
              "      <td>365.0450</td>\n",
              "      <td>1</td>\n",
              "    </tr>\n",
              "    <tr>\n",
              "      <th>12093</th>\n",
              "      <td>18.0358</td>\n",
              "      <td>8.7369</td>\n",
              "      <td>2.4388</td>\n",
              "      <td>0.5838</td>\n",
              "      <td>0.2898</td>\n",
              "      <td>-23.9383</td>\n",
              "      <td>-8.4160</td>\n",
              "      <td>-5.6080</td>\n",
              "      <td>83.4883</td>\n",
              "      <td>162.4455</td>\n",
              "      <td>0</td>\n",
              "    </tr>\n",
              "    <tr>\n",
              "      <th>3940</th>\n",
              "      <td>19.4624</td>\n",
              "      <td>12.5574</td>\n",
              "      <td>2.3738</td>\n",
              "      <td>0.4989</td>\n",
              "      <td>0.2981</td>\n",
              "      <td>1.2733</td>\n",
              "      <td>-8.3848</td>\n",
              "      <td>-10.1565</td>\n",
              "      <td>15.0010</td>\n",
              "      <td>140.9150</td>\n",
              "      <td>1</td>\n",
              "    </tr>\n",
              "    <tr>\n",
              "      <th>...</th>\n",
              "      <td>...</td>\n",
              "      <td>...</td>\n",
              "      <td>...</td>\n",
              "      <td>...</td>\n",
              "      <td>...</td>\n",
              "      <td>...</td>\n",
              "      <td>...</td>\n",
              "      <td>...</td>\n",
              "      <td>...</td>\n",
              "      <td>...</td>\n",
              "      <td>...</td>\n",
              "    </tr>\n",
              "    <tr>\n",
              "      <th>7956</th>\n",
              "      <td>21.2450</td>\n",
              "      <td>12.6979</td>\n",
              "      <td>2.5443</td>\n",
              "      <td>0.5535</td>\n",
              "      <td>0.2768</td>\n",
              "      <td>0.1920</td>\n",
              "      <td>24.5095</td>\n",
              "      <td>-8.6167</td>\n",
              "      <td>64.1640</td>\n",
              "      <td>215.0051</td>\n",
              "      <td>0</td>\n",
              "    </tr>\n",
              "    <tr>\n",
              "      <th>12270</th>\n",
              "      <td>78.6741</td>\n",
              "      <td>48.7446</td>\n",
              "      <td>3.2160</td>\n",
              "      <td>0.1088</td>\n",
              "      <td>0.0569</td>\n",
              "      <td>18.5380</td>\n",
              "      <td>18.8247</td>\n",
              "      <td>-38.5338</td>\n",
              "      <td>1.7904</td>\n",
              "      <td>138.3050</td>\n",
              "      <td>0</td>\n",
              "    </tr>\n",
              "    <tr>\n",
              "      <th>5485</th>\n",
              "      <td>27.0280</td>\n",
              "      <td>10.1215</td>\n",
              "      <td>2.4433</td>\n",
              "      <td>0.5081</td>\n",
              "      <td>0.2649</td>\n",
              "      <td>38.4014</td>\n",
              "      <td>-16.4370</td>\n",
              "      <td>6.4502</td>\n",
              "      <td>65.9551</td>\n",
              "      <td>56.2666</td>\n",
              "      <td>1</td>\n",
              "    </tr>\n",
              "    <tr>\n",
              "      <th>4391</th>\n",
              "      <td>41.1210</td>\n",
              "      <td>20.2472</td>\n",
              "      <td>2.7889</td>\n",
              "      <td>0.2569</td>\n",
              "      <td>0.1439</td>\n",
              "      <td>9.0304</td>\n",
              "      <td>-22.6301</td>\n",
              "      <td>-11.6170</td>\n",
              "      <td>6.0005</td>\n",
              "      <td>233.6900</td>\n",
              "      <td>1</td>\n",
              "    </tr>\n",
              "    <tr>\n",
              "      <th>1326</th>\n",
              "      <td>18.7801</td>\n",
              "      <td>12.7489</td>\n",
              "      <td>2.4385</td>\n",
              "      <td>0.5683</td>\n",
              "      <td>0.3005</td>\n",
              "      <td>14.6127</td>\n",
              "      <td>13.6885</td>\n",
              "      <td>-6.3620</td>\n",
              "      <td>84.5089</td>\n",
              "      <td>40.3003</td>\n",
              "      <td>1</td>\n",
              "    </tr>\n",
              "  </tbody>\n",
              "</table>\n",
              "<p>9362 rows × 11 columns</p>\n",
              "</div>\n",
              "      <button class=\"colab-df-convert\" onclick=\"convertToInteractive('df-45adfbbc-1076-4614-b198-c7c909e9d1f5')\"\n",
              "              title=\"Convert this dataframe to an interactive table.\"\n",
              "              style=\"display:none;\">\n",
              "        \n",
              "  <svg xmlns=\"http://www.w3.org/2000/svg\" height=\"24px\"viewBox=\"0 0 24 24\"\n",
              "       width=\"24px\">\n",
              "    <path d=\"M0 0h24v24H0V0z\" fill=\"none\"/>\n",
              "    <path d=\"M18.56 5.44l.94 2.06.94-2.06 2.06-.94-2.06-.94-.94-2.06-.94 2.06-2.06.94zm-11 1L8.5 8.5l.94-2.06 2.06-.94-2.06-.94L8.5 2.5l-.94 2.06-2.06.94zm10 10l.94 2.06.94-2.06 2.06-.94-2.06-.94-.94-2.06-.94 2.06-2.06.94z\"/><path d=\"M17.41 7.96l-1.37-1.37c-.4-.4-.92-.59-1.43-.59-.52 0-1.04.2-1.43.59L10.3 9.45l-7.72 7.72c-.78.78-.78 2.05 0 2.83L4 21.41c.39.39.9.59 1.41.59.51 0 1.02-.2 1.41-.59l7.78-7.78 2.81-2.81c.8-.78.8-2.07 0-2.86zM5.41 20L4 18.59l7.72-7.72 1.47 1.35L5.41 20z\"/>\n",
              "  </svg>\n",
              "      </button>\n",
              "      \n",
              "  <style>\n",
              "    .colab-df-container {\n",
              "      display:flex;\n",
              "      flex-wrap:wrap;\n",
              "      gap: 12px;\n",
              "    }\n",
              "\n",
              "    .colab-df-convert {\n",
              "      background-color: #E8F0FE;\n",
              "      border: none;\n",
              "      border-radius: 50%;\n",
              "      cursor: pointer;\n",
              "      display: none;\n",
              "      fill: #1967D2;\n",
              "      height: 32px;\n",
              "      padding: 0 0 0 0;\n",
              "      width: 32px;\n",
              "    }\n",
              "\n",
              "    .colab-df-convert:hover {\n",
              "      background-color: #E2EBFA;\n",
              "      box-shadow: 0px 1px 2px rgba(60, 64, 67, 0.3), 0px 1px 3px 1px rgba(60, 64, 67, 0.15);\n",
              "      fill: #174EA6;\n",
              "    }\n",
              "\n",
              "    [theme=dark] .colab-df-convert {\n",
              "      background-color: #3B4455;\n",
              "      fill: #D2E3FC;\n",
              "    }\n",
              "\n",
              "    [theme=dark] .colab-df-convert:hover {\n",
              "      background-color: #434B5C;\n",
              "      box-shadow: 0px 1px 3px 1px rgba(0, 0, 0, 0.15);\n",
              "      filter: drop-shadow(0px 1px 2px rgba(0, 0, 0, 0.3));\n",
              "      fill: #FFFFFF;\n",
              "    }\n",
              "  </style>\n",
              "\n",
              "      <script>\n",
              "        const buttonEl =\n",
              "          document.querySelector('#df-45adfbbc-1076-4614-b198-c7c909e9d1f5 button.colab-df-convert');\n",
              "        buttonEl.style.display =\n",
              "          google.colab.kernel.accessAllowed ? 'block' : 'none';\n",
              "\n",
              "        async function convertToInteractive(key) {\n",
              "          const element = document.querySelector('#df-45adfbbc-1076-4614-b198-c7c909e9d1f5');\n",
              "          const dataTable =\n",
              "            await google.colab.kernel.invokeFunction('convertToInteractive',\n",
              "                                                     [key], {});\n",
              "          if (!dataTable) return;\n",
              "\n",
              "          const docLinkHtml = 'Like what you see? Visit the ' +\n",
              "            '<a target=\"_blank\" href=https://colab.research.google.com/notebooks/data_table.ipynb>data table notebook</a>'\n",
              "            + ' to learn more about interactive tables.';\n",
              "          element.innerHTML = '';\n",
              "          dataTable['output_type'] = 'display_data';\n",
              "          await google.colab.output.renderOutput(dataTable, element);\n",
              "          const docLink = document.createElement('div');\n",
              "          docLink.innerHTML = docLinkHtml;\n",
              "          element.appendChild(docLink);\n",
              "        }\n",
              "      </script>\n",
              "    </div>\n",
              "  </div>\n",
              "  "
            ]
          },
          "metadata": {},
          "execution_count": 88
        }
      ]
    },
    {
      "cell_type": "code",
      "source": [
        "test_data"
      ],
      "metadata": {
        "colab": {
          "base_uri": "https://localhost:8080/",
          "height": 424
        },
        "id": "LoCuT55HzDCz",
        "outputId": "642b8d79-fcd4-4db3-c9d2-d504929f7857"
      },
      "id": "LoCuT55HzDCz",
      "execution_count": 89,
      "outputs": [
        {
          "output_type": "execute_result",
          "data": {
            "text/plain": [
              "        fLength   fWidth   fSize   fConc  fConc1     fAsym  fM3Long  fM3Trans  \\\n",
              "7442    99.1099  39.7409  3.8987  0.0934  0.0652 -117.5310 -44.9747   28.6933   \n",
              "13086   52.4120  11.8978  3.1020  0.2183  0.1087   44.0730  32.7187   -6.6120   \n",
              "5670    62.0774  34.8600  3.8463  0.1375  0.0713   45.4124  50.7490  -20.3151   \n",
              "3908   102.5020  41.1610  4.1093  0.0975  0.0503   58.8221  89.5152  -27.2893   \n",
              "1982    24.3834  10.0560  2.3233  0.5131  0.2874   14.5388 -15.1356   -5.1963   \n",
              "...         ...      ...     ...     ...     ...       ...      ...       ...   \n",
              "1099    42.6868  19.2865  3.0710  0.2607  0.1380   17.4673  41.7046   10.7413   \n",
              "1023    26.6190  18.0992  2.5933  0.3546  0.1926   -5.3782  14.4070   10.3654   \n",
              "6365    27.6904  15.0452  2.6395  0.3647  0.2099   15.8284   9.4247    8.6228   \n",
              "7078    41.5880  17.8972  2.5185  0.3121  0.1561   19.1734  33.8760   13.6871   \n",
              "461     57.1095  19.0139  2.6527  0.2469  0.1301  -25.0464  44.8621  -11.3247   \n",
              "\n",
              "        fAlpha     fDist  class  \n",
              "7442   42.8955  233.9286      0  \n",
              "13086  36.3549  140.0659      0  \n",
              "5670    3.6350  198.9220      1  \n",
              "3908    2.8400  268.6130      1  \n",
              "1982   35.9130   58.9320      1  \n",
              "...        ...       ...    ...  \n",
              "1099    4.8021  234.3370      1  \n",
              "1023    8.3473  152.8290      1  \n",
              "6365   28.9887  177.8650      1  \n",
              "7078   35.1370  110.5590      0  \n",
              "461    34.6130  168.1470      1  \n",
              "\n",
              "[4014 rows x 11 columns]"
            ],
            "text/html": [
              "\n",
              "  <div id=\"df-153cf127-a6f3-49b8-83fc-bbc8c2860020\">\n",
              "    <div class=\"colab-df-container\">\n",
              "      <div>\n",
              "<style scoped>\n",
              "    .dataframe tbody tr th:only-of-type {\n",
              "        vertical-align: middle;\n",
              "    }\n",
              "\n",
              "    .dataframe tbody tr th {\n",
              "        vertical-align: top;\n",
              "    }\n",
              "\n",
              "    .dataframe thead th {\n",
              "        text-align: right;\n",
              "    }\n",
              "</style>\n",
              "<table border=\"1\" class=\"dataframe\">\n",
              "  <thead>\n",
              "    <tr style=\"text-align: right;\">\n",
              "      <th></th>\n",
              "      <th>fLength</th>\n",
              "      <th>fWidth</th>\n",
              "      <th>fSize</th>\n",
              "      <th>fConc</th>\n",
              "      <th>fConc1</th>\n",
              "      <th>fAsym</th>\n",
              "      <th>fM3Long</th>\n",
              "      <th>fM3Trans</th>\n",
              "      <th>fAlpha</th>\n",
              "      <th>fDist</th>\n",
              "      <th>class</th>\n",
              "    </tr>\n",
              "  </thead>\n",
              "  <tbody>\n",
              "    <tr>\n",
              "      <th>7442</th>\n",
              "      <td>99.1099</td>\n",
              "      <td>39.7409</td>\n",
              "      <td>3.8987</td>\n",
              "      <td>0.0934</td>\n",
              "      <td>0.0652</td>\n",
              "      <td>-117.5310</td>\n",
              "      <td>-44.9747</td>\n",
              "      <td>28.6933</td>\n",
              "      <td>42.8955</td>\n",
              "      <td>233.9286</td>\n",
              "      <td>0</td>\n",
              "    </tr>\n",
              "    <tr>\n",
              "      <th>13086</th>\n",
              "      <td>52.4120</td>\n",
              "      <td>11.8978</td>\n",
              "      <td>3.1020</td>\n",
              "      <td>0.2183</td>\n",
              "      <td>0.1087</td>\n",
              "      <td>44.0730</td>\n",
              "      <td>32.7187</td>\n",
              "      <td>-6.6120</td>\n",
              "      <td>36.3549</td>\n",
              "      <td>140.0659</td>\n",
              "      <td>0</td>\n",
              "    </tr>\n",
              "    <tr>\n",
              "      <th>5670</th>\n",
              "      <td>62.0774</td>\n",
              "      <td>34.8600</td>\n",
              "      <td>3.8463</td>\n",
              "      <td>0.1375</td>\n",
              "      <td>0.0713</td>\n",
              "      <td>45.4124</td>\n",
              "      <td>50.7490</td>\n",
              "      <td>-20.3151</td>\n",
              "      <td>3.6350</td>\n",
              "      <td>198.9220</td>\n",
              "      <td>1</td>\n",
              "    </tr>\n",
              "    <tr>\n",
              "      <th>3908</th>\n",
              "      <td>102.5020</td>\n",
              "      <td>41.1610</td>\n",
              "      <td>4.1093</td>\n",
              "      <td>0.0975</td>\n",
              "      <td>0.0503</td>\n",
              "      <td>58.8221</td>\n",
              "      <td>89.5152</td>\n",
              "      <td>-27.2893</td>\n",
              "      <td>2.8400</td>\n",
              "      <td>268.6130</td>\n",
              "      <td>1</td>\n",
              "    </tr>\n",
              "    <tr>\n",
              "      <th>1982</th>\n",
              "      <td>24.3834</td>\n",
              "      <td>10.0560</td>\n",
              "      <td>2.3233</td>\n",
              "      <td>0.5131</td>\n",
              "      <td>0.2874</td>\n",
              "      <td>14.5388</td>\n",
              "      <td>-15.1356</td>\n",
              "      <td>-5.1963</td>\n",
              "      <td>35.9130</td>\n",
              "      <td>58.9320</td>\n",
              "      <td>1</td>\n",
              "    </tr>\n",
              "    <tr>\n",
              "      <th>...</th>\n",
              "      <td>...</td>\n",
              "      <td>...</td>\n",
              "      <td>...</td>\n",
              "      <td>...</td>\n",
              "      <td>...</td>\n",
              "      <td>...</td>\n",
              "      <td>...</td>\n",
              "      <td>...</td>\n",
              "      <td>...</td>\n",
              "      <td>...</td>\n",
              "      <td>...</td>\n",
              "    </tr>\n",
              "    <tr>\n",
              "      <th>1099</th>\n",
              "      <td>42.6868</td>\n",
              "      <td>19.2865</td>\n",
              "      <td>3.0710</td>\n",
              "      <td>0.2607</td>\n",
              "      <td>0.1380</td>\n",
              "      <td>17.4673</td>\n",
              "      <td>41.7046</td>\n",
              "      <td>10.7413</td>\n",
              "      <td>4.8021</td>\n",
              "      <td>234.3370</td>\n",
              "      <td>1</td>\n",
              "    </tr>\n",
              "    <tr>\n",
              "      <th>1023</th>\n",
              "      <td>26.6190</td>\n",
              "      <td>18.0992</td>\n",
              "      <td>2.5933</td>\n",
              "      <td>0.3546</td>\n",
              "      <td>0.1926</td>\n",
              "      <td>-5.3782</td>\n",
              "      <td>14.4070</td>\n",
              "      <td>10.3654</td>\n",
              "      <td>8.3473</td>\n",
              "      <td>152.8290</td>\n",
              "      <td>1</td>\n",
              "    </tr>\n",
              "    <tr>\n",
              "      <th>6365</th>\n",
              "      <td>27.6904</td>\n",
              "      <td>15.0452</td>\n",
              "      <td>2.6395</td>\n",
              "      <td>0.3647</td>\n",
              "      <td>0.2099</td>\n",
              "      <td>15.8284</td>\n",
              "      <td>9.4247</td>\n",
              "      <td>8.6228</td>\n",
              "      <td>28.9887</td>\n",
              "      <td>177.8650</td>\n",
              "      <td>1</td>\n",
              "    </tr>\n",
              "    <tr>\n",
              "      <th>7078</th>\n",
              "      <td>41.5880</td>\n",
              "      <td>17.8972</td>\n",
              "      <td>2.5185</td>\n",
              "      <td>0.3121</td>\n",
              "      <td>0.1561</td>\n",
              "      <td>19.1734</td>\n",
              "      <td>33.8760</td>\n",
              "      <td>13.6871</td>\n",
              "      <td>35.1370</td>\n",
              "      <td>110.5590</td>\n",
              "      <td>0</td>\n",
              "    </tr>\n",
              "    <tr>\n",
              "      <th>461</th>\n",
              "      <td>57.1095</td>\n",
              "      <td>19.0139</td>\n",
              "      <td>2.6527</td>\n",
              "      <td>0.2469</td>\n",
              "      <td>0.1301</td>\n",
              "      <td>-25.0464</td>\n",
              "      <td>44.8621</td>\n",
              "      <td>-11.3247</td>\n",
              "      <td>34.6130</td>\n",
              "      <td>168.1470</td>\n",
              "      <td>1</td>\n",
              "    </tr>\n",
              "  </tbody>\n",
              "</table>\n",
              "<p>4014 rows × 11 columns</p>\n",
              "</div>\n",
              "      <button class=\"colab-df-convert\" onclick=\"convertToInteractive('df-153cf127-a6f3-49b8-83fc-bbc8c2860020')\"\n",
              "              title=\"Convert this dataframe to an interactive table.\"\n",
              "              style=\"display:none;\">\n",
              "        \n",
              "  <svg xmlns=\"http://www.w3.org/2000/svg\" height=\"24px\"viewBox=\"0 0 24 24\"\n",
              "       width=\"24px\">\n",
              "    <path d=\"M0 0h24v24H0V0z\" fill=\"none\"/>\n",
              "    <path d=\"M18.56 5.44l.94 2.06.94-2.06 2.06-.94-2.06-.94-.94-2.06-.94 2.06-2.06.94zm-11 1L8.5 8.5l.94-2.06 2.06-.94-2.06-.94L8.5 2.5l-.94 2.06-2.06.94zm10 10l.94 2.06.94-2.06 2.06-.94-2.06-.94-.94-2.06-.94 2.06-2.06.94z\"/><path d=\"M17.41 7.96l-1.37-1.37c-.4-.4-.92-.59-1.43-.59-.52 0-1.04.2-1.43.59L10.3 9.45l-7.72 7.72c-.78.78-.78 2.05 0 2.83L4 21.41c.39.39.9.59 1.41.59.51 0 1.02-.2 1.41-.59l7.78-7.78 2.81-2.81c.8-.78.8-2.07 0-2.86zM5.41 20L4 18.59l7.72-7.72 1.47 1.35L5.41 20z\"/>\n",
              "  </svg>\n",
              "      </button>\n",
              "      \n",
              "  <style>\n",
              "    .colab-df-container {\n",
              "      display:flex;\n",
              "      flex-wrap:wrap;\n",
              "      gap: 12px;\n",
              "    }\n",
              "\n",
              "    .colab-df-convert {\n",
              "      background-color: #E8F0FE;\n",
              "      border: none;\n",
              "      border-radius: 50%;\n",
              "      cursor: pointer;\n",
              "      display: none;\n",
              "      fill: #1967D2;\n",
              "      height: 32px;\n",
              "      padding: 0 0 0 0;\n",
              "      width: 32px;\n",
              "    }\n",
              "\n",
              "    .colab-df-convert:hover {\n",
              "      background-color: #E2EBFA;\n",
              "      box-shadow: 0px 1px 2px rgba(60, 64, 67, 0.3), 0px 1px 3px 1px rgba(60, 64, 67, 0.15);\n",
              "      fill: #174EA6;\n",
              "    }\n",
              "\n",
              "    [theme=dark] .colab-df-convert {\n",
              "      background-color: #3B4455;\n",
              "      fill: #D2E3FC;\n",
              "    }\n",
              "\n",
              "    [theme=dark] .colab-df-convert:hover {\n",
              "      background-color: #434B5C;\n",
              "      box-shadow: 0px 1px 3px 1px rgba(0, 0, 0, 0.15);\n",
              "      filter: drop-shadow(0px 1px 2px rgba(0, 0, 0, 0.3));\n",
              "      fill: #FFFFFF;\n",
              "    }\n",
              "  </style>\n",
              "\n",
              "      <script>\n",
              "        const buttonEl =\n",
              "          document.querySelector('#df-153cf127-a6f3-49b8-83fc-bbc8c2860020 button.colab-df-convert');\n",
              "        buttonEl.style.display =\n",
              "          google.colab.kernel.accessAllowed ? 'block' : 'none';\n",
              "\n",
              "        async function convertToInteractive(key) {\n",
              "          const element = document.querySelector('#df-153cf127-a6f3-49b8-83fc-bbc8c2860020');\n",
              "          const dataTable =\n",
              "            await google.colab.kernel.invokeFunction('convertToInteractive',\n",
              "                                                     [key], {});\n",
              "          if (!dataTable) return;\n",
              "\n",
              "          const docLinkHtml = 'Like what you see? Visit the ' +\n",
              "            '<a target=\"_blank\" href=https://colab.research.google.com/notebooks/data_table.ipynb>data table notebook</a>'\n",
              "            + ' to learn more about interactive tables.';\n",
              "          element.innerHTML = '';\n",
              "          dataTable['output_type'] = 'display_data';\n",
              "          await google.colab.output.renderOutput(dataTable, element);\n",
              "          const docLink = document.createElement('div');\n",
              "          docLink.innerHTML = docLinkHtml;\n",
              "          element.appendChild(docLink);\n",
              "        }\n",
              "      </script>\n",
              "    </div>\n",
              "  </div>\n",
              "  "
            ]
          },
          "metadata": {},
          "execution_count": 89
        }
      ]
    },
    {
      "cell_type": "code",
      "source": [
        "X_train_nn = train_data.drop(columns = ['class']).copy()\n",
        "y_train_nn = train_data['class']\n",
        "X_test_nn = test_data.drop(columns = ['class']).copy()\n",
        "y_test_nn = test_data['class']"
      ],
      "metadata": {
        "id": "18EELkJhzC27"
      },
      "id": "18EELkJhzC27",
      "execution_count": 90,
      "outputs": []
    },
    {
      "cell_type": "markdown",
      "id": "6f498110",
      "metadata": {
        "id": "6f498110"
      },
      "source": [
        "## Used only once"
      ]
    },
    {
      "cell_type": "code",
      "execution_count": 91,
      "id": "042bae62",
      "metadata": {
        "id": "042bae62"
      },
      "outputs": [],
      "source": [
        "train_data_copy=train_data.reset_index(drop=True)"
      ]
    },
    {
      "cell_type": "code",
      "execution_count": 92,
      "id": "cd539920",
      "metadata": {
        "id": "cd539920"
      },
      "outputs": [],
      "source": [
        "sk=StratifiedKFold(n_splits=5)\n",
        "target=train_data_copy.loc[:,'class']\n",
        "fold_no = 1\n",
        "for train_index, val_index in sk.split(train_data_copy, target):\n",
        "    train = train_data_copy.loc[train_index,:]\n",
        "    val = train_data_copy.loc[val_index,:]\n",
        "    train.to_csv('train_fold_' + str(fold_no) + '.csv',index=False)\n",
        "    val.to_csv('val_fold_' + str(fold_no) + '.csv',index=False)\n",
        "    fold_no += 1"
      ]
    },
    {
      "cell_type": "markdown",
      "id": "1c6e7c43",
      "metadata": {
        "id": "1c6e7c43"
      },
      "source": [
        "## Continue"
      ]
    },
    {
      "cell_type": "code",
      "execution_count": 93,
      "id": "8bf6a01d",
      "metadata": {
        "id": "8bf6a01d"
      },
      "outputs": [],
      "source": [
        "class Gamma_nn(nn.Module):\n",
        "    def __init__(self,h1_size,h2_size):\n",
        "        super(Gamma_nn,self).__init__()\n",
        "        self.hidden1=nn.Linear(10,h1_size)\n",
        "        self.relu1=nn.ReLU()\n",
        "        self.hidden2=nn.Linear(h1_size,h2_size)\n",
        "        self.relu2=nn.ReLU()\n",
        "        self.output=nn.Linear(h2_size,1)\n",
        "        #self.sigmoid=nn.Sigmoid()\n",
        "    def forward(self,x):\n",
        "        out=self.hidden1(x)\n",
        "        out=self.relu1(out)\n",
        "        out=self.hidden2(out)\n",
        "        out=self.relu2(out)\n",
        "        out=self.output(out)\n",
        "        #out=self.sigmoid(out)\n",
        "        return out"
      ]
    },
    {
      "cell_type": "code",
      "execution_count": 94,
      "id": "bdb7bc8f",
      "metadata": {
        "id": "bdb7bc8f"
      },
      "outputs": [],
      "source": [
        "device = \"cuda\" if torch.cuda.is_available() else \"cpu\""
      ]
    },
    {
      "cell_type": "code",
      "execution_count": 95,
      "id": "fda999b3",
      "metadata": {
        "id": "fda999b3"
      },
      "outputs": [],
      "source": [
        "## train data\n",
        "class TrainData(torch.utils.data.Dataset):  \n",
        "    def __init__(self, X_data, y_data):\n",
        "        self.X_data = X_data\n",
        "        self.y_data = y_data      \n",
        "    def __getitem__(self, index):\n",
        "        return self.X_data[index], self.y_data[index]       \n",
        "    def __len__ (self):\n",
        "        return len(self.X_data)\n",
        "class TestData(torch.utils.data.Dataset):\n",
        "    def __init__(self, X_data):\n",
        "        self.X_data = X_data     \n",
        "    def __getitem__(self, index):\n",
        "        return self.X_data[index]       \n",
        "    def __len__ (self):\n",
        "        return len(self.X_data)"
      ]
    },
    {
      "cell_type": "code",
      "execution_count": 96,
      "id": "ec3af9ff",
      "metadata": {
        "id": "ec3af9ff"
      },
      "outputs": [],
      "source": [
        "def binary_acc(y_pred, y_test):\n",
        "    y_pred_tag = torch.round(torch.sigmoid(y_pred))\n",
        "    correct_results_sum = (y_pred_tag == y_test).sum().float()\n",
        "    acc = correct_results_sum/y_test.shape[0]\n",
        "    acc = torch.round(acc * 100)\n",
        "    return acc"
      ]
    },
    {
      "cell_type": "code",
      "execution_count": 97,
      "id": "b87ce52f",
      "metadata": {
        "id": "b87ce52f"
      },
      "outputs": [],
      "source": [
        "def train_model(model,optimizer,train_loader,no_epochs,print_epochs):\n",
        "    model.train()\n",
        "    for e in range(1, no_epochs+1):\n",
        "        epoch_loss = 0\n",
        "        epoch_acc = 0\n",
        "        for X_batch, y_batch in train_loader:\n",
        "            X_batch, y_batch = X_batch.to(device), y_batch.to(device)\n",
        "            optimizer.zero_grad()\n",
        "\n",
        "            y_pred_nn = model(X_batch)\n",
        "\n",
        "            loss = criterion(y_pred_nn, y_batch.unsqueeze(1))\n",
        "            acc = binary_acc(y_pred_nn, y_batch.unsqueeze(1))\n",
        "\n",
        "            loss.backward()\n",
        "            optimizer.step()\n",
        "\n",
        "            epoch_loss += loss.item()\n",
        "            epoch_acc += acc.item()\n",
        "        if print_epochs ==0:\n",
        "          pass\n",
        "        else:\n",
        "          print(f'Epoch {e+0:03}: | Loss: {epoch_loss/len(train_loader):.5f} | Acc: {epoch_acc/len(train_loader):.3f}')\n",
        "    return model"
      ]
    },
    {
      "cell_type": "code",
      "execution_count": 98,
      "id": "99f833aa",
      "metadata": {
        "id": "99f833aa"
      },
      "outputs": [],
      "source": [
        "def evaluate_model(model,test_loader,y_test):\n",
        "    y_pred_list = []\n",
        "    model.eval()\n",
        "    with torch.no_grad():\n",
        "        for X_batch in test_loader:\n",
        "            X_batch = X_batch.to(device)\n",
        "            y_test_pred = model(X_batch)\n",
        "            y_test_pred = torch.sigmoid(y_test_pred)\n",
        "            y_pred_tag = torch.round(y_test_pred)\n",
        "            y_pred_list.append(y_pred_tag.cpu().numpy())\n",
        "\n",
        "    y_pred_list = [a.squeeze().tolist() for a in y_pred_list]\n",
        "    acc=accuracy_score(y_test,y_pred_list)\n",
        "    return acc , y_pred_list"
      ]
    },
    {
      "cell_type": "code",
      "execution_count": 99,
      "id": "12bc9a47",
      "metadata": {
        "id": "12bc9a47"
      },
      "outputs": [],
      "source": [
        "def train_val(val_num):\n",
        "    val_data=pd.read_csv('/content/sample_data/val_fold_'+str(val_num)+'.csv')\n",
        "    train_data=pd.read_csv('/content/sample_data/train_fold_'+str(val_num)+'.csv')\n",
        "    return train_data,val_data"
      ]
    },
    {
      "cell_type": "code",
      "execution_count": 100,
      "id": "98a6ef65",
      "metadata": {
        "id": "98a6ef65",
        "outputId": "8c929822-9b3d-4f18-a00e-19ee67f72c0f",
        "colab": {
          "base_uri": "https://localhost:8080/"
        }
      },
      "outputs": [
        {
          "output_type": "stream",
          "name": "stdout",
          "text": [
            "Mean accuracy at 10 10 = 0.8377489264902506\n",
            "Mean accuracy at 10 20 = 0.8387102938290872\n",
            "Mean accuracy at 10 30 = 0.8384977023925235\n",
            "Mean accuracy at 10 40 = 0.8396717182088245\n",
            "Mean accuracy at 10 50 = 0\n",
            "Mean accuracy at 10 60 = 0\n",
            "Mean accuracy at 10 70 = 0\n",
            "Mean accuracy at 10 80 = 0\n",
            "Mean accuracy at 10 90 = 0\n",
            "Mean accuracy at 10 100 = 0\n",
            "Mean accuracy at 20 10 = 0.8466147936716544\n",
            "Mean accuracy at 20 20 = 0.8467214601557901\n",
            "Mean accuracy at 20 30 = 0.8453332557577085\n",
            "Mean accuracy at 20 40 = 0.8490722297516211\n",
            "Mean accuracy at 20 50 = 0.8458667593010892\n",
            "Mean accuracy at 20 60 = 0\n",
            "Mean accuracy at 20 70 = 0\n",
            "Mean accuracy at 20 80 = 0\n",
            "Mean accuracy at 20 90 = 0\n",
            "Mean accuracy at 20 100 = 0\n",
            "Mean accuracy at 30 10 = 0.8466156492851634\n",
            "Mean accuracy at 30 20 = 0.8487511465221022\n",
            "Mean accuracy at 30 30 = 0.8516347351705067\n",
            "Mean accuracy at 30 40 = 0.8500325133133462\n",
            "Mean accuracy at 30 50 = 0.8505667013475342\n",
            "Mean accuracy at 30 60 = 0.8521685239183905\n",
            "Mean accuracy at 30 70 = 0\n",
            "Mean accuracy at 30 80 = 0\n",
            "Mean accuracy at 30 90 = 0\n",
            "Mean accuracy at 30 100 = 0\n",
            "Mean accuracy at 40 10 = 0.8483241953810561\n",
            "Mean accuracy at 40 20 = 0.8504598637406966\n",
            "Mean accuracy at 40 30 = 0.8501398072473887\n",
            "Mean accuracy at 40 40 = 0.848857813006238\n",
            "Mean accuracy at 40 50 = 0.8502467589360275\n",
            "Mean accuracy at 40 60 = 0.8492853915971909\n",
            "Mean accuracy at 40 70 = 0.8502465878133256\n",
            "Mean accuracy at 40 80 = 0\n",
            "Mean accuracy at 40 90 = 0\n",
            "Mean accuracy at 40 100 = 0\n",
            "Mean accuracy at 50 10 = 0\n",
            "Mean accuracy at 50 20 = 0.8496055051313994\n",
            "Mean accuracy at 50 30 = 0.8516346210887055\n",
            "Mean accuracy at 50 40 = 0.8503534254201632\n",
            "Mean accuracy at 50 50 = 0.8515280686863709\n",
            "Mean accuracy at 50 60 = 0.8494986104836613\n",
            "Mean accuracy at 50 70 = 0.8502472152632323\n",
            "Mean accuracy at 50 80 = 0.8499253905020056\n",
            "Mean accuracy at 50 90 = 0\n",
            "Mean accuracy at 50 100 = 0\n",
            "Mean accuracy at 60 10 = 0\n",
            "Mean accuracy at 60 20 = 0\n",
            "Mean accuracy at 60 30 = 0.8498195225904782\n",
            "Mean accuracy at 60 40 = 0.8496054480904989\n",
            "Mean accuracy at 60 50 = 0.8513142793908944\n",
            "Mean accuracy at 60 60 = 0.8497127420245413\n",
            "Mean accuracy at 60 70 = 0.8486438525880597\n",
            "Mean accuracy at 60 80 = 0.8520623708023601\n",
            "Mean accuracy at 60 90 = 0.8500324562724456\n",
            "Mean accuracy at 60 100 = 0\n",
            "Mean accuracy at 70 10 = 0\n",
            "Mean accuracy at 70 20 = 0\n",
            "Mean accuracy at 70 30 = 0\n",
            "Mean accuracy at 70 40 = 0.8503528550111572\n",
            "Mean accuracy at 70 50 = 0.8499260179519122\n",
            "Mean accuracy at 70 60 = 0.8511011175453247\n",
            "Mean accuracy at 70 70 = 0.8525963306729457\n",
            "Mean accuracy at 70 80 = 0.854199008857311\n",
            "Mean accuracy at 70 90 = 0.8475757617241867\n",
            "Mean accuracy at 70 100 = 0.8519555902364231\n",
            "Mean accuracy at 80 10 = 0\n",
            "Mean accuracy at 80 20 = 0\n",
            "Mean accuracy at 80 30 = 0\n",
            "Mean accuracy at 80 40 = 0\n",
            "Mean accuracy at 80 50 = 0.849712057533734\n",
            "Mean accuracy at 80 60 = 0.8523829406637735\n",
            "Mean accuracy at 80 70 = 0.8521689232046947\n",
            "Mean accuracy at 80 80 = 0.8524894930661081\n",
            "Mean accuracy at 80 90 = 0.8503534254201632\n",
            "Mean accuracy at 80 100 = 0.8512074417840568\n",
            "Mean accuracy at 90 10 = 0\n",
            "Mean accuracy at 90 20 = 0\n",
            "Mean accuracy at 90 30 = 0\n",
            "Mean accuracy at 90 40 = 0\n",
            "Mean accuracy at 90 50 = 0\n",
            "Mean accuracy at 90 60 = 0.8486444800379664\n",
            "Mean accuracy at 90 70 = 0.8513146216362981\n",
            "Mean accuracy at 90 80 = 0.8519555902364231\n",
            "Mean accuracy at 90 90 = 0.851313766022789\n",
            "Mean accuracy at 90 100 = 0.8496048206405922\n",
            "Mean accuracy at 100 10 = 0\n",
            "Mean accuracy at 100 20 = 0\n",
            "Mean accuracy at 100 30 = 0\n",
            "Mean accuracy at 100 40 = 0\n",
            "Mean accuracy at 100 50 = 0\n",
            "Mean accuracy at 100 60 = 0\n",
            "Mean accuracy at 100 70 = 0.8520620285569565\n",
            "Mean accuracy at 100 80 = 0.8533443080026102\n",
            "Mean accuracy at 100 90 = 0.85184823926148\n",
            "Mean accuracy at 100 100 = 0.8518482963023807\n"
          ]
        }
      ],
      "source": [
        "h1_range=range(10,101,10)\n",
        "h2_range=range(10,101,10)\n",
        "accuracies=[]\n",
        "for i in h1_range:\n",
        "    row=[]\n",
        "    for j in h2_range:\n",
        "        accs=[]\n",
        "        if (j-i<=30 and j>=i) or (j-i>=-30 and j<=i):\n",
        "          for k in range(1,6):\n",
        "              train_data_tune,val_data_tune=train_val(k)\n",
        "              X_train_tune = train_data_tune.drop(columns = ['class']).copy()\n",
        "              y_train_tune = train_data_tune['class']\n",
        "              X_val_tune = val_data_tune.drop(columns = ['class']).copy()\n",
        "              y_val_tune = val_data_tune['class']\n",
        "              scaler = StandardScaler()\n",
        "              X_train_tune = scaler.fit_transform(X_train_tune)\n",
        "              X_val_tune = scaler.transform(X_val_tune)\n",
        "              train_data_tune = TrainData(torch.FloatTensor(X_train_tune),torch.FloatTensor(y_train_tune))\n",
        "              val_data_tune = TestData(torch.FloatTensor(X_val_tune))\n",
        "              train_loader_tune = DataLoader(dataset=train_data_tune, batch_size=512)\n",
        "              val_loader_tune = DataLoader(dataset=val_data_tune, batch_size=1)\n",
        "              model = Gamma_nn(i,j).to(device)\n",
        "              criterion = nn.BCEWithLogitsLoss()\n",
        "              optimizer = torch.optim.Adam(model.parameters(), lr=0.001)\n",
        "              model=train_model(model,optimizer,train_loader_tune,100,0)\n",
        "              acc,ypl=evaluate_model(model,val_loader_tune,y_val_tune.values.tolist())\n",
        "              accs.append(acc)\n",
        "          mean_acc=mean(accs)\n",
        "          row.append(mean_acc)\n",
        "          print(\"Mean accuracy at \"+str(i)+\" \"+str(j)+\" = \"+str(mean_acc))\n",
        "        else:\n",
        "          row.append(0)\n",
        "          print(\"Mean accuracy at \"+str(i)+\" \"+str(j)+\" = 0\")\n",
        "    accuracies.append(row)\n"
      ]
    },
    {
      "cell_type": "code",
      "source": [
        "arr_heat=np.array(accuracies)\n",
        "ticks=[10,20,30,40,50,60,70,80,90,100]\n",
        "plt.figure(figsize=(15,15))\n",
        "ax = sns.heatmap( arr_heat ,annot=True,fmt=\".6\", linewidth = 0.5,xticklabels=ticks,yticklabels=ticks)\n",
        "plt.title( \"2-D Heat Map\" )\n",
        "plt.show()"
      ],
      "metadata": {
        "colab": {
          "base_uri": "https://localhost:8080/",
          "height": 879
        },
        "id": "Y-0HU0CQsr1E",
        "outputId": "d4e64936-8ec8-4b2b-a299-5ab029be78bf"
      },
      "id": "Y-0HU0CQsr1E",
      "execution_count": 101,
      "outputs": [
        {
          "output_type": "display_data",
          "data": {
            "text/plain": [
              "<Figure size 1080x1080 with 2 Axes>"
            ],
            "image/png": "[encoded data removed]"
          },
          "metadata": {
            "needs_background": "light"
          }
        }
      ]
    },
    {
      "cell_type": "markdown",
      "source": [
        "## From the heatmap , it is shown that 70 , 80 combinations gives heighest accuracy"
      ],
      "metadata": {
        "id": "_CDGMK2Ohyja"
      },
      "id": "_CDGMK2Ohyja"
    },
    {
      "cell_type": "code",
      "execution_count": 102,
      "id": "418c2db3",
      "metadata": {
        "id": "418c2db3",
        "colab": {
          "base_uri": "https://localhost:8080/",
          "height": 424
        },
        "outputId": "6df99c12-d4e7-43ca-e6fe-c14c852abe58"
      },
      "outputs": [
        {
          "output_type": "execute_result",
          "data": {
            "text/plain": [
              "       fLength   fWidth   fSize   fConc  fConc1    fAsym  fM3Long  fM3Trans  \\\n",
              "5291   32.0020  22.0948  2.6149  0.2718  0.1566 -19.6795 -25.2602  -10.9333   \n",
              "6065   12.6834  11.6968  2.1351  0.6960  0.3919  15.7979  -9.6666    0.5806   \n",
              "3991   75.5326  29.0068  3.2583  0.3608  0.2232  34.4086 -47.6490   21.1596   \n",
              "12093  18.0358   8.7369  2.4388  0.5838  0.2898 -23.9383  -8.4160   -5.6080   \n",
              "3940   19.4624  12.5574  2.3738  0.4989  0.2981   1.2733  -8.3848  -10.1565   \n",
              "...        ...      ...     ...     ...     ...      ...      ...       ...   \n",
              "7956   21.2450  12.6979  2.5443  0.5535  0.2768   0.1920  24.5095   -8.6167   \n",
              "12270  78.6741  48.7446  3.2160  0.1088  0.0569  18.5380  18.8247  -38.5338   \n",
              "5485   27.0280  10.1215  2.4433  0.5081  0.2649  38.4014 -16.4370    6.4502   \n",
              "4391   41.1210  20.2472  2.7889  0.2569  0.1439   9.0304 -22.6301  -11.6170   \n",
              "1326   18.7801  12.7489  2.4385  0.5683  0.3005  14.6127  13.6885   -6.3620   \n",
              "\n",
              "        fAlpha     fDist  class  \n",
              "5291   19.5760  157.8390      1  \n",
              "6065   53.0220  112.6560      1  \n",
              "3991    2.4050  365.0450      1  \n",
              "12093  83.4883  162.4455      0  \n",
              "3940   15.0010  140.9150      1  \n",
              "...        ...       ...    ...  \n",
              "7956   64.1640  215.0051      0  \n",
              "12270   1.7904  138.3050      0  \n",
              "5485   65.9551   56.2666      1  \n",
              "4391    6.0005  233.6900      1  \n",
              "1326   84.5089   40.3003      1  \n",
              "\n",
              "[9362 rows x 11 columns]"
            ],
            "text/html": [
              "\n",
              "  <div id=\"df-5f6bd681-c1be-4f4f-8ab9-24419ac63885\">\n",
              "    <div class=\"colab-df-container\">\n",
              "      <div>\n",
              "<style scoped>\n",
              "    .dataframe tbody tr th:only-of-type {\n",
              "        vertical-align: middle;\n",
              "    }\n",
              "\n",
              "    .dataframe tbody tr th {\n",
              "        vertical-align: top;\n",
              "    }\n",
              "\n",
              "    .dataframe thead th {\n",
              "        text-align: right;\n",
              "    }\n",
              "</style>\n",
              "<table border=\"1\" class=\"dataframe\">\n",
              "  <thead>\n",
              "    <tr style=\"text-align: right;\">\n",
              "      <th></th>\n",
              "      <th>fLength</th>\n",
              "      <th>fWidth</th>\n",
              "      <th>fSize</th>\n",
              "      <th>fConc</th>\n",
              "      <th>fConc1</th>\n",
              "      <th>fAsym</th>\n",
              "      <th>fM3Long</th>\n",
              "      <th>fM3Trans</th>\n",
              "      <th>fAlpha</th>\n",
              "      <th>fDist</th>\n",
              "      <th>class</th>\n",
              "    </tr>\n",
              "  </thead>\n",
              "  <tbody>\n",
              "    <tr>\n",
              "      <th>5291</th>\n",
              "      <td>32.0020</td>\n",
              "      <td>22.0948</td>\n",
              "      <td>2.6149</td>\n",
              "      <td>0.2718</td>\n",
              "      <td>0.1566</td>\n",
              "      <td>-19.6795</td>\n",
              "      <td>-25.2602</td>\n",
              "      <td>-10.9333</td>\n",
              "      <td>19.5760</td>\n",
              "      <td>157.8390</td>\n",
              "      <td>1</td>\n",
              "    </tr>\n",
              "    <tr>\n",
              "      <th>6065</th>\n",
              "      <td>12.6834</td>\n",
              "      <td>11.6968</td>\n",
              "      <td>2.1351</td>\n",
              "      <td>0.6960</td>\n",
              "      <td>0.3919</td>\n",
              "      <td>15.7979</td>\n",
              "      <td>-9.6666</td>\n",
              "      <td>0.5806</td>\n",
              "      <td>53.0220</td>\n",
              "      <td>112.6560</td>\n",
              "      <td>1</td>\n",
              "    </tr>\n",
              "    <tr>\n",
              "      <th>3991</th>\n",
              "      <td>75.5326</td>\n",
              "      <td>29.0068</td>\n",
              "      <td>3.2583</td>\n",
              "      <td>0.3608</td>\n",
              "      <td>0.2232</td>\n",
              "      <td>34.4086</td>\n",
              "      <td>-47.6490</td>\n",
              "      <td>21.1596</td>\n",
              "      <td>2.4050</td>\n",
              "      <td>365.0450</td>\n",
              "      <td>1</td>\n",
              "    </tr>\n",
              "    <tr>\n",
              "      <th>12093</th>\n",
              "      <td>18.0358</td>\n",
              "      <td>8.7369</td>\n",
              "      <td>2.4388</td>\n",
              "      <td>0.5838</td>\n",
              "      <td>0.2898</td>\n",
              "      <td>-23.9383</td>\n",
              "      <td>-8.4160</td>\n",
              "      <td>-5.6080</td>\n",
              "      <td>83.4883</td>\n",
              "      <td>162.4455</td>\n",
              "      <td>0</td>\n",
              "    </tr>\n",
              "    <tr>\n",
              "      <th>3940</th>\n",
              "      <td>19.4624</td>\n",
              "      <td>12.5574</td>\n",
              "      <td>2.3738</td>\n",
              "      <td>0.4989</td>\n",
              "      <td>0.2981</td>\n",
              "      <td>1.2733</td>\n",
              "      <td>-8.3848</td>\n",
              "      <td>-10.1565</td>\n",
              "      <td>15.0010</td>\n",
              "      <td>140.9150</td>\n",
              "      <td>1</td>\n",
              "    </tr>\n",
              "    <tr>\n",
              "      <th>...</th>\n",
              "      <td>...</td>\n",
              "      <td>...</td>\n",
              "      <td>...</td>\n",
              "      <td>...</td>\n",
              "      <td>...</td>\n",
              "      <td>...</td>\n",
              "      <td>...</td>\n",
              "      <td>...</td>\n",
              "      <td>...</td>\n",
              "      <td>...</td>\n",
              "      <td>...</td>\n",
              "    </tr>\n",
              "    <tr>\n",
              "      <th>7956</th>\n",
              "      <td>21.2450</td>\n",
              "      <td>12.6979</td>\n",
              "      <td>2.5443</td>\n",
              "      <td>0.5535</td>\n",
              "      <td>0.2768</td>\n",
              "      <td>0.1920</td>\n",
              "      <td>24.5095</td>\n",
              "      <td>-8.6167</td>\n",
              "      <td>64.1640</td>\n",
              "      <td>215.0051</td>\n",
              "      <td>0</td>\n",
              "    </tr>\n",
              "    <tr>\n",
              "      <th>12270</th>\n",
              "      <td>78.6741</td>\n",
              "      <td>48.7446</td>\n",
              "      <td>3.2160</td>\n",
              "      <td>0.1088</td>\n",
              "      <td>0.0569</td>\n",
              "      <td>18.5380</td>\n",
              "      <td>18.8247</td>\n",
              "      <td>-38.5338</td>\n",
              "      <td>1.7904</td>\n",
              "      <td>138.3050</td>\n",
              "      <td>0</td>\n",
              "    </tr>\n",
              "    <tr>\n",
              "      <th>5485</th>\n",
              "      <td>27.0280</td>\n",
              "      <td>10.1215</td>\n",
              "      <td>2.4433</td>\n",
              "      <td>0.5081</td>\n",
              "      <td>0.2649</td>\n",
              "      <td>38.4014</td>\n",
              "      <td>-16.4370</td>\n",
              "      <td>6.4502</td>\n",
              "      <td>65.9551</td>\n",
              "      <td>56.2666</td>\n",
              "      <td>1</td>\n",
              "    </tr>\n",
              "    <tr>\n",
              "      <th>4391</th>\n",
              "      <td>41.1210</td>\n",
              "      <td>20.2472</td>\n",
              "      <td>2.7889</td>\n",
              "      <td>0.2569</td>\n",
              "      <td>0.1439</td>\n",
              "      <td>9.0304</td>\n",
              "      <td>-22.6301</td>\n",
              "      <td>-11.6170</td>\n",
              "      <td>6.0005</td>\n",
              "      <td>233.6900</td>\n",
              "      <td>1</td>\n",
              "    </tr>\n",
              "    <tr>\n",
              "      <th>1326</th>\n",
              "      <td>18.7801</td>\n",
              "      <td>12.7489</td>\n",
              "      <td>2.4385</td>\n",
              "      <td>0.5683</td>\n",
              "      <td>0.3005</td>\n",
              "      <td>14.6127</td>\n",
              "      <td>13.6885</td>\n",
              "      <td>-6.3620</td>\n",
              "      <td>84.5089</td>\n",
              "      <td>40.3003</td>\n",
              "      <td>1</td>\n",
              "    </tr>\n",
              "  </tbody>\n",
              "</table>\n",
              "<p>9362 rows × 11 columns</p>\n",
              "</div>\n",
              "      <button class=\"colab-df-convert\" onclick=\"convertToInteractive('df-5f6bd681-c1be-4f4f-8ab9-24419ac63885')\"\n",
              "              title=\"Convert this dataframe to an interactive table.\"\n",
              "              style=\"display:none;\">\n",
              "        \n",
              "  <svg xmlns=\"http://www.w3.org/2000/svg\" height=\"24px\"viewBox=\"0 0 24 24\"\n",
              "       width=\"24px\">\n",
              "    <path d=\"M0 0h24v24H0V0z\" fill=\"none\"/>\n",
              "    <path d=\"M18.56 5.44l.94 2.06.94-2.06 2.06-.94-2.06-.94-.94-2.06-.94 2.06-2.06.94zm-11 1L8.5 8.5l.94-2.06 2.06-.94-2.06-.94L8.5 2.5l-.94 2.06-2.06.94zm10 10l.94 2.06.94-2.06 2.06-.94-2.06-.94-.94-2.06-.94 2.06-2.06.94z\"/><path d=\"M17.41 7.96l-1.37-1.37c-.4-.4-.92-.59-1.43-.59-.52 0-1.04.2-1.43.59L10.3 9.45l-7.72 7.72c-.78.78-.78 2.05 0 2.83L4 21.41c.39.39.9.59 1.41.59.51 0 1.02-.2 1.41-.59l7.78-7.78 2.81-2.81c.8-.78.8-2.07 0-2.86zM5.41 20L4 18.59l7.72-7.72 1.47 1.35L5.41 20z\"/>\n",
              "  </svg>\n",
              "      </button>\n",
              "      \n",
              "  <style>\n",
              "    .colab-df-container {\n",
              "      display:flex;\n",
              "      flex-wrap:wrap;\n",
              "      gap: 12px;\n",
              "    }\n",
              "\n",
              "    .colab-df-convert {\n",
              "      background-color: #E8F0FE;\n",
              "      border: none;\n",
              "      border-radius: 50%;\n",
              "      cursor: pointer;\n",
              "      display: none;\n",
              "      fill: #1967D2;\n",
              "      height: 32px;\n",
              "      padding: 0 0 0 0;\n",
              "      width: 32px;\n",
              "    }\n",
              "\n",
              "    .colab-df-convert:hover {\n",
              "      background-color: #E2EBFA;\n",
              "      box-shadow: 0px 1px 2px rgba(60, 64, 67, 0.3), 0px 1px 3px 1px rgba(60, 64, 67, 0.15);\n",
              "      fill: #174EA6;\n",
              "    }\n",
              "\n",
              "    [theme=dark] .colab-df-convert {\n",
              "      background-color: #3B4455;\n",
              "      fill: #D2E3FC;\n",
              "    }\n",
              "\n",
              "    [theme=dark] .colab-df-convert:hover {\n",
              "      background-color: #434B5C;\n",
              "      box-shadow: 0px 1px 3px 1px rgba(0, 0, 0, 0.15);\n",
              "      filter: drop-shadow(0px 1px 2px rgba(0, 0, 0, 0.3));\n",
              "      fill: #FFFFFF;\n",
              "    }\n",
              "  </style>\n",
              "\n",
              "      <script>\n",
              "        const buttonEl =\n",
              "          document.querySelector('#df-5f6bd681-c1be-4f4f-8ab9-24419ac63885 button.colab-df-convert');\n",
              "        buttonEl.style.display =\n",
              "          google.colab.kernel.accessAllowed ? 'block' : 'none';\n",
              "\n",
              "        async function convertToInteractive(key) {\n",
              "          const element = document.querySelector('#df-5f6bd681-c1be-4f4f-8ab9-24419ac63885');\n",
              "          const dataTable =\n",
              "            await google.colab.kernel.invokeFunction('convertToInteractive',\n",
              "                                                     [key], {});\n",
              "          if (!dataTable) return;\n",
              "\n",
              "          const docLinkHtml = 'Like what you see? Visit the ' +\n",
              "            '<a target=\"_blank\" href=https://colab.research.google.com/notebooks/data_table.ipynb>data table notebook</a>'\n",
              "            + ' to learn more about interactive tables.';\n",
              "          element.innerHTML = '';\n",
              "          dataTable['output_type'] = 'display_data';\n",
              "          await google.colab.output.renderOutput(dataTable, element);\n",
              "          const docLink = document.createElement('div');\n",
              "          docLink.innerHTML = docLinkHtml;\n",
              "          element.appendChild(docLink);\n",
              "        }\n",
              "      </script>\n",
              "    </div>\n",
              "  </div>\n",
              "  "
            ]
          },
          "metadata": {},
          "execution_count": 102
        }
      ],
      "source": [
        "train_data"
      ]
    },
    {
      "cell_type": "code",
      "execution_count": 103,
      "id": "691c9323",
      "metadata": {
        "id": "691c9323",
        "colab": {
          "base_uri": "https://localhost:8080/",
          "height": 424
        },
        "outputId": "d4831b44-cadb-40a0-8def-542057f1d6d7"
      },
      "outputs": [
        {
          "output_type": "execute_result",
          "data": {
            "text/plain": [
              "        fLength   fWidth   fSize   fConc  fConc1     fAsym  fM3Long  fM3Trans  \\\n",
              "7442    99.1099  39.7409  3.8987  0.0934  0.0652 -117.5310 -44.9747   28.6933   \n",
              "13086   52.4120  11.8978  3.1020  0.2183  0.1087   44.0730  32.7187   -6.6120   \n",
              "5670    62.0774  34.8600  3.8463  0.1375  0.0713   45.4124  50.7490  -20.3151   \n",
              "3908   102.5020  41.1610  4.1093  0.0975  0.0503   58.8221  89.5152  -27.2893   \n",
              "1982    24.3834  10.0560  2.3233  0.5131  0.2874   14.5388 -15.1356   -5.1963   \n",
              "...         ...      ...     ...     ...     ...       ...      ...       ...   \n",
              "1099    42.6868  19.2865  3.0710  0.2607  0.1380   17.4673  41.7046   10.7413   \n",
              "1023    26.6190  18.0992  2.5933  0.3546  0.1926   -5.3782  14.4070   10.3654   \n",
              "6365    27.6904  15.0452  2.6395  0.3647  0.2099   15.8284   9.4247    8.6228   \n",
              "7078    41.5880  17.8972  2.5185  0.3121  0.1561   19.1734  33.8760   13.6871   \n",
              "461     57.1095  19.0139  2.6527  0.2469  0.1301  -25.0464  44.8621  -11.3247   \n",
              "\n",
              "        fAlpha     fDist  class  \n",
              "7442   42.8955  233.9286      0  \n",
              "13086  36.3549  140.0659      0  \n",
              "5670    3.6350  198.9220      1  \n",
              "3908    2.8400  268.6130      1  \n",
              "1982   35.9130   58.9320      1  \n",
              "...        ...       ...    ...  \n",
              "1099    4.8021  234.3370      1  \n",
              "1023    8.3473  152.8290      1  \n",
              "6365   28.9887  177.8650      1  \n",
              "7078   35.1370  110.5590      0  \n",
              "461    34.6130  168.1470      1  \n",
              "\n",
              "[4014 rows x 11 columns]"
            ],
            "text/html": [
              "\n",
              "  <div id=\"df-173feb22-00a1-4e1a-8d36-09b0db6c6c4a\">\n",
              "    <div class=\"colab-df-container\">\n",
              "      <div>\n",
              "<style scoped>\n",
              "    .dataframe tbody tr th:only-of-type {\n",
              "        vertical-align: middle;\n",
              "    }\n",
              "\n",
              "    .dataframe tbody tr th {\n",
              "        vertical-align: top;\n",
              "    }\n",
              "\n",
              "    .dataframe thead th {\n",
              "        text-align: right;\n",
              "    }\n",
              "</style>\n",
              "<table border=\"1\" class=\"dataframe\">\n",
              "  <thead>\n",
              "    <tr style=\"text-align: right;\">\n",
              "      <th></th>\n",
              "      <th>fLength</th>\n",
              "      <th>fWidth</th>\n",
              "      <th>fSize</th>\n",
              "      <th>fConc</th>\n",
              "      <th>fConc1</th>\n",
              "      <th>fAsym</th>\n",
              "      <th>fM3Long</th>\n",
              "      <th>fM3Trans</th>\n",
              "      <th>fAlpha</th>\n",
              "      <th>fDist</th>\n",
              "      <th>class</th>\n",
              "    </tr>\n",
              "  </thead>\n",
              "  <tbody>\n",
              "    <tr>\n",
              "      <th>7442</th>\n",
              "      <td>99.1099</td>\n",
              "      <td>39.7409</td>\n",
              "      <td>3.8987</td>\n",
              "      <td>0.0934</td>\n",
              "      <td>0.0652</td>\n",
              "      <td>-117.5310</td>\n",
              "      <td>-44.9747</td>\n",
              "      <td>28.6933</td>\n",
              "      <td>42.8955</td>\n",
              "      <td>233.9286</td>\n",
              "      <td>0</td>\n",
              "    </tr>\n",
              "    <tr>\n",
              "      <th>13086</th>\n",
              "      <td>52.4120</td>\n",
              "      <td>11.8978</td>\n",
              "      <td>3.1020</td>\n",
              "      <td>0.2183</td>\n",
              "      <td>0.1087</td>\n",
              "      <td>44.0730</td>\n",
              "      <td>32.7187</td>\n",
              "      <td>-6.6120</td>\n",
              "      <td>36.3549</td>\n",
              "      <td>140.0659</td>\n",
              "      <td>0</td>\n",
              "    </tr>\n",
              "    <tr>\n",
              "      <th>5670</th>\n",
              "      <td>62.0774</td>\n",
              "      <td>34.8600</td>\n",
              "      <td>3.8463</td>\n",
              "      <td>0.1375</td>\n",
              "      <td>0.0713</td>\n",
              "      <td>45.4124</td>\n",
              "      <td>50.7490</td>\n",
              "      <td>-20.3151</td>\n",
              "      <td>3.6350</td>\n",
              "      <td>198.9220</td>\n",
              "      <td>1</td>\n",
              "    </tr>\n",
              "    <tr>\n",
              "      <th>3908</th>\n",
              "      <td>102.5020</td>\n",
              "      <td>41.1610</td>\n",
              "      <td>4.1093</td>\n",
              "      <td>0.0975</td>\n",
              "      <td>0.0503</td>\n",
              "      <td>58.8221</td>\n",
              "      <td>89.5152</td>\n",
              "      <td>-27.2893</td>\n",
              "      <td>2.8400</td>\n",
              "      <td>268.6130</td>\n",
              "      <td>1</td>\n",
              "    </tr>\n",
              "    <tr>\n",
              "      <th>1982</th>\n",
              "      <td>24.3834</td>\n",
              "      <td>10.0560</td>\n",
              "      <td>2.3233</td>\n",
              "      <td>0.5131</td>\n",
              "      <td>0.2874</td>\n",
              "      <td>14.5388</td>\n",
              "      <td>-15.1356</td>\n",
              "      <td>-5.1963</td>\n",
              "      <td>35.9130</td>\n",
              "      <td>58.9320</td>\n",
              "      <td>1</td>\n",
              "    </tr>\n",
              "    <tr>\n",
              "      <th>...</th>\n",
              "      <td>...</td>\n",
              "      <td>...</td>\n",
              "      <td>...</td>\n",
              "      <td>...</td>\n",
              "      <td>...</td>\n",
              "      <td>...</td>\n",
              "      <td>...</td>\n",
              "      <td>...</td>\n",
              "      <td>...</td>\n",
              "      <td>...</td>\n",
              "      <td>...</td>\n",
              "    </tr>\n",
              "    <tr>\n",
              "      <th>1099</th>\n",
              "      <td>42.6868</td>\n",
              "      <td>19.2865</td>\n",
              "      <td>3.0710</td>\n",
              "      <td>0.2607</td>\n",
              "      <td>0.1380</td>\n",
              "      <td>17.4673</td>\n",
              "      <td>41.7046</td>\n",
              "      <td>10.7413</td>\n",
              "      <td>4.8021</td>\n",
              "      <td>234.3370</td>\n",
              "      <td>1</td>\n",
              "    </tr>\n",
              "    <tr>\n",
              "      <th>1023</th>\n",
              "      <td>26.6190</td>\n",
              "      <td>18.0992</td>\n",
              "      <td>2.5933</td>\n",
              "      <td>0.3546</td>\n",
              "      <td>0.1926</td>\n",
              "      <td>-5.3782</td>\n",
              "      <td>14.4070</td>\n",
              "      <td>10.3654</td>\n",
              "      <td>8.3473</td>\n",
              "      <td>152.8290</td>\n",
              "      <td>1</td>\n",
              "    </tr>\n",
              "    <tr>\n",
              "      <th>6365</th>\n",
              "      <td>27.6904</td>\n",
              "      <td>15.0452</td>\n",
              "      <td>2.6395</td>\n",
              "      <td>0.3647</td>\n",
              "      <td>0.2099</td>\n",
              "      <td>15.8284</td>\n",
              "      <td>9.4247</td>\n",
              "      <td>8.6228</td>\n",
              "      <td>28.9887</td>\n",
              "      <td>177.8650</td>\n",
              "      <td>1</td>\n",
              "    </tr>\n",
              "    <tr>\n",
              "      <th>7078</th>\n",
              "      <td>41.5880</td>\n",
              "      <td>17.8972</td>\n",
              "      <td>2.5185</td>\n",
              "      <td>0.3121</td>\n",
              "      <td>0.1561</td>\n",
              "      <td>19.1734</td>\n",
              "      <td>33.8760</td>\n",
              "      <td>13.6871</td>\n",
              "      <td>35.1370</td>\n",
              "      <td>110.5590</td>\n",
              "      <td>0</td>\n",
              "    </tr>\n",
              "    <tr>\n",
              "      <th>461</th>\n",
              "      <td>57.1095</td>\n",
              "      <td>19.0139</td>\n",
              "      <td>2.6527</td>\n",
              "      <td>0.2469</td>\n",
              "      <td>0.1301</td>\n",
              "      <td>-25.0464</td>\n",
              "      <td>44.8621</td>\n",
              "      <td>-11.3247</td>\n",
              "      <td>34.6130</td>\n",
              "      <td>168.1470</td>\n",
              "      <td>1</td>\n",
              "    </tr>\n",
              "  </tbody>\n",
              "</table>\n",
              "<p>4014 rows × 11 columns</p>\n",
              "</div>\n",
              "      <button class=\"colab-df-convert\" onclick=\"convertToInteractive('df-173feb22-00a1-4e1a-8d36-09b0db6c6c4a')\"\n",
              "              title=\"Convert this dataframe to an interactive table.\"\n",
              "              style=\"display:none;\">\n",
              "        \n",
              "  <svg xmlns=\"http://www.w3.org/2000/svg\" height=\"24px\"viewBox=\"0 0 24 24\"\n",
              "       width=\"24px\">\n",
              "    <path d=\"M0 0h24v24H0V0z\" fill=\"none\"/>\n",
              "    <path d=\"M18.56 5.44l.94 2.06.94-2.06 2.06-.94-2.06-.94-.94-2.06-.94 2.06-2.06.94zm-11 1L8.5 8.5l.94-2.06 2.06-.94-2.06-.94L8.5 2.5l-.94 2.06-2.06.94zm10 10l.94 2.06.94-2.06 2.06-.94-2.06-.94-.94-2.06-.94 2.06-2.06.94z\"/><path d=\"M17.41 7.96l-1.37-1.37c-.4-.4-.92-.59-1.43-.59-.52 0-1.04.2-1.43.59L10.3 9.45l-7.72 7.72c-.78.78-.78 2.05 0 2.83L4 21.41c.39.39.9.59 1.41.59.51 0 1.02-.2 1.41-.59l7.78-7.78 2.81-2.81c.8-.78.8-2.07 0-2.86zM5.41 20L4 18.59l7.72-7.72 1.47 1.35L5.41 20z\"/>\n",
              "  </svg>\n",
              "      </button>\n",
              "      \n",
              "  <style>\n",
              "    .colab-df-container {\n",
              "      display:flex;\n",
              "      flex-wrap:wrap;\n",
              "      gap: 12px;\n",
              "    }\n",
              "\n",
              "    .colab-df-convert {\n",
              "      background-color: #E8F0FE;\n",
              "      border: none;\n",
              "      border-radius: 50%;\n",
              "      cursor: pointer;\n",
              "      display: none;\n",
              "      fill: #1967D2;\n",
              "      height: 32px;\n",
              "      padding: 0 0 0 0;\n",
              "      width: 32px;\n",
              "    }\n",
              "\n",
              "    .colab-df-convert:hover {\n",
              "      background-color: #E2EBFA;\n",
              "      box-shadow: 0px 1px 2px rgba(60, 64, 67, 0.3), 0px 1px 3px 1px rgba(60, 64, 67, 0.15);\n",
              "      fill: #174EA6;\n",
              "    }\n",
              "\n",
              "    [theme=dark] .colab-df-convert {\n",
              "      background-color: #3B4455;\n",
              "      fill: #D2E3FC;\n",
              "    }\n",
              "\n",
              "    [theme=dark] .colab-df-convert:hover {\n",
              "      background-color: #434B5C;\n",
              "      box-shadow: 0px 1px 3px 1px rgba(0, 0, 0, 0.15);\n",
              "      filter: drop-shadow(0px 1px 2px rgba(0, 0, 0, 0.3));\n",
              "      fill: #FFFFFF;\n",
              "    }\n",
              "  </style>\n",
              "\n",
              "      <script>\n",
              "        const buttonEl =\n",
              "          document.querySelector('#df-173feb22-00a1-4e1a-8d36-09b0db6c6c4a button.colab-df-convert');\n",
              "        buttonEl.style.display =\n",
              "          google.colab.kernel.accessAllowed ? 'block' : 'none';\n",
              "\n",
              "        async function convertToInteractive(key) {\n",
              "          const element = document.querySelector('#df-173feb22-00a1-4e1a-8d36-09b0db6c6c4a');\n",
              "          const dataTable =\n",
              "            await google.colab.kernel.invokeFunction('convertToInteractive',\n",
              "                                                     [key], {});\n",
              "          if (!dataTable) return;\n",
              "\n",
              "          const docLinkHtml = 'Like what you see? Visit the ' +\n",
              "            '<a target=\"_blank\" href=https://colab.research.google.com/notebooks/data_table.ipynb>data table notebook</a>'\n",
              "            + ' to learn more about interactive tables.';\n",
              "          element.innerHTML = '';\n",
              "          dataTable['output_type'] = 'display_data';\n",
              "          await google.colab.output.renderOutput(dataTable, element);\n",
              "          const docLink = document.createElement('div');\n",
              "          docLink.innerHTML = docLinkHtml;\n",
              "          element.appendChild(docLink);\n",
              "        }\n",
              "      </script>\n",
              "    </div>\n",
              "  </div>\n",
              "  "
            ]
          },
          "metadata": {},
          "execution_count": 103
        }
      ],
      "source": [
        "test_data"
      ]
    },
    {
      "cell_type": "code",
      "source": [
        "X_train_nn = train_data.drop(columns = ['class']).copy()\n",
        "y_train_nn = train_data['class']\n",
        "X_test_nn = test_data.drop(columns = ['class']).copy()\n",
        "y_test_nn = test_data['class']"
      ],
      "metadata": {
        "id": "6xPgKUyJ8oxb"
      },
      "id": "6xPgKUyJ8oxb",
      "execution_count": 104,
      "outputs": []
    },
    {
      "cell_type": "markdown",
      "id": "9d453045",
      "metadata": {
        "id": "9d453045"
      },
      "source": [
        "## Final Model"
      ]
    },
    {
      "cell_type": "code",
      "execution_count": 105,
      "id": "54ce184d",
      "metadata": {
        "id": "54ce184d"
      },
      "outputs": [],
      "source": [
        "scaler = StandardScaler()\n",
        "X_train_nn = scaler.fit_transform(X_train_nn)\n",
        "X_test_nn = scaler.transform(X_test_nn)"
      ]
    },
    {
      "cell_type": "code",
      "execution_count": 106,
      "id": "6ce7bd57",
      "metadata": {
        "id": "6ce7bd57"
      },
      "outputs": [],
      "source": [
        "train_data = TrainData(torch.FloatTensor(X_train_nn),torch.FloatTensor(y_train_nn))\n",
        "test_data = TestData(torch.FloatTensor(X_test_nn))"
      ]
    },
    {
      "cell_type": "code",
      "execution_count": 107,
      "id": "21f866be",
      "metadata": {
        "id": "21f866be"
      },
      "outputs": [],
      "source": [
        "train_loader = DataLoader(dataset=train_data, batch_size=512)\n",
        "test_loader = DataLoader(dataset=test_data, batch_size=1)"
      ]
    },
    {
      "cell_type": "code",
      "source": [
        "model = Gamma_nn(70,80).to(device)\n",
        "criterion = nn.BCEWithLogitsLoss()\n",
        "optimizer = torch.optim.Adam(model.parameters(), lr=0.001)"
      ],
      "metadata": {
        "id": "7Cx10r1QvJ1R"
      },
      "id": "7Cx10r1QvJ1R",
      "execution_count": 108,
      "outputs": []
    },
    {
      "cell_type": "code",
      "source": [
        "model=train_model(model,optimizer,train_loader,100,1)"
      ],
      "metadata": {
        "colab": {
          "base_uri": "https://localhost:8080/"
        },
        "id": "uT7vDQ27vSuJ",
        "outputId": "98a16e34-1e55-41b3-db88-fb3b0ca29a36"
      },
      "id": "uT7vDQ27vSuJ",
      "execution_count": 109,
      "outputs": [
        {
          "output_type": "stream",
          "name": "stdout",
          "text": [
            "Epoch 001: | Loss: 0.66231 | Acc: 68.526\n",
            "Epoch 002: | Loss: 0.57375 | Acc: 76.474\n",
            "Epoch 003: | Loss: 0.49019 | Acc: 77.895\n",
            "Epoch 004: | Loss: 0.44695 | Acc: 78.895\n",
            "Epoch 005: | Loss: 0.42259 | Acc: 80.158\n",
            "Epoch 006: | Loss: 0.40719 | Acc: 81.053\n",
            "Epoch 007: | Loss: 0.39655 | Acc: 82.000\n",
            "Epoch 008: | Loss: 0.38851 | Acc: 82.737\n",
            "Epoch 009: | Loss: 0.38199 | Acc: 83.211\n",
            "Epoch 010: | Loss: 0.37646 | Acc: 83.526\n",
            "Epoch 011: | Loss: 0.37169 | Acc: 83.737\n",
            "Epoch 012: | Loss: 0.36745 | Acc: 83.947\n",
            "Epoch 013: | Loss: 0.36366 | Acc: 83.947\n",
            "Epoch 014: | Loss: 0.36023 | Acc: 84.211\n",
            "Epoch 015: | Loss: 0.35719 | Acc: 84.421\n",
            "Epoch 016: | Loss: 0.35443 | Acc: 84.526\n",
            "Epoch 017: | Loss: 0.35201 | Acc: 84.632\n",
            "Epoch 018: | Loss: 0.34982 | Acc: 84.789\n",
            "Epoch 019: | Loss: 0.34784 | Acc: 84.842\n",
            "Epoch 020: | Loss: 0.34598 | Acc: 85.105\n",
            "Epoch 021: | Loss: 0.34426 | Acc: 84.947\n",
            "Epoch 022: | Loss: 0.34268 | Acc: 85.105\n",
            "Epoch 023: | Loss: 0.34125 | Acc: 85.158\n",
            "Epoch 024: | Loss: 0.33991 | Acc: 85.105\n",
            "Epoch 025: | Loss: 0.33866 | Acc: 85.000\n",
            "Epoch 026: | Loss: 0.33747 | Acc: 85.105\n",
            "Epoch 027: | Loss: 0.33630 | Acc: 85.053\n",
            "Epoch 028: | Loss: 0.33517 | Acc: 85.105\n",
            "Epoch 029: | Loss: 0.33409 | Acc: 85.158\n",
            "Epoch 030: | Loss: 0.33306 | Acc: 85.105\n",
            "Epoch 031: | Loss: 0.33209 | Acc: 85.158\n",
            "Epoch 032: | Loss: 0.33110 | Acc: 85.105\n",
            "Epoch 033: | Loss: 0.33012 | Acc: 85.263\n",
            "Epoch 034: | Loss: 0.32919 | Acc: 85.263\n",
            "Epoch 035: | Loss: 0.32828 | Acc: 85.368\n",
            "Epoch 036: | Loss: 0.32741 | Acc: 85.316\n",
            "Epoch 037: | Loss: 0.32656 | Acc: 85.474\n",
            "Epoch 038: | Loss: 0.32575 | Acc: 85.526\n",
            "Epoch 039: | Loss: 0.32498 | Acc: 85.474\n",
            "Epoch 040: | Loss: 0.32420 | Acc: 85.579\n",
            "Epoch 041: | Loss: 0.32345 | Acc: 85.526\n",
            "Epoch 042: | Loss: 0.32268 | Acc: 85.579\n",
            "Epoch 043: | Loss: 0.32200 | Acc: 85.632\n",
            "Epoch 044: | Loss: 0.32129 | Acc: 85.632\n",
            "Epoch 045: | Loss: 0.32058 | Acc: 85.579\n",
            "Epoch 046: | Loss: 0.31987 | Acc: 85.579\n",
            "Epoch 047: | Loss: 0.31914 | Acc: 85.632\n",
            "Epoch 048: | Loss: 0.31844 | Acc: 85.579\n",
            "Epoch 049: | Loss: 0.31773 | Acc: 85.632\n",
            "Epoch 050: | Loss: 0.31707 | Acc: 85.684\n",
            "Epoch 051: | Loss: 0.31642 | Acc: 85.579\n",
            "Epoch 052: | Loss: 0.31577 | Acc: 85.684\n",
            "Epoch 053: | Loss: 0.31511 | Acc: 85.789\n",
            "Epoch 054: | Loss: 0.31450 | Acc: 85.842\n",
            "Epoch 055: | Loss: 0.31389 | Acc: 85.895\n",
            "Epoch 056: | Loss: 0.31323 | Acc: 85.789\n",
            "Epoch 057: | Loss: 0.31263 | Acc: 85.842\n",
            "Epoch 058: | Loss: 0.31205 | Acc: 85.895\n",
            "Epoch 059: | Loss: 0.31146 | Acc: 85.895\n",
            "Epoch 060: | Loss: 0.31089 | Acc: 85.947\n",
            "Epoch 061: | Loss: 0.31034 | Acc: 86.053\n",
            "Epoch 062: | Loss: 0.30979 | Acc: 86.053\n",
            "Epoch 063: | Loss: 0.30923 | Acc: 86.000\n",
            "Epoch 064: | Loss: 0.30869 | Acc: 86.053\n",
            "Epoch 065: | Loss: 0.30818 | Acc: 86.158\n",
            "Epoch 066: | Loss: 0.30764 | Acc: 86.105\n",
            "Epoch 067: | Loss: 0.30711 | Acc: 86.105\n",
            "Epoch 068: | Loss: 0.30658 | Acc: 86.263\n",
            "Epoch 069: | Loss: 0.30609 | Acc: 86.316\n",
            "Epoch 070: | Loss: 0.30557 | Acc: 86.316\n",
            "Epoch 071: | Loss: 0.30513 | Acc: 86.421\n",
            "Epoch 072: | Loss: 0.30460 | Acc: 86.421\n",
            "Epoch 073: | Loss: 0.30418 | Acc: 86.421\n",
            "Epoch 074: | Loss: 0.30366 | Acc: 86.526\n",
            "Epoch 075: | Loss: 0.30320 | Acc: 86.632\n",
            "Epoch 076: | Loss: 0.30274 | Acc: 86.579\n",
            "Epoch 077: | Loss: 0.30226 | Acc: 86.632\n",
            "Epoch 078: | Loss: 0.30183 | Acc: 86.579\n",
            "Epoch 079: | Loss: 0.30134 | Acc: 86.579\n",
            "Epoch 080: | Loss: 0.30090 | Acc: 86.632\n",
            "Epoch 081: | Loss: 0.30045 | Acc: 86.684\n",
            "Epoch 082: | Loss: 0.29997 | Acc: 86.632\n",
            "Epoch 083: | Loss: 0.29958 | Acc: 86.684\n",
            "Epoch 084: | Loss: 0.29914 | Acc: 86.789\n",
            "Epoch 085: | Loss: 0.29871 | Acc: 86.632\n",
            "Epoch 086: | Loss: 0.29821 | Acc: 86.684\n",
            "Epoch 087: | Loss: 0.29772 | Acc: 86.632\n",
            "Epoch 088: | Loss: 0.29727 | Acc: 86.684\n",
            "Epoch 089: | Loss: 0.29678 | Acc: 86.737\n",
            "Epoch 090: | Loss: 0.29633 | Acc: 86.737\n",
            "Epoch 091: | Loss: 0.29584 | Acc: 86.737\n",
            "Epoch 092: | Loss: 0.29539 | Acc: 86.684\n",
            "Epoch 093: | Loss: 0.29491 | Acc: 86.737\n",
            "Epoch 094: | Loss: 0.29450 | Acc: 86.842\n",
            "Epoch 095: | Loss: 0.29398 | Acc: 87.000\n",
            "Epoch 096: | Loss: 0.29357 | Acc: 87.000\n",
            "Epoch 097: | Loss: 0.29305 | Acc: 87.105\n",
            "Epoch 098: | Loss: 0.29262 | Acc: 87.158\n",
            "Epoch 099: | Loss: 0.29217 | Acc: 87.158\n",
            "Epoch 100: | Loss: 0.29172 | Acc: 87.105\n"
          ]
        }
      ]
    },
    {
      "cell_type": "code",
      "source": [
        "final_acc , final_y_pred = evaluate_model(model,test_loader,y_test_nn.values.tolist())"
      ],
      "metadata": {
        "id": "x7esDMOovtAh"
      },
      "id": "x7esDMOovtAh",
      "execution_count": 110,
      "outputs": []
    },
    {
      "cell_type": "code",
      "source": [
        "print(\"Neural network accuracy is \"+str(final_acc))"
      ],
      "metadata": {
        "colab": {
          "base_uri": "https://localhost:8080/"
        },
        "id": "cs_piztmwHt6",
        "outputId": "69a3d896-c08c-41af-c1ae-ef50d89c24ff"
      },
      "id": "cs_piztmwHt6",
      "execution_count": 111,
      "outputs": [
        {
          "output_type": "stream",
          "name": "stdout",
          "text": [
            "Neural network accuracy is 0.8500249128051819\n"
          ]
        }
      ]
    },
    {
      "cell_type": "code",
      "source": [
        "cm_nn=confusion_matrix(y_test_nn,final_y_pred)"
      ],
      "metadata": {
        "id": "b6Bb3sgjwNPv"
      },
      "id": "b6Bb3sgjwNPv",
      "execution_count": 112,
      "outputs": []
    },
    {
      "cell_type": "code",
      "source": [
        "print(classification_report(y_test_nn,final_y_pred))"
      ],
      "metadata": {
        "colab": {
          "base_uri": "https://localhost:8080/"
        },
        "id": "gBk9JljDwUGY",
        "outputId": "92d3af7f-88ea-428b-fbd2-865ac65b8045"
      },
      "id": "gBk9JljDwUGY",
      "execution_count": 113,
      "outputs": [
        {
          "output_type": "stream",
          "name": "stdout",
          "text": [
            "              precision    recall  f1-score   support\n",
            "\n",
            "           0       0.89      0.80      0.84      2007\n",
            "           1       0.82      0.90      0.86      2007\n",
            "\n",
            "    accuracy                           0.85      4014\n",
            "   macro avg       0.85      0.85      0.85      4014\n",
            "weighted avg       0.85      0.85      0.85      4014\n",
            "\n"
          ]
        }
      ]
    },
    {
      "cell_type": "code",
      "source": [
        "disp = ConfusionMatrixDisplay(confusion_matrix=cm_nn)\n",
        "disp.plot()"
      ],
      "metadata": {
        "colab": {
          "base_uri": "https://localhost:8080/",
          "height": 299
        },
        "id": "4uq5NTNk9J1z",
        "outputId": "0c2bf5e5-6cd6-4af5-f2e2-a00bb3299503"
      },
      "id": "4uq5NTNk9J1z",
      "execution_count": 115,
      "outputs": [
        {
          "output_type": "execute_result",
          "data": {
            "text/plain": [
              "<sklearn.metrics._plot.confusion_matrix.ConfusionMatrixDisplay at 0x7fc0f7869220>"
            ]
          },
          "metadata": {},
          "execution_count": 115
        },
        {
          "output_type": "display_data",
          "data": {
            "text/plain": [
              "<Figure size 432x288 with 2 Axes>"
            ],
            "image/png": "[encoded data removed]"
          },
          "metadata": {
            "needs_background": "light"
          }
        }
      ]
    },
    {
      "cell_type": "code",
      "source": [
        "nn_sens , nn_spec = sens_and_spec(cm_nn[1][1],cm_nn[0][0],cm_nn[1][0],cm_nn[0][1])\n",
        "print(\"NN sensitivity is \"+str(nn_sens))\n",
        "print(\"NN speceficity is \"+str(nn_spec))"
      ],
      "metadata": {
        "colab": {
          "base_uri": "https://localhost:8080/"
        },
        "id": "sSCtB4exwfP0",
        "outputId": "2e8e126a-658d-46aa-c70f-1bd192e1019f"
      },
      "id": "sSCtB4exwfP0",
      "execution_count": 117,
      "outputs": [
        {
          "output_type": "stream",
          "name": "stdout",
          "text": [
            "NN sensitivity is 0.9008470353761834\n",
            "NN speceficity is 0.7992027902341804\n"
          ]
        }
      ]
    },
    {
      "cell_type": "markdown",
      "source": [
        "## Neural network has better accuracy compared to our models , also specificity sounds good as it is important in our case"
      ],
      "metadata": {
        "id": "zR9x2o-n-nKa"
      },
      "id": "zR9x2o-n-nKa"
    },
    {
      "cell_type": "code",
      "source": [],
      "metadata": {
        "id": "a7oQ_H44902v"
      },
      "id": "a7oQ_H44902v",
      "execution_count": null,
      "outputs": []
    }
  ],
  "metadata": {
    "kernelspec": {
      "display_name": "Python 3 (ipykernel)",
      "language": "python",
      "name": "python3"
    },
    "language_info": {
      "codemirror_mode": {
        "name": "ipython",
        "version": 3
      },
      "file_extension": ".py",
      "mimetype": "text/x-python",
      "name": "python",
      "nbconvert_exporter": "python",
      "pygments_lexer": "ipython3",
      "version": "3.9.12"
    },
    "colab": {
      "provenance": []
    },
    "accelerator": "GPU",
    "gpuClass": "standard"
  },
  "nbformat": 4,
  "nbformat_minor": 5
}